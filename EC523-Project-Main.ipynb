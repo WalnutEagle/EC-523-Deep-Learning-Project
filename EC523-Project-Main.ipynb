{
 "cells": [
  {
   "cell_type": "markdown",
   "id": "bfedd8bb",
   "metadata": {},
   "source": [
    "## TEAM-11: 2D TO 3D EXPERIMENTING WITH GANs"
   ]
  },
  {
   "cell_type": "code",
   "execution_count": 1,
   "id": "577c88bb",
   "metadata": {},
   "outputs": [],
   "source": [
    "import torch\n",
    "torch.cuda.empty_cache()"
   ]
  },
  {
   "cell_type": "code",
   "execution_count": 2,
   "id": "f917a86f",
   "metadata": {},
   "outputs": [
    {
     "data": {
      "text/plain": [
       "0"
      ]
     },
     "execution_count": 2,
     "metadata": {},
     "output_type": "execute_result"
    }
   ],
   "source": [
    "import gc\n",
    "gc.collect()"
   ]
  },
  {
   "cell_type": "markdown",
   "id": "94d50780",
   "metadata": {},
   "source": [
    " ## Preprocessing and Data Loader"
   ]
  },
  {
   "cell_type": "code",
   "execution_count": 3,
   "id": "09fec997",
   "metadata": {},
   "outputs": [],
   "source": [
    "import torch\n",
    "import os\n",
    "from torch.utils.data import Dataset, DataLoader\n",
    "from torchvision.transforms import v2\n",
    "from PIL import Image\n",
    "import pandas as pd\n",
    "import re\n",
    "import matplotlib.pyplot as plt\n",
    "import numpy as np\n",
    "from collections import Counter\n",
    "import torch.nn as nn\n",
    "from torch.optim import Adam\n",
    "from tqdm import tqdm\n",
    "import random\n",
    "import torch.nn.init as init\n",
    "from skimage.metrics import structural_similarity as ssim\n",
    "from skimage.metrics import peak_signal_noise_ratio as psnr\n",
    "\n",
    "\n",
    "device = torch.device(\"cuda\" if torch.cuda.is_available() else \"cpu\")"
   ]
  },
  {
   "cell_type": "code",
   "execution_count": 4,
   "id": "9d6365d2",
   "metadata": {},
   "outputs": [],
   "source": [
    "def set_seed(seed):\n",
    "    random.seed(seed)  \n",
    "    np.random.seed(seed)  \n",
    "    torch.manual_seed(seed)  \n",
    "    torch.cuda.manual_seed(seed)  \n",
    "    torch.cuda.manual_seed_all(seed)  \n",
    "    torch.backends.cudnn.deterministic = True  \n",
    "    torch.backends.cudnn.benchmark = False  \n",
    "\n",
    "set_seed(42)"
   ]
  },
  {
   "cell_type": "code",
   "execution_count": 5,
   "id": "2d851e5f",
   "metadata": {},
   "outputs": [],
   "source": [
    "# paths\n",
    "csv_file = '/projectnb/ec523kb/students/avantk/indiana_projections.csv'\n",
    "image_folder = '/projectnb/ec523kb/students/avantk/images_png/'"
   ]
  },
  {
   "cell_type": "code",
   "execution_count": 6,
   "id": "f8117ca1",
   "metadata": {},
   "outputs": [
    {
     "name": "stdout",
     "output_type": "stream",
     "text": [
      "Modified CSV saved to: modified_csv_file.csv\n"
     ]
    }
   ],
   "source": [
    "data = pd.read_csv(csv_file)\n",
    "\n",
    "# matching the images and their projection type\n",
    "# adding the 'CXR' prefix to the UID and modifying the 'filename' column\n",
    "data['filename'] = data['filename'].apply(lambda x: x.replace('.dcm', ''))  # remove .dcm from the filename\n",
    "data['filename'] = data.apply(lambda row: f\"CXR{row['filename']}\", axis=1)  # Add 'CXR' before the UID\n",
    "\n",
    "\n",
    "# saving the modified CSV file\n",
    "modified_csv_file = \"modified_csv_file.csv\"  # Output CSV file\n",
    "data.to_csv(modified_csv_file, index=False)\n",
    "\n",
    "print(f\"Modified CSV saved to: {modified_csv_file}\")"
   ]
  },
  {
   "cell_type": "code",
   "execution_count": 7,
   "id": "82bfd89e",
   "metadata": {},
   "outputs": [
    {
     "data": {
      "text/html": [
       "<div>\n",
       "<style scoped>\n",
       "    .dataframe tbody tr th:only-of-type {\n",
       "        vertical-align: middle;\n",
       "    }\n",
       "\n",
       "    .dataframe tbody tr th {\n",
       "        vertical-align: top;\n",
       "    }\n",
       "\n",
       "    .dataframe thead th {\n",
       "        text-align: right;\n",
       "    }\n",
       "</style>\n",
       "<table border=\"1\" class=\"dataframe\">\n",
       "  <thead>\n",
       "    <tr style=\"text-align: right;\">\n",
       "      <th></th>\n",
       "      <th>uid</th>\n",
       "      <th>filename</th>\n",
       "      <th>projection</th>\n",
       "    </tr>\n",
       "  </thead>\n",
       "  <tbody>\n",
       "    <tr>\n",
       "      <th>0</th>\n",
       "      <td>1</td>\n",
       "      <td>CXR1_IM-0001-4001.png</td>\n",
       "      <td>Frontal</td>\n",
       "    </tr>\n",
       "    <tr>\n",
       "      <th>1</th>\n",
       "      <td>1</td>\n",
       "      <td>CXR1_IM-0001-3001.png</td>\n",
       "      <td>Lateral</td>\n",
       "    </tr>\n",
       "    <tr>\n",
       "      <th>2</th>\n",
       "      <td>2</td>\n",
       "      <td>CXR2_IM-0652-1001.png</td>\n",
       "      <td>Frontal</td>\n",
       "    </tr>\n",
       "  </tbody>\n",
       "</table>\n",
       "</div>"
      ],
      "text/plain": [
       "   uid               filename projection\n",
       "0    1  CXR1_IM-0001-4001.png    Frontal\n",
       "1    1  CXR1_IM-0001-3001.png    Lateral\n",
       "2    2  CXR2_IM-0652-1001.png    Frontal"
      ]
     },
     "execution_count": 7,
     "metadata": {},
     "output_type": "execute_result"
    }
   ],
   "source": [
    "df = pd.read_csv('modified_csv_file.csv')\n",
    "df.head(3)"
   ]
  },
  {
   "cell_type": "code",
   "execution_count": 8,
   "id": "25483b6b",
   "metadata": {},
   "outputs": [],
   "source": [
    "class CustomDataset:\n",
    "    def __init__(self, csv_file, image_folder, transforms=None):\n",
    "        self.data = pd.read_csv(csv_file)\n",
    "        self.image_folder = image_folder\n",
    "        self.transforms = transforms\n",
    "        self.image_files = os.listdir(image_folder)\n",
    "\n",
    "        # preprocessing data to filter entries based on occurrence count\n",
    "        self.data = self.filter_data()\n",
    "\n",
    "    def filter_data(self):\n",
    "        # extracting CXR identifiers from filenames\n",
    "        self.data['cxr_id'] = self.data['filename'].apply(lambda x: re.match(r'CXR\\d+', x).group())\n",
    "\n",
    "        # counting occurrences of each identifier\n",
    "        cxr_counts = Counter(self.data['cxr_id'])\n",
    "\n",
    "        # filtering out rows where cxr_id occurs only once or more than twice\n",
    "        filtered_data = self.data[self.data['cxr_id'].map(cxr_counts).between(2, 2, inclusive=\"both\")]\n",
    "\n",
    "        # dropping the temporary column\n",
    "        filtered_data = filtered_data.drop(columns=['cxr_id'])\n",
    "        return filtered_data\n",
    "\n",
    "    def __len__(self):\n",
    "        return len(self.data)\n",
    "\n",
    "    def __getitem__(self, idx):\n",
    "        # getting the row from the filtered .csv file\n",
    "        row = self.data.iloc[idx]\n",
    "        csv_filename = row['filename']\n",
    "        projection = row['projection']\n",
    "\n",
    "        # finding the image file that matches the CSV filename\n",
    "        image_path = os.path.join(self.image_folder, csv_filename)\n",
    "        if not os.path.exists(image_path):\n",
    "            print(f\"Image not found for {csv_filename}\")\n",
    "            return None\n",
    "\n",
    "#         try:\n",
    "#             image = Image.open(image_path)\n",
    "#         except FileNotFoundError:\n",
    "#             print(f\"Image not found at {image_path}\")\n",
    "#             return None\n",
    "        \n",
    "        try:\n",
    "            image = Image.open(image_path).convert(\"L\")  # Convert to grayscale\n",
    "        except FileNotFoundError:\n",
    "            print(f\"Image not found at {image_path}\")\n",
    "            return None\n",
    "\n",
    "        # applying transformations if any\n",
    "        if self.transforms:\n",
    "            image = self.transforms(image)\n",
    "\n",
    "        return {'image_type': projection, 'image': image, 'filename': csv_filename}"
   ]
  },
  {
   "cell_type": "code",
   "execution_count": 9,
   "id": "30301f28",
   "metadata": {},
   "outputs": [
    {
     "name": "stderr",
     "output_type": "stream",
     "text": [
      "/usr4/ec500/avantk/.local/lib/python3.10/site-packages/torchvision/transforms/v2/_deprecated.py:42: UserWarning: The transform `ToTensor()` is deprecated and will be removed in a future release. Instead, please use `v2.Compose([v2.ToImage(), v2.ToDtype(torch.float32, scale=True)])`.Output is equivalent up to float precision.\n",
      "  warnings.warn(\n"
     ]
    }
   ],
   "source": [
    "# transforms\n",
    "transforms = v2.Compose([\n",
    "    v2.Resize((64, 64)),\n",
    "    #v2.RandomHorizontalFlip(p=0.5),  \n",
    "    v2.RandomRotation(degrees=10), \n",
    "    v2.ColorJitter(brightness=0.2, contrast=0.2),  \n",
    "    v2.ToTensor(),\n",
    "    v2.Normalize(mean=[0.0], std=[1.0]) \n",
    "])\n",
    "\n",
    "csv_file = 'modified_csv_file.csv'\n",
    "\n",
    "# loading dataset\n",
    "dataset = CustomDataset(csv_file, image_folder, transforms)"
   ]
  },
  {
   "cell_type": "code",
   "execution_count": 10,
   "id": "a516dbbd",
   "metadata": {},
   "outputs": [
    {
     "name": "stdout",
     "output_type": "stream",
     "text": [
      "Image not found for CXR1_IM-0001-4001.png\n",
      "Image not found for CXR1_IM-0001-3001.png\n",
      "Final counts -> Frontal: 3193, Lateral: 3193\n"
     ]
    }
   ],
   "source": [
    "# mapping frontal and lateral images based on their image IDs\n",
    "frontal_mapping = {}\n",
    "lateral_mapping = {}\n",
    "\n",
    "# iterating through the dataset and populate mappings\n",
    "for item in dataset:\n",
    "    if item is not None:\n",
    "        image_type = item['image_type']\n",
    "        image = item['image']\n",
    "        uid = int(item['filename'].split('_')[0][3:])  # extracting the UID from the filename\n",
    "\n",
    "        if image_type == 'Frontal':\n",
    "            frontal_mapping[uid] = image\n",
    "        elif image_type == 'Lateral':\n",
    "            lateral_mapping[uid] = image\n",
    "        else:\n",
    "            print('Unexpected type')\n",
    "\n",
    "# extracting only the images that have both frontal and lateral biplanar views\n",
    "frontal, lateral = [], []\n",
    "for uid, lateral_image in lateral_mapping.items():\n",
    "    if uid in frontal_mapping:\n",
    "        frontal.append(frontal_mapping[uid])\n",
    "        lateral.append(lateral_image)\n",
    "\n",
    "print(f\"Final counts -> Frontal: {len(frontal)}, Lateral: {len(lateral)}\")"
   ]
  },
  {
   "cell_type": "code",
   "execution_count": 11,
   "id": "671985b0",
   "metadata": {},
   "outputs": [
    {
     "name": "stdout",
     "output_type": "stream",
     "text": [
      "(64, 64, 1) (64, 64, 1)\n"
     ]
    },
    {
     "data": {
      "image/png": "[encoded data removed]",
      "text/plain": [
       "<Figure size 600x300 with 2 Axes>"
      ]
     },
     "metadata": {},
     "output_type": "display_data"
    }
   ],
   "source": [
    "frontal_image = frontal[10]\n",
    "lateral_image = lateral[10]\n",
    "\n",
    "frontal_image = frontal_image.permute(1, 2, 0).numpy()  # Change to (H, W, C)\n",
    "lateral_image = lateral_image.permute(1, 2, 0).numpy()  # Change to (H, W, C)\n",
    "print(frontal_image.shape, lateral_image.shape)\n",
    "\n",
    "\n",
    "# plotting the images side by side\n",
    "plt.figure(figsize=(6, 3))\n",
    "\n",
    "# frontal image\n",
    "plt.subplot(1, 2, 1)\n",
    "plt.imshow(frontal_image, cmap='gray')\n",
    "plt.title(\"Frontal Image\")\n",
    "plt.axis('off')\n",
    "\n",
    "# lateral image\n",
    "plt.subplot(1, 2, 2)\n",
    "plt.imshow(lateral_image, cmap='gray')\n",
    "plt.title(\"Lateral Image\")\n",
    "plt.axis('off')\n",
    "\n",
    "\n",
    "plt.show()"
   ]
  },
  {
   "cell_type": "code",
   "execution_count": 12,
   "id": "224fd6e8",
   "metadata": {},
   "outputs": [],
   "source": [
    "class PairedXRayDataset(Dataset):\n",
    "    def __init__(self, frontal_images, lateral_images):\n",
    "        self.frontal_images = frontal_images\n",
    "        self.lateral_images = lateral_images\n",
    "        \n",
    "    def __len__(self):\n",
    "        return len(self.frontal_images)\n",
    "    \n",
    "    def __getitem__(self, idx):\n",
    "        frontal_image = self.frontal_images[idx]\n",
    "        lateral_image = self.lateral_images[idx]\n",
    "        \n",
    "        return {'frontal': frontal_image, 'lateral': lateral_image}"
   ]
  },
  {
   "cell_type": "code",
   "execution_count": 13,
   "id": "6b891b30",
   "metadata": {},
   "outputs": [
    {
     "name": "stdout",
     "output_type": "stream",
     "text": [
      "Training samples: 2873\n",
      "Testing samples: 320\n"
     ]
    }
   ],
   "source": [
    "from torch.utils.data import random_split, DataLoader\n",
    "\n",
    "# forming the dataset\n",
    "paired_dataset = PairedXRayDataset(frontal, lateral)\n",
    "\n",
    "dataset_size = len(paired_dataset)\n",
    "\n",
    "# defining train-test split sizes\n",
    "train_size = int(0.9 * dataset_size)  # 90% for training\n",
    "test_size = dataset_size - train_size  # 10% for testing\n",
    "\n",
    "# performing the split\n",
    "train_dataset, test_dataset = random_split(paired_dataset, [train_size, test_size])\n",
    "\n",
    "# creating dataLoaders for train and test sets\n",
    "batch_size = 16\n",
    "train_loader = DataLoader(train_dataset, batch_size=batch_size, shuffle=True)\n",
    "test_loader = DataLoader(test_dataset, batch_size=batch_size, shuffle=False)\n",
    "\n",
    "# verifying the splits\n",
    "print(f\"Training samples: {len(train_loader.dataset)}\")\n",
    "print(f\"Testing samples: {len(test_loader.dataset)}\")"
   ]
  },
  {
   "cell_type": "code",
   "execution_count": 14,
   "id": "33dc82d0",
   "metadata": {},
   "outputs": [
    {
     "name": "stdout",
     "output_type": "stream",
     "text": [
      "Train - Frontal batch shape: torch.Size([16, 1, 64, 64])\n",
      "Train - Lateral batch shape: torch.Size([16, 1, 64, 64])\n",
      "Test - Frontal batch shape: torch.Size([16, 1, 64, 64])\n",
      "Test - Lateral batch shape: torch.Size([16, 1, 64, 64])\n"
     ]
    }
   ],
   "source": [
    "# checking train DataLoader\n",
    "for batch in train_loader:\n",
    "    frontal_batch = batch['frontal']\n",
    "    lateral_batch = batch['lateral']\n",
    "    print(f\"Train - Frontal batch shape: {frontal_batch.shape}\")\n",
    "    print(f\"Train - Lateral batch shape: {lateral_batch.shape}\")\n",
    "    break\n",
    "\n",
    "# checking test DataLoader\n",
    "for batch in test_loader:\n",
    "    frontal_batch = batch['frontal']\n",
    "    lateral_batch = batch['lateral']\n",
    "    print(f\"Test - Frontal batch shape: {frontal_batch.shape}\")\n",
    "    print(f\"Test - Lateral batch shape: {lateral_batch.shape}\")\n",
    "    break"
   ]
  },
  {
   "cell_type": "markdown",
   "id": "8da32f61",
   "metadata": {},
   "source": [
    "## GAN - GENERATOR AND DISCRIMINATOR"
   ]
  },
  {
   "cell_type": "markdown",
   "id": "6120afec",
   "metadata": {},
   "source": [
    "## CYCLEGAN - BIPLANAR IMAGES - LAMBDA 15"
   ]
  },
  {
   "cell_type": "code",
   "execution_count": 16,
   "id": "59d25ec6",
   "metadata": {},
   "outputs": [
    {
     "name": "stdout",
     "output_type": "stream",
     "text": [
      "Input shape: torch.Size([1, 2, 64, 64])\n",
      "Output shape: torch.Size([1, 1, 64, 64, 64])\n"
     ]
    }
   ],
   "source": [
    "# 3D residual block\n",
    "class ResidualBlock3D(nn.Module):\n",
    "    def __init__(self, channels):\n",
    "        super(ResidualBlock3D, self).__init__()\n",
    "        self.block = nn.Sequential(\n",
    "            nn.Conv3d(channels, channels, kernel_size=3, stride=1, padding=1),\n",
    "            nn.InstanceNorm3d(channels),\n",
    "            nn.ReLU(inplace=True),\n",
    "            nn.Dropout(p=0.3),\n",
    "            nn.Conv3d(channels, channels, kernel_size=3, stride=1, padding=1),\n",
    "            nn.InstanceNorm3d(channels)\n",
    "        )\n",
    "\n",
    "    def forward(self, x):\n",
    "        return x + self.block(x)\n",
    "\n",
    "class CycleGANGenerator3D(nn.Module):\n",
    "    def __init__(self, input_channels=2, output_channels=1, num_residual_blocks=6, target_depth=64):\n",
    "        super(CycleGANGenerator3D, self).__init__()\n",
    "        self.target_depth = target_depth\n",
    "\n",
    "        # initial Convolution Block\n",
    "        self.initial = nn.Sequential(\n",
    "            nn.Conv2d(input_channels, 64, kernel_size=7, stride=1, padding=3),\n",
    "            nn.InstanceNorm2d(64),\n",
    "            nn.ReLU(inplace=True),\n",
    "            nn.Dropout(p=0.3)\n",
    "        )\n",
    "\n",
    "        # downsampling Layers\n",
    "        self.downsampling = nn.Sequential(\n",
    "            nn.Conv2d(64, 128, kernel_size=3, stride=2, padding=1),  # (64, 64) -> (32, 32)\n",
    "            nn.InstanceNorm2d(128),\n",
    "            nn.ReLU(inplace=True),\n",
    "            nn.Conv2d(128, 256, kernel_size=3, stride=2, padding=1),  # (32, 32) -> (16, 16)\n",
    "            nn.InstanceNorm2d(256),\n",
    "            nn.ReLU(inplace=True)\n",
    "        )\n",
    "\n",
    "        # reshaping to 3D\n",
    "        self.reshape_to_3d = nn.Conv3d(256, 256, kernel_size=(1, 1, 1))\n",
    "\n",
    "        # residual Blocks\n",
    "        self.residual_blocks = nn.Sequential(\n",
    "            *[ResidualBlock3D(256) for _ in range(num_residual_blocks)]\n",
    "        )\n",
    "\n",
    "        # upsampling Layers\n",
    "        self.upsampling = nn.Sequential(\n",
    "            nn.ConvTranspose3d(256, 128, kernel_size=(4, 4, 4), stride=(2, 2, 2), padding=(1, 1, 1), output_padding=(0, 0, 0)),  # (16, 16, 16) -> (32, 32, 32)\n",
    "            nn.InstanceNorm3d(128),\n",
    "            nn.ReLU(inplace=True),\n",
    "            nn.Dropout(p=0.3),\n",
    "            nn.ConvTranspose3d(128, 64, kernel_size=(4, 4, 4), stride=(2, 2, 2), padding=(1, 1, 1), output_padding=(0, 0, 0)),  # (32, 32, 32) -> (64, 64, 64)\n",
    "            nn.InstanceNorm3d(64),\n",
    "            nn.ReLU(inplace=True)\n",
    "        )\n",
    "\n",
    "        # output Layer\n",
    "        self.output_layer = nn.Sequential(\n",
    "            nn.Conv3d(64, output_channels, kernel_size=7, stride=1, padding=3),\n",
    "            nn.Tanh()\n",
    "        )\n",
    "\n",
    "    def forward(self, x):\n",
    "        # process 2D input\n",
    "        x = self.initial(x)\n",
    "\n",
    "        x = self.downsampling(x)\n",
    "\n",
    "        # reshape to add a depth dimension\n",
    "        x = x.unsqueeze(2)  \n",
    "\n",
    "        x = self.reshape_to_3d(x)\n",
    "\n",
    "        x = self.residual_blocks(x)\n",
    "\n",
    "        x = self.upsampling(x)\n",
    "\n",
    "        # resize to final 3D volume\n",
    "        x = nn.functional.interpolate(x, size=(self.target_depth, 64, 64), mode='trilinear', align_corners=True)\n",
    "\n",
    "        return self.output_layer(x)\n",
    "\n",
    "# instantiating the generator for 64x64 inputs and 64x64x64 outputs\n",
    "generator_3d = CycleGANGenerator3D(input_channels=2, output_channels=1, target_depth=64)\n",
    "\n",
    "# TESTING GENERATOR with a dummy input of size 64x64\n",
    "dummy_input_2d = torch.randn(1, 2, 64, 64)  # batch size 1\n",
    "output_3d = generator_3d(dummy_input_2d)\n",
    "print(f\"Input shape: {dummy_input_2d.shape}\")\n",
    "print(f\"Output shape: {output_3d.shape}\")\n"
   ]
  },
  {
   "cell_type": "code",
   "execution_count": 17,
   "id": "faf14822",
   "metadata": {},
   "outputs": [
    {
     "name": "stdout",
     "output_type": "stream",
     "text": [
      "Input shape (3D): torch.Size([1, 1, 64, 64, 64])\n",
      "Output shape (2D): torch.Size([1, 2, 64, 64])\n"
     ]
    }
   ],
   "source": [
    "class Generator3DTo2D(nn.Module):\n",
    "    def __init__(self, input_channels=1, output_channels=2):\n",
    "        super(Generator3DTo2D, self).__init__()\n",
    "\n",
    "        self.feature_extraction = nn.Sequential(\n",
    "            nn.Conv3d(input_channels, 64, kernel_size=4, stride=2, padding=1),  # (64, 64, 64) -> (32, 32, 32)\n",
    "            nn.InstanceNorm3d(64),\n",
    "            nn.ReLU(inplace=True),\n",
    "\n",
    "            nn.Conv3d(64, 128, kernel_size=4, stride=2, padding=1),  # (32, 32, 32) -> (16, 16, 16)\n",
    "            nn.InstanceNorm3d(128),\n",
    "            nn.ReLU(inplace=True),\n",
    "\n",
    "            nn.Conv3d(128, 256, kernel_size=4, stride=2, padding=1),  # (16, 16, 16) -> (8, 8, 8)\n",
    "            nn.InstanceNorm3d(256),\n",
    "            nn.ReLU(inplace=True),\n",
    "        )\n",
    "\n",
    "        self.output_channels = output_channels\n",
    "\n",
    "        # upsampling layer to restore spatial dimensions to 64x64\n",
    "        self.upsample = nn.Upsample(scale_factor=8, mode=\"bilinear\", align_corners=True)\n",
    "\n",
    "    def forward(self, x):\n",
    "        # Feature extraction\n",
    "        x = self.feature_extraction(x)\n",
    "        #print(f\"Shape after feature extraction: {x.shape}\")  # Debugging shape\n",
    "\n",
    "        # Flatten the 3D volume into 2D\n",
    "        batch_size, channels, depth, height, width = x.shape\n",
    "        x = x.view(batch_size, channels * depth, height, width)  # Merge depth into channels\n",
    "\n",
    "        # Reduce to the desired number of output channels\n",
    "        final_conv = nn.Conv2d(\n",
    "            in_channels=channels * depth, out_channels=self.output_channels,\n",
    "            kernel_size=1, stride=1, padding=0\n",
    "        ).to(x.device)  # Ensure it's on the correct device\n",
    "\n",
    "        x = final_conv(x)  # Final shape before upsampling: [batch_size, output_channels, height, width]\n",
    "\n",
    "        # Upsample to original dimensions\n",
    "        x = self.upsample(x)  # Final shape: [batch_size, output_channels, 64, 64]\n",
    "        return x\n",
    "\n",
    "# Test Generator B with Dummy Input\n",
    "dummy_input_3d = torch.randn(1, 1, 64, 64, 64).to(\"cuda\")\n",
    "generator_3d_to_2d = Generator3DTo2D(input_channels=1, output_channels=2).to(\"cuda\")\n",
    "output_2d = generator_3d_to_2d(dummy_input_3d)\n",
    "print(f\"Input shape (3D): {dummy_input_3d.shape}\")\n",
    "print(f\"Output shape (2D): {output_2d.shape}\")\n"
   ]
  },
  {
   "cell_type": "code",
   "execution_count": 18,
   "id": "35465701",
   "metadata": {},
   "outputs": [
    {
     "name": "stdout",
     "output_type": "stream",
     "text": [
      "Input shape: torch.Size([1, 1, 64, 64, 64])\n",
      "Output shape: torch.Size([1, 1, 2, 2, 2])\n"
     ]
    }
   ],
   "source": [
    "class PatchGANDiscriminator3D(nn.Module):\n",
    "    def __init__(self, input_channels=1):\n",
    "        super(PatchGANDiscriminator3D, self).__init__()\n",
    "        \n",
    "        # Convolutional layers\n",
    "        self.model = nn.Sequential(\n",
    "            nn.Conv3d(input_channels, 64, kernel_size=4, stride=2, padding=1),  # (64 -> 32)\n",
    "            nn.LeakyReLU(0.2, inplace=True),\n",
    "            \n",
    "            nn.Conv3d(64, 128, kernel_size=4, stride=2, padding=1),  # (32 -> 16)\n",
    "            nn.InstanceNorm3d(128),\n",
    "            nn.LeakyReLU(0.2, inplace=True),\n",
    "            nn.Dropout(p=0.3),\n",
    "            \n",
    "            nn.Conv3d(128, 256, kernel_size=4, stride=2, padding=1),  # (16 -> 8)\n",
    "            nn.InstanceNorm3d(256),\n",
    "            nn.LeakyReLU(0.2, inplace=True),\n",
    "            nn.Dropout(p=0.3),\n",
    "            \n",
    "            nn.Conv3d(256, 512, kernel_size=4, stride=2, padding=1),  # (8 -> 4)\n",
    "            nn.InstanceNorm3d(512),\n",
    "            nn.LeakyReLU(0.2, inplace=True),\n",
    "            \n",
    "            nn.Conv3d(512, 1, kernel_size=3, stride=1, padding=0)  # (4 -> 2)\n",
    "        )\n",
    "\n",
    "    def forward(self, x):\n",
    "        return self.model(x)\n",
    "\n",
    "# instantiating the discriminator\n",
    "discriminator_3d = PatchGANDiscriminator3D(input_channels=1)\n",
    "\n",
    "# TESTING THE DISCRIMINATOR with a dummy input of size 64x64x64\n",
    "dummy_input_3d = torch.randn(1, 1, 64, 64, 64)  # Batch size of 1\n",
    "output = discriminator_3d(dummy_input_3d)\n",
    "print(f\"Input shape: {dummy_input_3d.shape}\")\n",
    "print(f\"Output shape: {output.shape}\")\n"
   ]
  },
  {
   "cell_type": "code",
   "execution_count": 19,
   "id": "f265c1c9",
   "metadata": {},
   "outputs": [
    {
     "data": {
      "text/plain": [
       "PatchGANDiscriminator3D(\n",
       "  (model): Sequential(\n",
       "    (0): Conv3d(1, 64, kernel_size=(4, 4, 4), stride=(2, 2, 2), padding=(1, 1, 1))\n",
       "    (1): LeakyReLU(negative_slope=0.2, inplace=True)\n",
       "    (2): Conv3d(64, 128, kernel_size=(4, 4, 4), stride=(2, 2, 2), padding=(1, 1, 1))\n",
       "    (3): InstanceNorm3d(128, eps=1e-05, momentum=0.1, affine=False, track_running_stats=False)\n",
       "    (4): LeakyReLU(negative_slope=0.2, inplace=True)\n",
       "    (5): Dropout(p=0.3, inplace=False)\n",
       "    (6): Conv3d(128, 256, kernel_size=(4, 4, 4), stride=(2, 2, 2), padding=(1, 1, 1))\n",
       "    (7): InstanceNorm3d(256, eps=1e-05, momentum=0.1, affine=False, track_running_stats=False)\n",
       "    (8): LeakyReLU(negative_slope=0.2, inplace=True)\n",
       "    (9): Dropout(p=0.3, inplace=False)\n",
       "    (10): Conv3d(256, 512, kernel_size=(4, 4, 4), stride=(2, 2, 2), padding=(1, 1, 1))\n",
       "    (11): InstanceNorm3d(512, eps=1e-05, momentum=0.1, affine=False, track_running_stats=False)\n",
       "    (12): LeakyReLU(negative_slope=0.2, inplace=True)\n",
       "    (13): Conv3d(512, 1, kernel_size=(3, 3, 3), stride=(1, 1, 1))\n",
       "  )\n",
       ")"
      ]
     },
     "execution_count": 19,
     "metadata": {},
     "output_type": "execute_result"
    }
   ],
   "source": [
    "# loss functions\n",
    "adversarial_loss = nn.BCEWithLogitsLoss()  \n",
    "cycle_consistency_loss = nn.L1Loss()  # for reconstruction consistency\n",
    "\n",
    "# optimizers\n",
    "lr = 1e-5\n",
    "beta1, beta2 = 0.5, 0.999\n",
    "\n",
    "optimizer_G = Adam(generator_3d.parameters(), lr=lr, betas=(beta1, beta2))\n",
    "optimizer_D = Adam(discriminator_3d.parameters(), lr=lr, betas=(beta1, beta2))\n",
    "\n",
    "# moving to device\n",
    "generator_3d.to(device)\n",
    "discriminator_3d.to(device)"
   ]
  },
  {
   "cell_type": "code",
   "execution_count": 21,
   "id": "e4a50e55",
   "metadata": {},
   "outputs": [],
   "source": [
    "# instantiating generators \n",
    "input_channels_2d = 2  # 1 for frontal + 1 for lateral\n",
    "input_channels_3d = 1  \n",
    "output_channels_2d = 2  # 1 channel each for frontal and lateral\n",
    "output_channels_3d = 1  \n",
    "\n",
    "generator_2d_to_3d = CycleGANGenerator3D(input_channels=input_channels_2d, output_channels=output_channels_3d).to(device)\n",
    "generator_3d_to_2d = Generator3DTo2D(input_channels=input_channels_3d, output_channels=output_channels_2d).to(device)\n",
    "\n",
    "# optimizers\n",
    "optimizer_G_A = Adam(generator_2d_to_3d.parameters(), lr=1e-5, betas=(0.5, 0.999))\n",
    "optimizer_G_B = Adam(generator_3d_to_2d.parameters(), lr=1e-5, betas=(0.5, 0.999))\n"
   ]
  },
  {
   "cell_type": "code",
   "execution_count": 22,
   "id": "5cae45cc",
   "metadata": {},
   "outputs": [],
   "source": [
    "# weight initialization\n",
    "def initialize_weights(model):\n",
    "    for m in model.modules():\n",
    "        if isinstance(m, (nn.Conv2d, nn.Conv3d, nn.ConvTranspose3d)):\n",
    "            init.kaiming_normal_(m.weight, mode='fan_in', nonlinearity='leaky_relu')\n",
    "        elif isinstance(m, (nn.InstanceNorm2d, nn.InstanceNorm3d)) and m.weight is not None:\n",
    "            init.constant_(m.weight, 1)\n",
    "            init.constant_(m.bias, 0)\n",
    "\n",
    "# initializing weights\n",
    "initialize_weights(generator_2d_to_3d)\n",
    "initialize_weights(generator_3d_to_2d)\n",
    "initialize_weights(discriminator_3d)"
   ]
  },
  {
   "cell_type": "code",
   "execution_count": 39,
   "id": "5b40c748",
   "metadata": {},
   "outputs": [
    {
     "name": "stderr",
     "output_type": "stream",
     "text": [
      "Epoch [1/40]: 100%|██████████| 180/180 [06:55<00:00,  2.31s/it]\n"
     ]
    },
    {
     "name": "stdout",
     "output_type": "stream",
     "text": [
      "Epoch [1/40] Training: Loss_G_A: 5.3953 | Loss_Cycle_A: 0.4942 | Loss_Cycle_B: 0.0317 | Loss_D: 0.2337\n"
     ]
    },
    {
     "name": "stderr",
     "output_type": "stream",
     "text": [
      "Epoch [2/40]: 100%|██████████| 180/180 [06:55<00:00,  2.31s/it]\n"
     ]
    },
    {
     "name": "stdout",
     "output_type": "stream",
     "text": [
      "Epoch [2/40] Training: Loss_G_A: 7.3488 | Loss_Cycle_A: 0.4835 | Loss_Cycle_B: 0.0001 | Loss_D: 0.1821\n"
     ]
    },
    {
     "name": "stderr",
     "output_type": "stream",
     "text": [
      "Epoch [3/40]: 100%|██████████| 180/180 [06:55<00:00,  2.31s/it]\n"
     ]
    },
    {
     "name": "stdout",
     "output_type": "stream",
     "text": [
      "Epoch [3/40] Training: Loss_G_A: 7.7666 | Loss_Cycle_A: 0.4741 | Loss_Cycle_B: 0.0000 | Loss_D: 0.1811\n"
     ]
    },
    {
     "name": "stderr",
     "output_type": "stream",
     "text": [
      "Epoch [4/40]: 100%|██████████| 180/180 [06:55<00:00,  2.31s/it]\n"
     ]
    },
    {
     "name": "stdout",
     "output_type": "stream",
     "text": [
      "Epoch [4/40] Training: Loss_G_A: 7.9899 | Loss_Cycle_A: 0.4705 | Loss_Cycle_B: 0.0000 | Loss_D: 0.1794\n"
     ]
    },
    {
     "name": "stderr",
     "output_type": "stream",
     "text": [
      "Epoch [5/40]: 100%|██████████| 180/180 [06:54<00:00,  2.30s/it]\n"
     ]
    },
    {
     "name": "stdout",
     "output_type": "stream",
     "text": [
      "Epoch [5/40] Training: Loss_G_A: 8.1377 | Loss_Cycle_A: 0.4634 | Loss_Cycle_B: 0.0000 | Loss_D: 0.1788\n"
     ]
    },
    {
     "name": "stderr",
     "output_type": "stream",
     "text": [
      "Epoch [6/40]: 100%|██████████| 180/180 [06:55<00:00,  2.31s/it]\n"
     ]
    },
    {
     "name": "stdout",
     "output_type": "stream",
     "text": [
      "Epoch [6/40] Training: Loss_G_A: 7.1502 | Loss_Cycle_A: 0.4749 | Loss_Cycle_B: 0.0212 | Loss_D: 0.1793\n"
     ]
    },
    {
     "name": "stderr",
     "output_type": "stream",
     "text": [
      "Epoch [7/40]: 100%|██████████| 180/180 [06:55<00:00,  2.31s/it]\n"
     ]
    },
    {
     "name": "stdout",
     "output_type": "stream",
     "text": [
      "Epoch [7/40] Training: Loss_G_A: 5.5775 | Loss_Cycle_A: 0.5099 | Loss_Cycle_B: 0.0615 | Loss_D: 0.1788\n"
     ]
    },
    {
     "name": "stderr",
     "output_type": "stream",
     "text": [
      "Epoch [8/40]: 100%|██████████| 180/180 [06:55<00:00,  2.31s/it]\n"
     ]
    },
    {
     "name": "stdout",
     "output_type": "stream",
     "text": [
      "Epoch [8/40] Training: Loss_G_A: 6.4591 | Loss_Cycle_A: 0.5056 | Loss_Cycle_B: 0.0463 | Loss_D: 0.1777\n"
     ]
    },
    {
     "name": "stderr",
     "output_type": "stream",
     "text": [
      "Epoch [9/40]: 100%|██████████| 180/180 [06:55<00:00,  2.31s/it]\n"
     ]
    },
    {
     "name": "stdout",
     "output_type": "stream",
     "text": [
      "Epoch [9/40] Training: Loss_G_A: 6.8291 | Loss_Cycle_A: 0.5029 | Loss_Cycle_B: 0.0400 | Loss_D: 0.1761\n"
     ]
    },
    {
     "name": "stderr",
     "output_type": "stream",
     "text": [
      "Epoch [10/40]: 100%|██████████| 180/180 [06:55<00:00,  2.31s/it]\n"
     ]
    },
    {
     "name": "stdout",
     "output_type": "stream",
     "text": [
      "Epoch [10/40] Training: Loss_G_A: 7.1977 | Loss_Cycle_A: 0.4984 | Loss_Cycle_B: 0.0315 | Loss_D: 0.1754\n"
     ]
    },
    {
     "name": "stderr",
     "output_type": "stream",
     "text": [
      "Epoch [11/40]: 100%|██████████| 180/180 [06:55<00:00,  2.31s/it]\n"
     ]
    },
    {
     "name": "stdout",
     "output_type": "stream",
     "text": [
      "Epoch [11/40] Training: Loss_G_A: 7.2946 | Loss_Cycle_A: 0.4987 | Loss_Cycle_B: 0.0283 | Loss_D: 0.1749\n"
     ]
    },
    {
     "name": "stderr",
     "output_type": "stream",
     "text": [
      "Epoch [12/40]: 100%|██████████| 180/180 [06:55<00:00,  2.31s/it]\n"
     ]
    },
    {
     "name": "stdout",
     "output_type": "stream",
     "text": [
      "Epoch [12/40] Training: Loss_G_A: 7.3716 | Loss_Cycle_A: 0.4815 | Loss_Cycle_B: 0.0257 | Loss_D: 0.1743\n"
     ]
    },
    {
     "name": "stderr",
     "output_type": "stream",
     "text": [
      "Epoch [13/40]: 100%|██████████| 180/180 [06:55<00:00,  2.31s/it]\n"
     ]
    },
    {
     "name": "stdout",
     "output_type": "stream",
     "text": [
      "Epoch [13/40] Training: Loss_G_A: 7.4597 | Loss_Cycle_A: 0.4885 | Loss_Cycle_B: 0.0246 | Loss_D: 0.1735\n"
     ]
    },
    {
     "name": "stderr",
     "output_type": "stream",
     "text": [
      "Epoch [14/40]: 100%|██████████| 180/180 [06:55<00:00,  2.31s/it]\n"
     ]
    },
    {
     "name": "stdout",
     "output_type": "stream",
     "text": [
      "Epoch [14/40] Training: Loss_G_A: 7.4478 | Loss_Cycle_A: 0.4845 | Loss_Cycle_B: 0.0258 | Loss_D: 0.1729\n"
     ]
    },
    {
     "name": "stderr",
     "output_type": "stream",
     "text": [
      "Epoch [15/40]: 100%|██████████| 180/180 [06:55<00:00,  2.31s/it]\n"
     ]
    },
    {
     "name": "stdout",
     "output_type": "stream",
     "text": [
      "Epoch [15/40] Training: Loss_G_A: 7.4628 | Loss_Cycle_A: 0.4846 | Loss_Cycle_B: 0.0253 | Loss_D: 0.1723\n"
     ]
    },
    {
     "name": "stderr",
     "output_type": "stream",
     "text": [
      "Epoch [16/40]: 100%|██████████| 180/180 [06:55<00:00,  2.31s/it]\n"
     ]
    },
    {
     "name": "stdout",
     "output_type": "stream",
     "text": [
      "Epoch [16/40] Training: Loss_G_A: 7.5186 | Loss_Cycle_A: 0.4809 | Loss_Cycle_B: 0.0242 | Loss_D: 0.1718\n"
     ]
    },
    {
     "name": "stderr",
     "output_type": "stream",
     "text": [
      "Epoch [17/40]: 100%|██████████| 180/180 [06:55<00:00,  2.31s/it]\n"
     ]
    },
    {
     "name": "stdout",
     "output_type": "stream",
     "text": [
      "Epoch [17/40] Training: Loss_G_A: 7.6057 | Loss_Cycle_A: 0.4758 | Loss_Cycle_B: 0.0237 | Loss_D: 0.1714\n"
     ]
    },
    {
     "name": "stderr",
     "output_type": "stream",
     "text": [
      "Epoch [18/40]: 100%|██████████| 180/180 [06:55<00:00,  2.31s/it]\n"
     ]
    },
    {
     "name": "stdout",
     "output_type": "stream",
     "text": [
      "Epoch [18/40] Training: Loss_G_A: 7.7778 | Loss_Cycle_A: 0.4740 | Loss_Cycle_B: 0.0227 | Loss_D: 0.1712\n"
     ]
    },
    {
     "name": "stderr",
     "output_type": "stream",
     "text": [
      "Epoch [19/40]: 100%|██████████| 180/180 [06:55<00:00,  2.31s/it]\n"
     ]
    },
    {
     "name": "stdout",
     "output_type": "stream",
     "text": [
      "Epoch [19/40] Training: Loss_G_A: 7.8919 | Loss_Cycle_A: 0.4755 | Loss_Cycle_B: 0.0218 | Loss_D: 0.1701\n"
     ]
    },
    {
     "name": "stderr",
     "output_type": "stream",
     "text": [
      "Epoch [20/40]: 100%|██████████| 180/180 [06:55<00:00,  2.31s/it]\n"
     ]
    },
    {
     "name": "stdout",
     "output_type": "stream",
     "text": [
      "Epoch [20/40] Training: Loss_G_A: 8.0211 | Loss_Cycle_A: 0.4664 | Loss_Cycle_B: 0.0207 | Loss_D: 0.1700\n"
     ]
    },
    {
     "name": "stderr",
     "output_type": "stream",
     "text": [
      "Epoch [21/40]: 100%|██████████| 180/180 [06:54<00:00,  2.31s/it]\n"
     ]
    },
    {
     "name": "stdout",
     "output_type": "stream",
     "text": [
      "Epoch [21/40] Training: Loss_G_A: 8.1123 | Loss_Cycle_A: 0.4749 | Loss_Cycle_B: 0.0198 | Loss_D: 0.1698\n"
     ]
    },
    {
     "name": "stderr",
     "output_type": "stream",
     "text": [
      "Epoch [22/40]: 100%|██████████| 180/180 [06:54<00:00,  2.31s/it]\n"
     ]
    },
    {
     "name": "stdout",
     "output_type": "stream",
     "text": [
      "Epoch [22/40] Training: Loss_G_A: 6.6751 | Loss_Cycle_A: 0.4781 | Loss_Cycle_B: 0.0320 | Loss_D: 0.1708\n"
     ]
    },
    {
     "name": "stderr",
     "output_type": "stream",
     "text": [
      "Epoch [23/40]: 100%|██████████| 180/180 [06:54<00:00,  2.31s/it]\n"
     ]
    },
    {
     "name": "stdout",
     "output_type": "stream",
     "text": [
      "Epoch [23/40] Training: Loss_G_A: 6.3782 | Loss_Cycle_A: 0.4848 | Loss_Cycle_B: 0.0330 | Loss_D: 0.1698\n"
     ]
    },
    {
     "name": "stderr",
     "output_type": "stream",
     "text": [
      "Epoch [24/40]: 100%|██████████| 180/180 [06:54<00:00,  2.31s/it]\n"
     ]
    },
    {
     "name": "stdout",
     "output_type": "stream",
     "text": [
      "Epoch [24/40] Training: Loss_G_A: 5.6858 | Loss_Cycle_A: 0.4882 | Loss_Cycle_B: 0.0513 | Loss_D: 0.1776\n"
     ]
    },
    {
     "name": "stderr",
     "output_type": "stream",
     "text": [
      "Epoch [25/40]: 100%|██████████| 180/180 [06:54<00:00,  2.30s/it]\n"
     ]
    },
    {
     "name": "stdout",
     "output_type": "stream",
     "text": [
      "Epoch [25/40] Training: Loss_G_A: 5.2760 | Loss_Cycle_A: 0.4929 | Loss_Cycle_B: 0.0333 | Loss_D: 0.1726\n"
     ]
    },
    {
     "name": "stderr",
     "output_type": "stream",
     "text": [
      "Epoch [26/40]: 100%|██████████| 180/180 [06:54<00:00,  2.30s/it]\n"
     ]
    },
    {
     "name": "stdout",
     "output_type": "stream",
     "text": [
      "Epoch [26/40] Training: Loss_G_A: 6.6990 | Loss_Cycle_A: 0.4859 | Loss_Cycle_B: 0.0316 | Loss_D: 0.1706\n"
     ]
    },
    {
     "name": "stderr",
     "output_type": "stream",
     "text": [
      "Epoch [27/40]: 100%|██████████| 180/180 [06:54<00:00,  2.30s/it]\n"
     ]
    },
    {
     "name": "stdout",
     "output_type": "stream",
     "text": [
      "Epoch [27/40] Training: Loss_G_A: 7.5521 | Loss_Cycle_A: 0.4839 | Loss_Cycle_B: 0.0278 | Loss_D: 0.1695\n"
     ]
    },
    {
     "name": "stderr",
     "output_type": "stream",
     "text": [
      "Epoch [28/40]: 100%|██████████| 180/180 [06:54<00:00,  2.30s/it]\n"
     ]
    },
    {
     "name": "stdout",
     "output_type": "stream",
     "text": [
      "Epoch [28/40] Training: Loss_G_A: 7.8203 | Loss_Cycle_A: 0.4774 | Loss_Cycle_B: 0.0249 | Loss_D: 0.1689\n"
     ]
    },
    {
     "name": "stderr",
     "output_type": "stream",
     "text": [
      "Epoch [29/40]: 100%|██████████| 180/180 [06:54<00:00,  2.30s/it]\n"
     ]
    },
    {
     "name": "stdout",
     "output_type": "stream",
     "text": [
      "Epoch [29/40] Training: Loss_G_A: 8.0429 | Loss_Cycle_A: 0.4725 | Loss_Cycle_B: 0.0233 | Loss_D: 0.1685\n"
     ]
    },
    {
     "name": "stderr",
     "output_type": "stream",
     "text": [
      "Epoch [30/40]: 100%|██████████| 180/180 [06:54<00:00,  2.30s/it]\n"
     ]
    },
    {
     "name": "stdout",
     "output_type": "stream",
     "text": [
      "Epoch [30/40] Training: Loss_G_A: 8.1769 | Loss_Cycle_A: 0.4767 | Loss_Cycle_B: 0.0219 | Loss_D: 0.1682\n"
     ]
    },
    {
     "name": "stderr",
     "output_type": "stream",
     "text": [
      "Epoch [31/40]: 100%|██████████| 180/180 [06:54<00:00,  2.30s/it]\n"
     ]
    },
    {
     "name": "stdout",
     "output_type": "stream",
     "text": [
      "Epoch [31/40] Training: Loss_G_A: 8.3064 | Loss_Cycle_A: 0.4766 | Loss_Cycle_B: 0.0209 | Loss_D: 0.1677\n"
     ]
    },
    {
     "name": "stderr",
     "output_type": "stream",
     "text": [
      "Epoch [32/40]: 100%|██████████| 180/180 [06:54<00:00,  2.30s/it]\n"
     ]
    },
    {
     "name": "stdout",
     "output_type": "stream",
     "text": [
      "Epoch [32/40] Training: Loss_G_A: 8.3275 | Loss_Cycle_A: 0.4720 | Loss_Cycle_B: 0.0217 | Loss_D: 0.1674\n"
     ]
    },
    {
     "name": "stderr",
     "output_type": "stream",
     "text": [
      "Epoch [33/40]: 100%|██████████| 180/180 [06:54<00:00,  2.30s/it]\n"
     ]
    },
    {
     "name": "stdout",
     "output_type": "stream",
     "text": [
      "Epoch [33/40] Training: Loss_G_A: 7.2518 | Loss_Cycle_A: 0.4711 | Loss_Cycle_B: 0.0378 | Loss_D: 0.1685\n"
     ]
    },
    {
     "name": "stderr",
     "output_type": "stream",
     "text": [
      "Epoch [34/40]: 100%|██████████| 180/180 [06:54<00:00,  2.30s/it]\n"
     ]
    },
    {
     "name": "stdout",
     "output_type": "stream",
     "text": [
      "Epoch [34/40] Training: Loss_G_A: 6.3382 | Loss_Cycle_A: 0.4725 | Loss_Cycle_B: 0.0683 | Loss_D: 0.1680\n"
     ]
    },
    {
     "name": "stderr",
     "output_type": "stream",
     "text": [
      "Epoch [35/40]: 100%|██████████| 180/180 [06:54<00:00,  2.30s/it]\n"
     ]
    },
    {
     "name": "stdout",
     "output_type": "stream",
     "text": [
      "Epoch [35/40] Training: Loss_G_A: 6.8520 | Loss_Cycle_A: 0.4790 | Loss_Cycle_B: 0.0584 | Loss_D: 0.1673\n"
     ]
    },
    {
     "name": "stderr",
     "output_type": "stream",
     "text": [
      "Epoch [36/40]: 100%|██████████| 180/180 [06:54<00:00,  2.30s/it]\n"
     ]
    },
    {
     "name": "stdout",
     "output_type": "stream",
     "text": [
      "Epoch [36/40] Training: Loss_G_A: 7.2207 | Loss_Cycle_A: 0.4742 | Loss_Cycle_B: 0.0540 | Loss_D: 0.1670\n"
     ]
    },
    {
     "name": "stderr",
     "output_type": "stream",
     "text": [
      "Epoch [37/40]: 100%|██████████| 180/180 [06:54<00:00,  2.30s/it]\n"
     ]
    },
    {
     "name": "stdout",
     "output_type": "stream",
     "text": [
      "Epoch [37/40] Training: Loss_G_A: 7.5154 | Loss_Cycle_A: 0.4765 | Loss_Cycle_B: 0.0502 | Loss_D: 0.1666\n"
     ]
    },
    {
     "name": "stderr",
     "output_type": "stream",
     "text": [
      "Epoch [38/40]:  46%|████▌     | 83/180 [03:13<03:46,  2.34s/it]\n"
     ]
    },
    {
     "ename": "KeyboardInterrupt",
     "evalue": "",
     "output_type": "error",
     "traceback": [
      "\u001b[0;31m---------------------------------------------------------------------------\u001b[0m",
      "\u001b[0;31mKeyboardInterrupt\u001b[0m                         Traceback (most recent call last)",
      "Cell \u001b[0;32mIn[39], line 80\u001b[0m\n\u001b[1;32m     77\u001b[0m     optimizer_D\u001b[38;5;241m.\u001b[39mstep()\n\u001b[1;32m     79\u001b[0m \u001b[38;5;66;03m# Accumulate losses\u001b[39;00m\n\u001b[0;32m---> 80\u001b[0m epoch_loss_G_A \u001b[38;5;241m+\u001b[39m\u001b[38;5;241m=\u001b[39m \u001b[43mloss_G_A_adv\u001b[49m\u001b[38;5;241;43m.\u001b[39;49m\u001b[43mitem\u001b[49m\u001b[43m(\u001b[49m\u001b[43m)\u001b[49m\n\u001b[1;32m     81\u001b[0m epoch_loss_Cycle_A \u001b[38;5;241m+\u001b[39m\u001b[38;5;241m=\u001b[39m loss_cycle_A\u001b[38;5;241m.\u001b[39mitem()\n\u001b[1;32m     82\u001b[0m epoch_loss_Cycle_B \u001b[38;5;241m+\u001b[39m\u001b[38;5;241m=\u001b[39m loss_cycle_B\u001b[38;5;241m.\u001b[39mitem()\n",
      "\u001b[0;31mKeyboardInterrupt\u001b[0m: "
     ]
    }
   ],
   "source": [
    "# TRAINING LOOP\n",
    "\n",
    "# lists to track losses for plotting\n",
    "losses = {\n",
    "    \"G_A\": [],           # generator A adversarial loss\n",
    "    \"Cycle_A\": [],       # cycle consistency loss A (2D->3D->2D)\n",
    "    \"Cycle_B\": [],       # cycle consistency loss B (3D->2D->3D)\n",
    "    \"D\": []              # discriminator loss\n",
    "}\n",
    "\n",
    "num_epochs = 40\n",
    "lambda_cycle = 15\n",
    "adversarial_loss = nn.BCEWithLogitsLoss()\n",
    "cycle_consistency_loss = nn.L1Loss()\n",
    "label_smoothing = 0.1\n",
    "\n",
    "for epoch in range(num_epochs):\n",
    "    generator_2d_to_3d.train()\n",
    "    generator_3d_to_2d.train()\n",
    "    discriminator_3d.train()\n",
    "\n",
    "    epoch_loss_G_A = 0.0\n",
    "    epoch_loss_Cycle_A = 0.0\n",
    "    epoch_loss_Cycle_B = 0.0\n",
    "    epoch_loss_D = 0.0\n",
    "\n",
    "    for i, batch in enumerate(tqdm(train_loader, desc=f\"Epoch [{epoch+1}/{num_epochs}]\")):\n",
    "        frontal, lateral = batch['frontal'].to(device), batch['lateral'].to(device)\n",
    "        input_xrays = torch.cat((frontal, lateral), dim=1)\n",
    "\n",
    "        # -------------------\n",
    "        # Train Generator A (2D to 3D)\n",
    "        # -------------------\n",
    "        optimizer_G_A.zero_grad()\n",
    "        fake_3d = generator_2d_to_3d(input_xrays)\n",
    "        real_labels = (1.0 - label_smoothing) * torch.ones_like(discriminator_3d(fake_3d)).to(device)\n",
    "        loss_G_A_adv = adversarial_loss(discriminator_3d(fake_3d), real_labels)\n",
    "\n",
    "        # Train Generator B (3D to 2D)\n",
    "        optimizer_G_B.zero_grad()\n",
    "        reconstructed_xrays = generator_3d_to_2d(fake_3d)\n",
    "        loss_cycle_A = cycle_consistency_loss(reconstructed_xrays, input_xrays)\n",
    "\n",
    "        reconstructed_volumes = generator_2d_to_3d(reconstructed_xrays)\n",
    "        loss_cycle_B = cycle_consistency_loss(reconstructed_volumes, fake_3d)\n",
    "\n",
    "        loss_G = loss_G_A_adv + lambda_cycle * (loss_cycle_A + loss_cycle_B)\n",
    "        loss_G.backward()\n",
    "\n",
    "        # gradient clipping for the generators\n",
    "        torch.nn.utils.clip_grad_norm_(generator_2d_to_3d.parameters(), max_norm=1.0)\n",
    "        torch.nn.utils.clip_grad_norm_(generator_3d_to_2d.parameters(), max_norm=1.0)\n",
    "\n",
    "        optimizer_G_A.step()\n",
    "        optimizer_G_B.step()\n",
    "\n",
    "        # -------------------\n",
    "        # Train Discriminator (3D)\n",
    "        # -------------------\n",
    "        if i % 2 == 0:  # balancing training steps\n",
    "            optimizer_D.zero_grad()\n",
    "            real_3d = torch.randn_like(fake_3d).to(device)\n",
    "            real_scores = discriminator_3d(real_3d)\n",
    "            real_labels = (1.0 - label_smoothing) * torch.ones_like(real_scores).to(device)\n",
    "            loss_real = adversarial_loss(real_scores, real_labels)\n",
    "\n",
    "            fake_scores = discriminator_3d(fake_3d.detach())\n",
    "            fake_labels = label_smoothing * torch.zeros_like(fake_scores).to(device)\n",
    "            loss_fake = adversarial_loss(fake_scores, fake_labels)\n",
    "\n",
    "            loss_D = (loss_real + loss_fake) / 2\n",
    "            loss_D.backward()\n",
    "\n",
    "            # gradient clipping for the discriminator\n",
    "            torch.nn.utils.clip_grad_norm_(discriminator_3d.parameters(), max_norm=1.0)\n",
    "\n",
    "            optimizer_D.step()\n",
    "\n",
    "        # accumulating losses\n",
    "        epoch_loss_G_A += loss_G_A_adv.item()\n",
    "        epoch_loss_Cycle_A += loss_cycle_A.item()\n",
    "        epoch_loss_Cycle_B += loss_cycle_B.item()\n",
    "        epoch_loss_D += loss_D.item() if i % 2 == 0 else 0.0\n",
    "\n",
    "    # average losses\n",
    "    avg_loss_G_A = epoch_loss_G_A / len(train_loader)\n",
    "    avg_loss_Cycle_A = epoch_loss_Cycle_A / len(train_loader)\n",
    "    avg_loss_Cycle_B = epoch_loss_Cycle_B / len(train_loader)\n",
    "    avg_loss_D = epoch_loss_D / (len(train_loader) / 2)\n",
    "\n",
    "    # appending epoch losses to the dictionary\n",
    "    losses[\"G_A\"].append(avg_loss_G_A)\n",
    "    losses[\"Cycle_A\"].append(avg_loss_Cycle_A)\n",
    "    losses[\"Cycle_B\"].append(avg_loss_Cycle_B)\n",
    "    losses[\"D\"].append(avg_loss_D)\n",
    "\n",
    "    print(\n",
    "        f\"Epoch [{epoch+1}/{num_epochs}] Training: \"\n",
    "        f\"Loss_G_A: {avg_loss_G_A:.4f} | \"\n",
    "        f\"Loss_Cycle_A: {avg_loss_Cycle_A:.4f} | \"\n",
    "        f\"Loss_Cycle_B: {avg_loss_Cycle_B:.4f} | \"\n",
    "        f\"Loss_D: {avg_loss_D:.4f}\"\n",
    "    )\n",
    "\n",
    "    # saving checkpoints every 10 epochs\n",
    "    if (epoch + 1) % 20 == 0:\n",
    "        torch.save(generator_2d_to_3d.state_dict(), f\"generator_2d_to_3d_epoch_{epoch+1}.pth\")\n",
    "        torch.save(generator_3d_to_2d.state_dict(), f\"generator_3d_to_2d_epoch_{epoch+1}.pth\")\n",
    "        torch.save(discriminator_3d.state_dict(), f\"discriminator_epoch_{epoch+1}.pth\")\n"
   ]
  },
  {
   "cell_type": "code",
   "execution_count": 47,
   "id": "f67d4b6b",
   "metadata": {},
   "outputs": [
    {
     "name": "stdout",
     "output_type": "stream",
     "text": [
      "Average SSIM: 0.2590\n",
      "Average PSNR: 11.2179\n"
     ]
    }
   ],
   "source": [
    "# EVALUATION LOOP\n",
    "\n",
    "from skimage.metrics import structural_similarity as ssim\n",
    "from skimage.metrics import peak_signal_noise_ratio as psnr\n",
    "import numpy as np\n",
    "\n",
    "def evaluate_model(test_loader, generator_2d_to_3d, generator_3d_to_2d, device):\n",
    "    generator_2d_to_3d.eval()\n",
    "    generator_3d_to_2d.eval()\n",
    "\n",
    "    total_ssim = 0.0\n",
    "    total_psnr = 0.0\n",
    "    num_samples = 0\n",
    "\n",
    "    with torch.no_grad():\n",
    "        for batch in test_loader:\n",
    "            frontal, lateral = batch['frontal'].to(device), batch['lateral'].to(device)\n",
    "            input_xrays = torch.cat((frontal, lateral), dim=1)  # combined input with 2 channels\n",
    "\n",
    "            # generating 3D and reconstructing 2D (cycle)\n",
    "            fake_3d = generator_2d_to_3d(input_xrays)\n",
    "            reconstructed_xrays = generator_3d_to_2d(fake_3d)\n",
    "\n",
    "            # looping over batch\n",
    "            for i in range(reconstructed_xrays.size(0)):\n",
    "                reconstructed = reconstructed_xrays[i].cpu().numpy()\n",
    "                original = input_xrays[i].cpu().numpy()\n",
    "\n",
    "                # processing channels separately\n",
    "                for c in range(reconstructed.shape[0]):  # Loop over 2 channels\n",
    "                    reconstructed_channel = np.clip(reconstructed[c], 0, 1)\n",
    "                    original_channel = np.clip(original[c], 0, 1)\n",
    "\n",
    "                    # computing metrics for the channel\n",
    "                    total_ssim += ssim(reconstructed_channel, original_channel, data_range=1.0, win_size=3)\n",
    "                    total_psnr += psnr(reconstructed_channel, original_channel, data_range=1.0)\n",
    "                    num_samples += 1\n",
    "\n",
    "    # average \n",
    "    avg_ssim = total_ssim / num_samples if num_samples > 0 else 0\n",
    "    avg_psnr = total_psnr / num_samples if num_samples > 0 else 0\n",
    "    print(f\"Average SSIM: {avg_ssim:.4f}\")\n",
    "    print(f\"Average PSNR: {avg_psnr:.4f}\")\n",
    "\n",
    "    return avg_ssim, avg_psnr\n",
    "\n",
    "# evaluating the model\n",
    "avg_ssim, avg_psnr = evaluate_model(test_loader, generator_2d_to_3d, generator_3d_to_2d, device)\n"
   ]
  },
  {
   "cell_type": "code",
   "execution_count": 41,
   "id": "21e8a5fd",
   "metadata": {},
   "outputs": [
    {
     "data": {
      "text/plain": [
       "{'G_A': [5.395305362343788,\n",
       "  7.348821830749512,\n",
       "  7.766608863406711,\n",
       "  7.989891261524624,\n",
       "  8.137742100821601,\n",
       "  7.150198421213362,\n",
       "  5.5775288661321,\n",
       "  6.459099896748861,\n",
       "  6.82906452814738,\n",
       "  7.197678181860182,\n",
       "  7.294581935140822,\n",
       "  7.371590852737427,\n",
       "  7.459664943483141,\n",
       "  7.447839339574178,\n",
       "  7.462816972202725,\n",
       "  7.518606474664476,\n",
       "  7.605677156978183,\n",
       "  7.77778476079305,\n",
       "  7.891857976383633,\n",
       "  8.021100907855564,\n",
       "  8.112337848875258,\n",
       "  6.675059549013773,\n",
       "  6.3782045735253226,\n",
       "  5.685761810673608,\n",
       "  5.275965921084086,\n",
       "  6.698975708749559,\n",
       "  7.552115098635356,\n",
       "  7.820345062679714,\n",
       "  8.042904535929361,\n",
       "  8.17687536875407,\n",
       "  8.306444141599867,\n",
       "  8.327547947565714,\n",
       "  7.251792653401693,\n",
       "  6.338212301996019,\n",
       "  6.852022873030768,\n",
       "  7.220691892835829,\n",
       "  7.515439984533522],\n",
       " 'Cycle_A': [0.49416291117668154,\n",
       "  0.48354917714993156,\n",
       "  0.47406269162893294,\n",
       "  0.47054784066147276,\n",
       "  0.46342787378364136,\n",
       "  0.47489353583918675,\n",
       "  0.5099400848150253,\n",
       "  0.5055658239457342,\n",
       "  0.502924919128418,\n",
       "  0.49840484460194906,\n",
       "  0.4987318217754364,\n",
       "  0.4814542303482691,\n",
       "  0.48845085402329763,\n",
       "  0.48451926194959216,\n",
       "  0.4846007371942202,\n",
       "  0.48093294021156097,\n",
       "  0.47580478919876945,\n",
       "  0.47400476336479186,\n",
       "  0.4754509268535508,\n",
       "  0.4663874533441332,\n",
       "  0.47486636936664584,\n",
       "  0.4780805806318919,\n",
       "  0.48478622254398135,\n",
       "  0.4882294199532933,\n",
       "  0.49287150899569193,\n",
       "  0.48594520257578955,\n",
       "  0.4838959574699402,\n",
       "  0.47735908445384767,\n",
       "  0.4725027665495872,\n",
       "  0.47668536487552854,\n",
       "  0.47663988206121655,\n",
       "  0.4720166688164075,\n",
       "  0.4710638380712933,\n",
       "  0.4724985745218065,\n",
       "  0.478973130385081,\n",
       "  0.47420687460237076,\n",
       "  0.4765097788638539],\n",
       " 'Cycle_B': [0.03166143448260199,\n",
       "  8.86675264862586e-05,\n",
       "  3.429800941982345e-05,\n",
       "  2.4628746581988203e-05,\n",
       "  2.0722900505158274e-05,\n",
       "  0.021234420252393547,\n",
       "  0.06153270308342245,\n",
       "  0.04634312517527077,\n",
       "  0.04000835780882173,\n",
       "  0.03153054829065998,\n",
       "  0.028273923156989945,\n",
       "  0.02565280854081114,\n",
       "  0.02464711596775386,\n",
       "  0.025809495844360854,\n",
       "  0.025293312925431462,\n",
       "  0.02419509348563022,\n",
       "  0.02373036058205697,\n",
       "  0.02274526853321327,\n",
       "  0.02179311252095633,\n",
       "  0.020684583629998896,\n",
       "  0.019787964793956943,\n",
       "  0.03195739027319683,\n",
       "  0.03295956498218907,\n",
       "  0.05132811215395729,\n",
       "  0.033332172869187264,\n",
       "  0.03158519652982553,\n",
       "  0.027821248148878416,\n",
       "  0.02492306320410636,\n",
       "  0.02326988989694251,\n",
       "  0.021877257567312982,\n",
       "  0.02092514583427045,\n",
       "  0.021703864344292216,\n",
       "  0.037819446426712804,\n",
       "  0.06828264925214979,\n",
       "  0.05836148092316257,\n",
       "  0.053999596047732565,\n",
       "  0.050198543961677285],\n",
       " 'D': [0.2336602293782764,\n",
       "  0.18208332707484562,\n",
       "  0.1810828513569302,\n",
       "  0.17937572085195116,\n",
       "  0.17879129615094927,\n",
       "  0.17931767685545816,\n",
       "  0.1788169084323777,\n",
       "  0.17766587436199188,\n",
       "  0.17611011647515826,\n",
       "  0.17537217322323057,\n",
       "  0.1748696873585383,\n",
       "  0.17425889439053005,\n",
       "  0.17350044482284122,\n",
       "  0.17294224898020427,\n",
       "  0.1722874927851889,\n",
       "  0.17181589603424072,\n",
       "  0.17139487514893215,\n",
       "  0.1711702287197113,\n",
       "  0.17013907730579375,\n",
       "  0.17004065414269764,\n",
       "  0.16978682776292164,\n",
       "  0.17082427475187514,\n",
       "  0.16976314153936173,\n",
       "  0.17756696508990394,\n",
       "  0.1725592479109764,\n",
       "  0.1706499743792746,\n",
       "  0.16954501784510081,\n",
       "  0.16894313659932877,\n",
       "  0.16849149349662992,\n",
       "  0.16817507396141687,\n",
       "  0.16773809360133277,\n",
       "  0.16744366536537805,\n",
       "  0.16854784256882138,\n",
       "  0.16801937205923928,\n",
       "  0.16729163659943475,\n",
       "  0.16702576080958048,\n",
       "  0.16664381557040744]}"
      ]
     },
     "execution_count": 41,
     "metadata": {},
     "output_type": "execute_result"
    }
   ],
   "source": [
    "losses"
   ]
  },
  {
   "cell_type": "code",
   "execution_count": 42,
   "id": "d5969157",
   "metadata": {},
   "outputs": [
    {
     "data": {
      "image/png": "[encoded data removed]",
      "text/plain": [
       "<Figure size 1000x600 with 1 Axes>"
      ]
     },
     "metadata": {},
     "output_type": "display_data"
    }
   ],
   "source": [
    "# plotting the loss curves\n",
    "plt.figure(figsize=(10, 6))\n",
    "\n",
    "plt.plot(losses[\"G_A\"], label=\"Generator A Adversarial Loss\")\n",
    "plt.plot(losses[\"Cycle_A\"], label=\"Cycle Consistency Loss A\")\n",
    "plt.plot(losses[\"Cycle_B\"], label=\"Cycle Consistency Loss B\")\n",
    "plt.plot(losses[\"D\"], label=\"Discriminator Loss\")\n",
    "\n",
    "plt.title(\"Training Loss Curves\")\n",
    "plt.xlabel(\"Epochs\")\n",
    "plt.ylabel(\"Loss\")\n",
    "plt.legend()\n",
    "plt.grid()\n",
    "plt.show()"
   ]
  },
  {
   "cell_type": "code",
   "execution_count": 43,
   "id": "3e85913f",
   "metadata": {},
   "outputs": [
    {
     "data": {
      "image/png": "[encoded data removed]",
      "text/plain": [
       "<Figure size 1500x500 with 3 Axes>"
      ]
     },
     "metadata": {},
     "output_type": "display_data"
    }
   ],
   "source": [
    "def visualize_results(generator_2d_to_3d, generator_3d_to_2d, frontal, lateral, device):\n",
    "    generator_2d_to_3d.eval()\n",
    "    generator_3d_to_2d.eval()\n",
    "\n",
    "    # Prepare input\n",
    "    frontal = frontal.unsqueeze(0).to(device)  # Add batch dimension\n",
    "    lateral = lateral.unsqueeze(0).to(device)  # Add batch dimension\n",
    "    input_xrays = torch.cat((frontal, lateral), dim=1)\n",
    "\n",
    "    with torch.no_grad():\n",
    "        fake_3d = generator_2d_to_3d(input_xrays)\n",
    "        reconstructed_xrays = generator_3d_to_2d(fake_3d)\n",
    "\n",
    "    # Select a single channel or average across channels\n",
    "    reconstructed_image = reconstructed_xrays[0].mean(dim=0).cpu().numpy()  # Average channels\n",
    "    frontal_image = frontal[0][0].cpu().numpy()  # First channel of frontal view\n",
    "    lateral_image = lateral[0][0].cpu().numpy()  # First channel of lateral view\n",
    "\n",
    "    # Plot images\n",
    "    fig, axes = plt.subplots(1, 3, figsize=(15, 5))\n",
    "    axes[0].imshow(frontal_image, cmap='gray')\n",
    "    axes[0].set_title(\"Frontal X-Ray\")\n",
    "    axes[1].imshow(lateral_image, cmap='gray')\n",
    "    axes[1].set_title(\"Lateral X-Ray\")\n",
    "    axes[2].imshow(reconstructed_image, cmap='gray')\n",
    "    axes[2].set_title(\"Reconstructed X-Ray\")\n",
    "    plt.show()\n",
    "\n",
    "# Get a sample from the dataset\n",
    "sample = next(iter(test_loader))\n",
    "frontal_sample, lateral_sample = sample['frontal'][0], sample['lateral'][0]\n",
    "\n",
    "# Visualize the results\n",
    "visualize_results(generator_2d_to_3d, generator_3d_to_2d, frontal_sample, lateral_sample, device)\n"
   ]
  },
  {
   "cell_type": "code",
   "execution_count": 46,
   "id": "1a8c2b57",
   "metadata": {},
   "outputs": [
    {
     "data": {
      "text/plain": [
       "torch.Size([16, 1, 64, 64, 64])"
      ]
     },
     "execution_count": 46,
     "metadata": {},
     "output_type": "execute_result"
    }
   ],
   "source": [
    "fake_3d.shape"
   ]
  },
  {
   "cell_type": "markdown",
   "id": "66eb0200",
   "metadata": {},
   "source": [
    "## CYCLEGAN - BIPLANAR IMAGES - LAMBDA 10"
   ]
  },
  {
   "cell_type": "code",
   "execution_count": 23,
   "id": "9cb69f6a",
   "metadata": {},
   "outputs": [
    {
     "name": "stderr",
     "output_type": "stream",
     "text": [
      "Epoch [1/50]: 100%|██████████| 180/180 [11:16<00:00,  3.76s/it]\n"
     ]
    },
    {
     "name": "stdout",
     "output_type": "stream",
     "text": [
      "Epoch [1/50] Training: Loss_G_A: 2.5218 | Loss_Cycle_A: 0.5309 | Loss_Cycle_B: 0.1854 | Loss_D: 0.3633\n"
     ]
    },
    {
     "name": "stderr",
     "output_type": "stream",
     "text": [
      "Epoch [2/50]: 100%|██████████| 180/180 [11:13<00:00,  3.74s/it]\n"
     ]
    },
    {
     "name": "stdout",
     "output_type": "stream",
     "text": [
      "Epoch [2/50] Training: Loss_G_A: 5.4164 | Loss_Cycle_A: 0.5365 | Loss_Cycle_B: 0.1267 | Loss_D: 0.1858\n"
     ]
    },
    {
     "name": "stderr",
     "output_type": "stream",
     "text": [
      "Epoch [3/50]: 100%|██████████| 180/180 [11:13<00:00,  3.74s/it]\n"
     ]
    },
    {
     "name": "stdout",
     "output_type": "stream",
     "text": [
      "Epoch [3/50] Training: Loss_G_A: 6.3756 | Loss_Cycle_A: 0.5477 | Loss_Cycle_B: 0.0964 | Loss_D: 0.1837\n"
     ]
    },
    {
     "name": "stderr",
     "output_type": "stream",
     "text": [
      "Epoch [4/50]: 100%|██████████| 180/180 [11:13<00:00,  3.74s/it]\n"
     ]
    },
    {
     "name": "stdout",
     "output_type": "stream",
     "text": [
      "Epoch [4/50] Training: Loss_G_A: 6.4540 | Loss_Cycle_A: 0.5413 | Loss_Cycle_B: 0.0824 | Loss_D: 0.1822\n"
     ]
    },
    {
     "name": "stderr",
     "output_type": "stream",
     "text": [
      "Epoch [5/50]: 100%|██████████| 180/180 [11:12<00:00,  3.74s/it]\n"
     ]
    },
    {
     "name": "stdout",
     "output_type": "stream",
     "text": [
      "Epoch [5/50] Training: Loss_G_A: 6.8115 | Loss_Cycle_A: 0.5312 | Loss_Cycle_B: 0.0699 | Loss_D: 0.1812\n"
     ]
    },
    {
     "name": "stderr",
     "output_type": "stream",
     "text": [
      "Epoch [6/50]: 100%|██████████| 180/180 [11:13<00:00,  3.74s/it]\n"
     ]
    },
    {
     "name": "stdout",
     "output_type": "stream",
     "text": [
      "Epoch [6/50] Training: Loss_G_A: 7.1423 | Loss_Cycle_A: 0.5369 | Loss_Cycle_B: 0.0556 | Loss_D: 0.1797\n"
     ]
    },
    {
     "name": "stderr",
     "output_type": "stream",
     "text": [
      "Epoch [7/50]: 100%|██████████| 180/180 [11:13<00:00,  3.74s/it]\n"
     ]
    },
    {
     "name": "stdout",
     "output_type": "stream",
     "text": [
      "Epoch [7/50] Training: Loss_G_A: 7.1961 | Loss_Cycle_A: 0.5502 | Loss_Cycle_B: 0.0493 | Loss_D: 0.1790\n"
     ]
    },
    {
     "name": "stderr",
     "output_type": "stream",
     "text": [
      "Epoch [8/50]: 100%|██████████| 180/180 [11:13<00:00,  3.74s/it]\n"
     ]
    },
    {
     "name": "stdout",
     "output_type": "stream",
     "text": [
      "Epoch [8/50] Training: Loss_G_A: 6.3763 | Loss_Cycle_A: 0.5384 | Loss_Cycle_B: 0.0700 | Loss_D: 0.1795\n"
     ]
    },
    {
     "name": "stderr",
     "output_type": "stream",
     "text": [
      "Epoch [9/50]: 100%|██████████| 180/180 [11:13<00:00,  3.74s/it]\n"
     ]
    },
    {
     "name": "stdout",
     "output_type": "stream",
     "text": [
      "Epoch [9/50] Training: Loss_G_A: 5.9693 | Loss_Cycle_A: 0.5412 | Loss_Cycle_B: 0.0794 | Loss_D: 0.1781\n"
     ]
    },
    {
     "name": "stderr",
     "output_type": "stream",
     "text": [
      "Epoch [10/50]: 100%|██████████| 180/180 [11:13<00:00,  3.74s/it]\n"
     ]
    },
    {
     "name": "stdout",
     "output_type": "stream",
     "text": [
      "Epoch [10/50] Training: Loss_G_A: 5.4707 | Loss_Cycle_A: 0.5336 | Loss_Cycle_B: 0.1002 | Loss_D: 0.1833\n"
     ]
    },
    {
     "name": "stderr",
     "output_type": "stream",
     "text": [
      "Epoch [11/50]: 100%|██████████| 180/180 [11:13<00:00,  3.74s/it]\n"
     ]
    },
    {
     "name": "stdout",
     "output_type": "stream",
     "text": [
      "Epoch [11/50] Training: Loss_G_A: 4.6900 | Loss_Cycle_A: 0.5478 | Loss_Cycle_B: 0.1265 | Loss_D: 0.1835\n"
     ]
    },
    {
     "name": "stderr",
     "output_type": "stream",
     "text": [
      "Epoch [12/50]: 100%|██████████| 180/180 [11:13<00:00,  3.74s/it]\n"
     ]
    },
    {
     "name": "stdout",
     "output_type": "stream",
     "text": [
      "Epoch [12/50] Training: Loss_G_A: 4.0300 | Loss_Cycle_A: 0.5430 | Loss_Cycle_B: 0.2126 | Loss_D: 0.2027\n"
     ]
    },
    {
     "name": "stderr",
     "output_type": "stream",
     "text": [
      "Epoch [13/50]: 100%|██████████| 180/180 [11:13<00:00,  3.74s/it]\n"
     ]
    },
    {
     "name": "stdout",
     "output_type": "stream",
     "text": [
      "Epoch [13/50] Training: Loss_G_A: 4.0410 | Loss_Cycle_A: 0.5601 | Loss_Cycle_B: 0.2800 | Loss_D: 0.2230\n"
     ]
    },
    {
     "name": "stderr",
     "output_type": "stream",
     "text": [
      "Epoch [14/50]: 100%|██████████| 180/180 [11:14<00:00,  3.75s/it]\n"
     ]
    },
    {
     "name": "stdout",
     "output_type": "stream",
     "text": [
      "Epoch [14/50] Training: Loss_G_A: 3.4138 | Loss_Cycle_A: 0.5358 | Loss_Cycle_B: 0.3104 | Loss_D: 0.2306\n"
     ]
    },
    {
     "name": "stderr",
     "output_type": "stream",
     "text": [
      "Epoch [15/50]: 100%|██████████| 180/180 [11:13<00:00,  3.74s/it]\n"
     ]
    },
    {
     "name": "stdout",
     "output_type": "stream",
     "text": [
      "Epoch [15/50] Training: Loss_G_A: 3.6634 | Loss_Cycle_A: 0.5468 | Loss_Cycle_B: 0.3934 | Loss_D: 0.2061\n"
     ]
    },
    {
     "name": "stderr",
     "output_type": "stream",
     "text": [
      "Epoch [16/50]: 100%|██████████| 180/180 [11:13<00:00,  3.74s/it]\n"
     ]
    },
    {
     "name": "stdout",
     "output_type": "stream",
     "text": [
      "Epoch [16/50] Training: Loss_G_A: 3.9077 | Loss_Cycle_A: 0.5541 | Loss_Cycle_B: 0.4292 | Loss_D: 0.1988\n"
     ]
    },
    {
     "name": "stderr",
     "output_type": "stream",
     "text": [
      "Epoch [17/50]: 100%|██████████| 180/180 [11:13<00:00,  3.74s/it]\n"
     ]
    },
    {
     "name": "stdout",
     "output_type": "stream",
     "text": [
      "Epoch [17/50] Training: Loss_G_A: 4.4473 | Loss_Cycle_A: 0.5388 | Loss_Cycle_B: 0.3799 | Loss_D: 0.1887\n"
     ]
    },
    {
     "name": "stderr",
     "output_type": "stream",
     "text": [
      "Epoch [18/50]: 100%|██████████| 180/180 [11:13<00:00,  3.74s/it]\n"
     ]
    },
    {
     "name": "stdout",
     "output_type": "stream",
     "text": [
      "Epoch [18/50] Training: Loss_G_A: 4.7815 | Loss_Cycle_A: 0.5482 | Loss_Cycle_B: 0.3521 | Loss_D: 0.1868\n"
     ]
    },
    {
     "name": "stderr",
     "output_type": "stream",
     "text": [
      "Epoch [19/50]: 100%|██████████| 180/180 [11:13<00:00,  3.74s/it]\n"
     ]
    },
    {
     "name": "stdout",
     "output_type": "stream",
     "text": [
      "Epoch [19/50] Training: Loss_G_A: 5.1133 | Loss_Cycle_A: 0.5478 | Loss_Cycle_B: 0.3160 | Loss_D: 0.1838\n"
     ]
    },
    {
     "name": "stderr",
     "output_type": "stream",
     "text": [
      "Epoch [20/50]: 100%|██████████| 180/180 [11:13<00:00,  3.74s/it]\n"
     ]
    },
    {
     "name": "stdout",
     "output_type": "stream",
     "text": [
      "Epoch [20/50] Training: Loss_G_A: 5.0763 | Loss_Cycle_A: 0.5108 | Loss_Cycle_B: 0.2522 | Loss_D: 0.1834\n"
     ]
    },
    {
     "name": "stderr",
     "output_type": "stream",
     "text": [
      "Epoch [21/50]: 100%|██████████| 180/180 [11:11<00:00,  3.73s/it]\n"
     ]
    },
    {
     "name": "stdout",
     "output_type": "stream",
     "text": [
      "Epoch [21/50] Training: Loss_G_A: 4.7983 | Loss_Cycle_A: 0.5312 | Loss_Cycle_B: 0.2383 | Loss_D: 0.1836\n"
     ]
    },
    {
     "name": "stderr",
     "output_type": "stream",
     "text": [
      "Epoch [22/50]: 100%|██████████| 180/180 [11:09<00:00,  3.72s/it]\n"
     ]
    },
    {
     "name": "stdout",
     "output_type": "stream",
     "text": [
      "Epoch [22/50] Training: Loss_G_A: 5.4478 | Loss_Cycle_A: 0.5554 | Loss_Cycle_B: 0.1842 | Loss_D: 0.1842\n"
     ]
    },
    {
     "name": "stderr",
     "output_type": "stream",
     "text": [
      "Epoch [23/50]: 100%|██████████| 180/180 [11:09<00:00,  3.72s/it]\n"
     ]
    },
    {
     "name": "stdout",
     "output_type": "stream",
     "text": [
      "Epoch [23/50] Training: Loss_G_A: 4.8490 | Loss_Cycle_A: 0.5448 | Loss_Cycle_B: 0.1983 | Loss_D: 0.1901\n"
     ]
    },
    {
     "name": "stderr",
     "output_type": "stream",
     "text": [
      "Epoch [24/50]: 100%|██████████| 180/180 [11:09<00:00,  3.72s/it]\n"
     ]
    },
    {
     "name": "stdout",
     "output_type": "stream",
     "text": [
      "Epoch [24/50] Training: Loss_G_A: 5.3604 | Loss_Cycle_A: 0.5447 | Loss_Cycle_B: 0.1770 | Loss_D: 0.1814\n"
     ]
    },
    {
     "name": "stderr",
     "output_type": "stream",
     "text": [
      "Epoch [25/50]: 100%|██████████| 180/180 [11:08<00:00,  3.72s/it]\n"
     ]
    },
    {
     "name": "stdout",
     "output_type": "stream",
     "text": [
      "Epoch [25/50] Training: Loss_G_A: 5.8725 | Loss_Cycle_A: 0.5417 | Loss_Cycle_B: 0.1374 | Loss_D: 0.1792\n"
     ]
    },
    {
     "name": "stderr",
     "output_type": "stream",
     "text": [
      "Epoch [26/50]: 100%|██████████| 180/180 [11:08<00:00,  3.72s/it]\n"
     ]
    },
    {
     "name": "stdout",
     "output_type": "stream",
     "text": [
      "Epoch [26/50] Training: Loss_G_A: 5.2015 | Loss_Cycle_A: 0.5350 | Loss_Cycle_B: 0.1851 | Loss_D: 0.1793\n"
     ]
    },
    {
     "name": "stderr",
     "output_type": "stream",
     "text": [
      "Epoch [27/50]: 100%|██████████| 180/180 [11:09<00:00,  3.72s/it]\n"
     ]
    },
    {
     "name": "stdout",
     "output_type": "stream",
     "text": [
      "Epoch [27/50] Training: Loss_G_A: 5.3720 | Loss_Cycle_A: 0.5365 | Loss_Cycle_B: 0.1436 | Loss_D: 0.1781\n"
     ]
    },
    {
     "name": "stderr",
     "output_type": "stream",
     "text": [
      "Epoch [28/50]: 100%|██████████| 180/180 [11:10<00:00,  3.72s/it]\n"
     ]
    },
    {
     "name": "stdout",
     "output_type": "stream",
     "text": [
      "Epoch [28/50] Training: Loss_G_A: 5.1776 | Loss_Cycle_A: 0.5404 | Loss_Cycle_B: 0.1696 | Loss_D: 0.1780\n"
     ]
    },
    {
     "name": "stderr",
     "output_type": "stream",
     "text": [
      "Epoch [29/50]: 100%|██████████| 180/180 [11:09<00:00,  3.72s/it]\n"
     ]
    },
    {
     "name": "stdout",
     "output_type": "stream",
     "text": [
      "Epoch [29/50] Training: Loss_G_A: 5.5530 | Loss_Cycle_A: 0.5312 | Loss_Cycle_B: 0.1454 | Loss_D: 0.1765\n"
     ]
    },
    {
     "name": "stderr",
     "output_type": "stream",
     "text": [
      "Epoch [30/50]: 100%|██████████| 180/180 [11:10<00:00,  3.72s/it]\n"
     ]
    },
    {
     "name": "stdout",
     "output_type": "stream",
     "text": [
      "Epoch [30/50] Training: Loss_G_A: 5.4935 | Loss_Cycle_A: 0.5304 | Loss_Cycle_B: 0.1718 | Loss_D: 0.1760\n"
     ]
    },
    {
     "name": "stderr",
     "output_type": "stream",
     "text": [
      "Epoch [31/50]: 100%|██████████| 180/180 [11:09<00:00,  3.72s/it]\n"
     ]
    },
    {
     "name": "stdout",
     "output_type": "stream",
     "text": [
      "Epoch [31/50] Training: Loss_G_A: 5.4499 | Loss_Cycle_A: 0.5389 | Loss_Cycle_B: 0.1738 | Loss_D: 0.1759\n"
     ]
    },
    {
     "name": "stderr",
     "output_type": "stream",
     "text": [
      "Epoch [32/50]: 100%|██████████| 180/180 [11:09<00:00,  3.72s/it]\n"
     ]
    },
    {
     "name": "stdout",
     "output_type": "stream",
     "text": [
      "Epoch [32/50] Training: Loss_G_A: 5.6242 | Loss_Cycle_A: 0.5337 | Loss_Cycle_B: 0.1731 | Loss_D: 0.1750\n"
     ]
    },
    {
     "name": "stderr",
     "output_type": "stream",
     "text": [
      "Epoch [33/50]: 100%|██████████| 180/180 [11:08<00:00,  3.71s/it]\n"
     ]
    },
    {
     "name": "stdout",
     "output_type": "stream",
     "text": [
      "Epoch [33/50] Training: Loss_G_A: 5.8877 | Loss_Cycle_A: 0.5200 | Loss_Cycle_B: 0.1263 | Loss_D: 0.1746\n"
     ]
    },
    {
     "name": "stderr",
     "output_type": "stream",
     "text": [
      "Epoch [34/50]: 100%|██████████| 180/180 [11:09<00:00,  3.72s/it]\n"
     ]
    },
    {
     "name": "stdout",
     "output_type": "stream",
     "text": [
      "Epoch [34/50] Training: Loss_G_A: 5.8383 | Loss_Cycle_A: 0.5438 | Loss_Cycle_B: 0.1351 | Loss_D: 0.1736\n"
     ]
    },
    {
     "name": "stderr",
     "output_type": "stream",
     "text": [
      "Epoch [35/50]: 100%|██████████| 180/180 [11:09<00:00,  3.72s/it]\n"
     ]
    },
    {
     "name": "stdout",
     "output_type": "stream",
     "text": [
      "Epoch [35/50] Training: Loss_G_A: 5.5845 | Loss_Cycle_A: 0.5422 | Loss_Cycle_B: 0.1429 | Loss_D: 0.1738\n"
     ]
    },
    {
     "name": "stderr",
     "output_type": "stream",
     "text": [
      "Epoch [36/50]: 100%|██████████| 180/180 [11:09<00:00,  3.72s/it]\n"
     ]
    },
    {
     "name": "stdout",
     "output_type": "stream",
     "text": [
      "Epoch [36/50] Training: Loss_G_A: 5.8718 | Loss_Cycle_A: 0.5269 | Loss_Cycle_B: 0.1395 | Loss_D: 0.1727\n"
     ]
    },
    {
     "name": "stderr",
     "output_type": "stream",
     "text": [
      "Epoch [37/50]: 100%|██████████| 180/180 [11:08<00:00,  3.72s/it]\n"
     ]
    },
    {
     "name": "stdout",
     "output_type": "stream",
     "text": [
      "Epoch [37/50] Training: Loss_G_A: 6.0909 | Loss_Cycle_A: 0.5273 | Loss_Cycle_B: 0.1273 | Loss_D: 0.1722\n"
     ]
    },
    {
     "name": "stderr",
     "output_type": "stream",
     "text": [
      "Epoch [38/50]: 100%|██████████| 180/180 [11:08<00:00,  3.71s/it]\n"
     ]
    },
    {
     "name": "stdout",
     "output_type": "stream",
     "text": [
      "Epoch [38/50] Training: Loss_G_A: 6.0209 | Loss_Cycle_A: 0.5260 | Loss_Cycle_B: 0.1235 | Loss_D: 0.1718\n"
     ]
    },
    {
     "name": "stderr",
     "output_type": "stream",
     "text": [
      "Epoch [39/50]: 100%|██████████| 180/180 [11:08<00:00,  3.72s/it]\n"
     ]
    },
    {
     "name": "stdout",
     "output_type": "stream",
     "text": [
      "Epoch [39/50] Training: Loss_G_A: 6.2424 | Loss_Cycle_A: 0.5359 | Loss_Cycle_B: 0.1228 | Loss_D: 0.1712\n"
     ]
    },
    {
     "name": "stderr",
     "output_type": "stream",
     "text": [
      "Epoch [40/50]: 100%|██████████| 180/180 [11:09<00:00,  3.72s/it]\n"
     ]
    },
    {
     "name": "stdout",
     "output_type": "stream",
     "text": [
      "Epoch [40/50] Training: Loss_G_A: 6.0950 | Loss_Cycle_A: 0.5155 | Loss_Cycle_B: 0.1280 | Loss_D: 0.1709\n"
     ]
    },
    {
     "name": "stderr",
     "output_type": "stream",
     "text": [
      "Epoch [41/50]: 100%|██████████| 180/180 [11:09<00:00,  3.72s/it]\n"
     ]
    },
    {
     "name": "stdout",
     "output_type": "stream",
     "text": [
      "Epoch [41/50] Training: Loss_G_A: 6.3664 | Loss_Cycle_A: 0.5496 | Loss_Cycle_B: 0.1278 | Loss_D: 0.1705\n"
     ]
    },
    {
     "name": "stderr",
     "output_type": "stream",
     "text": [
      "Epoch [42/50]: 100%|██████████| 180/180 [11:10<00:00,  3.72s/it]\n"
     ]
    },
    {
     "name": "stdout",
     "output_type": "stream",
     "text": [
      "Epoch [42/50] Training: Loss_G_A: 6.4850 | Loss_Cycle_A: 0.5390 | Loss_Cycle_B: 0.1257 | Loss_D: 0.1697\n"
     ]
    },
    {
     "name": "stderr",
     "output_type": "stream",
     "text": [
      "Epoch [43/50]: 100%|██████████| 180/180 [11:10<00:00,  3.73s/it]\n"
     ]
    },
    {
     "name": "stdout",
     "output_type": "stream",
     "text": [
      "Epoch [43/50] Training: Loss_G_A: 6.3004 | Loss_Cycle_A: 0.5447 | Loss_Cycle_B: 0.1421 | Loss_D: 0.1699\n"
     ]
    },
    {
     "name": "stderr",
     "output_type": "stream",
     "text": [
      "Epoch [44/50]: 100%|██████████| 180/180 [11:10<00:00,  3.73s/it]\n"
     ]
    },
    {
     "name": "stdout",
     "output_type": "stream",
     "text": [
      "Epoch [44/50] Training: Loss_G_A: 6.1533 | Loss_Cycle_A: 0.5271 | Loss_Cycle_B: 0.1512 | Loss_D: 0.1696\n"
     ]
    },
    {
     "name": "stderr",
     "output_type": "stream",
     "text": [
      "Epoch [45/50]: 100%|██████████| 180/180 [11:10<00:00,  3.72s/it]\n"
     ]
    },
    {
     "name": "stdout",
     "output_type": "stream",
     "text": [
      "Epoch [45/50] Training: Loss_G_A: 6.2304 | Loss_Cycle_A: 0.5476 | Loss_Cycle_B: 0.1363 | Loss_D: 0.1693\n"
     ]
    },
    {
     "name": "stderr",
     "output_type": "stream",
     "text": [
      "Epoch [46/50]: 100%|██████████| 180/180 [11:09<00:00,  3.72s/it]\n"
     ]
    },
    {
     "name": "stdout",
     "output_type": "stream",
     "text": [
      "Epoch [46/50] Training: Loss_G_A: 6.0992 | Loss_Cycle_A: 0.5230 | Loss_Cycle_B: 0.1238 | Loss_D: 0.1692\n"
     ]
    },
    {
     "name": "stderr",
     "output_type": "stream",
     "text": [
      "Epoch [47/50]: 100%|██████████| 180/180 [11:09<00:00,  3.72s/it]\n"
     ]
    },
    {
     "name": "stdout",
     "output_type": "stream",
     "text": [
      "Epoch [47/50] Training: Loss_G_A: 6.2382 | Loss_Cycle_A: 0.5469 | Loss_Cycle_B: 0.1240 | Loss_D: 0.1689\n"
     ]
    },
    {
     "name": "stderr",
     "output_type": "stream",
     "text": [
      "Epoch [48/50]: 100%|██████████| 180/180 [11:10<00:00,  3.72s/it]\n"
     ]
    },
    {
     "name": "stdout",
     "output_type": "stream",
     "text": [
      "Epoch [48/50] Training: Loss_G_A: 6.4947 | Loss_Cycle_A: 0.5520 | Loss_Cycle_B: 0.1289 | Loss_D: 0.1685\n"
     ]
    },
    {
     "name": "stderr",
     "output_type": "stream",
     "text": [
      "Epoch [49/50]: 100%|██████████| 180/180 [11:10<00:00,  3.73s/it]\n"
     ]
    },
    {
     "name": "stdout",
     "output_type": "stream",
     "text": [
      "Epoch [49/50] Training: Loss_G_A: 6.5065 | Loss_Cycle_A: 0.5187 | Loss_Cycle_B: 0.1438 | Loss_D: 0.1684\n"
     ]
    },
    {
     "name": "stderr",
     "output_type": "stream",
     "text": [
      "Epoch [50/50]:  58%|█████▊    | 105/180 [06:34<04:41,  3.76s/it]\n"
     ]
    },
    {
     "ename": "KeyboardInterrupt",
     "evalue": "",
     "output_type": "error",
     "traceback": [
      "\u001b[0;31m---------------------------------------------------------------------------\u001b[0m",
      "\u001b[0;31mKeyboardInterrupt\u001b[0m                         Traceback (most recent call last)",
      "Cell \u001b[0;32mIn[23], line 48\u001b[0m\n\u001b[1;32m     45\u001b[0m loss_cycle_B \u001b[38;5;241m=\u001b[39m cycle_consistency_loss(reconstructed_volumes, fake_3d)\n\u001b[1;32m     47\u001b[0m loss_G \u001b[38;5;241m=\u001b[39m loss_G_A_adv \u001b[38;5;241m+\u001b[39m lambda_cycle \u001b[38;5;241m*\u001b[39m (loss_cycle_A \u001b[38;5;241m+\u001b[39m loss_cycle_B)\n\u001b[0;32m---> 48\u001b[0m \u001b[43mloss_G\u001b[49m\u001b[38;5;241;43m.\u001b[39;49m\u001b[43mbackward\u001b[49m\u001b[43m(\u001b[49m\u001b[43m)\u001b[49m\n\u001b[1;32m     50\u001b[0m \u001b[38;5;66;03m# Apply gradient clipping for the generators\u001b[39;00m\n\u001b[1;32m     51\u001b[0m torch\u001b[38;5;241m.\u001b[39mnn\u001b[38;5;241m.\u001b[39mutils\u001b[38;5;241m.\u001b[39mclip_grad_norm_(generator_2d_to_3d\u001b[38;5;241m.\u001b[39mparameters(), max_norm\u001b[38;5;241m=\u001b[39m\u001b[38;5;241m1.0\u001b[39m)\n",
      "File \u001b[0;32m~/.local/lib/python3.10/site-packages/torch/_tensor.py:521\u001b[0m, in \u001b[0;36mTensor.backward\u001b[0;34m(self, gradient, retain_graph, create_graph, inputs)\u001b[0m\n\u001b[1;32m    511\u001b[0m \u001b[38;5;28;01mif\u001b[39;00m has_torch_function_unary(\u001b[38;5;28mself\u001b[39m):\n\u001b[1;32m    512\u001b[0m     \u001b[38;5;28;01mreturn\u001b[39;00m handle_torch_function(\n\u001b[1;32m    513\u001b[0m         Tensor\u001b[38;5;241m.\u001b[39mbackward,\n\u001b[1;32m    514\u001b[0m         (\u001b[38;5;28mself\u001b[39m,),\n\u001b[0;32m   (...)\u001b[0m\n\u001b[1;32m    519\u001b[0m         inputs\u001b[38;5;241m=\u001b[39minputs,\n\u001b[1;32m    520\u001b[0m     )\n\u001b[0;32m--> 521\u001b[0m \u001b[43mtorch\u001b[49m\u001b[38;5;241;43m.\u001b[39;49m\u001b[43mautograd\u001b[49m\u001b[38;5;241;43m.\u001b[39;49m\u001b[43mbackward\u001b[49m\u001b[43m(\u001b[49m\n\u001b[1;32m    522\u001b[0m \u001b[43m    \u001b[49m\u001b[38;5;28;43mself\u001b[39;49m\u001b[43m,\u001b[49m\u001b[43m \u001b[49m\u001b[43mgradient\u001b[49m\u001b[43m,\u001b[49m\u001b[43m \u001b[49m\u001b[43mretain_graph\u001b[49m\u001b[43m,\u001b[49m\u001b[43m \u001b[49m\u001b[43mcreate_graph\u001b[49m\u001b[43m,\u001b[49m\u001b[43m \u001b[49m\u001b[43minputs\u001b[49m\u001b[38;5;241;43m=\u001b[39;49m\u001b[43minputs\u001b[49m\n\u001b[1;32m    523\u001b[0m \u001b[43m\u001b[49m\u001b[43m)\u001b[49m\n",
      "File \u001b[0;32m~/.local/lib/python3.10/site-packages/torch/autograd/__init__.py:289\u001b[0m, in \u001b[0;36mbackward\u001b[0;34m(tensors, grad_tensors, retain_graph, create_graph, grad_variables, inputs)\u001b[0m\n\u001b[1;32m    284\u001b[0m     retain_graph \u001b[38;5;241m=\u001b[39m create_graph\n\u001b[1;32m    286\u001b[0m \u001b[38;5;66;03m# The reason we repeat the same comment below is that\u001b[39;00m\n\u001b[1;32m    287\u001b[0m \u001b[38;5;66;03m# some Python versions print out the first line of a multi-line function\u001b[39;00m\n\u001b[1;32m    288\u001b[0m \u001b[38;5;66;03m# calls in the traceback and some print out the last line\u001b[39;00m\n\u001b[0;32m--> 289\u001b[0m \u001b[43m_engine_run_backward\u001b[49m\u001b[43m(\u001b[49m\n\u001b[1;32m    290\u001b[0m \u001b[43m    \u001b[49m\u001b[43mtensors\u001b[49m\u001b[43m,\u001b[49m\n\u001b[1;32m    291\u001b[0m \u001b[43m    \u001b[49m\u001b[43mgrad_tensors_\u001b[49m\u001b[43m,\u001b[49m\n\u001b[1;32m    292\u001b[0m \u001b[43m    \u001b[49m\u001b[43mretain_graph\u001b[49m\u001b[43m,\u001b[49m\n\u001b[1;32m    293\u001b[0m \u001b[43m    \u001b[49m\u001b[43mcreate_graph\u001b[49m\u001b[43m,\u001b[49m\n\u001b[1;32m    294\u001b[0m \u001b[43m    \u001b[49m\u001b[43minputs\u001b[49m\u001b[43m,\u001b[49m\n\u001b[1;32m    295\u001b[0m \u001b[43m    \u001b[49m\u001b[43mallow_unreachable\u001b[49m\u001b[38;5;241;43m=\u001b[39;49m\u001b[38;5;28;43;01mTrue\u001b[39;49;00m\u001b[43m,\u001b[49m\n\u001b[1;32m    296\u001b[0m \u001b[43m    \u001b[49m\u001b[43maccumulate_grad\u001b[49m\u001b[38;5;241;43m=\u001b[39;49m\u001b[38;5;28;43;01mTrue\u001b[39;49;00m\u001b[43m,\u001b[49m\n\u001b[1;32m    297\u001b[0m \u001b[43m\u001b[49m\u001b[43m)\u001b[49m\n",
      "File \u001b[0;32m~/.local/lib/python3.10/site-packages/torch/autograd/graph.py:769\u001b[0m, in \u001b[0;36m_engine_run_backward\u001b[0;34m(t_outputs, *args, **kwargs)\u001b[0m\n\u001b[1;32m    767\u001b[0m     unregister_hooks \u001b[38;5;241m=\u001b[39m _register_logging_hooks_on_whole_graph(t_outputs)\n\u001b[1;32m    768\u001b[0m \u001b[38;5;28;01mtry\u001b[39;00m:\n\u001b[0;32m--> 769\u001b[0m     \u001b[38;5;28;01mreturn\u001b[39;00m \u001b[43mVariable\u001b[49m\u001b[38;5;241;43m.\u001b[39;49m\u001b[43m_execution_engine\u001b[49m\u001b[38;5;241;43m.\u001b[39;49m\u001b[43mrun_backward\u001b[49m\u001b[43m(\u001b[49m\u001b[43m  \u001b[49m\u001b[38;5;66;43;03m# Calls into the C++ engine to run the backward pass\u001b[39;49;00m\n\u001b[1;32m    770\u001b[0m \u001b[43m        \u001b[49m\u001b[43mt_outputs\u001b[49m\u001b[43m,\u001b[49m\u001b[43m \u001b[49m\u001b[38;5;241;43m*\u001b[39;49m\u001b[43margs\u001b[49m\u001b[43m,\u001b[49m\u001b[43m \u001b[49m\u001b[38;5;241;43m*\u001b[39;49m\u001b[38;5;241;43m*\u001b[39;49m\u001b[43mkwargs\u001b[49m\n\u001b[1;32m    771\u001b[0m \u001b[43m    \u001b[49m\u001b[43m)\u001b[49m  \u001b[38;5;66;03m# Calls into the C++ engine to run the backward pass\u001b[39;00m\n\u001b[1;32m    772\u001b[0m \u001b[38;5;28;01mfinally\u001b[39;00m:\n\u001b[1;32m    773\u001b[0m     \u001b[38;5;28;01mif\u001b[39;00m attach_logging_hooks:\n",
      "\u001b[0;31mKeyboardInterrupt\u001b[0m: "
     ]
    }
   ],
   "source": [
    "# TRAINING LOOP\n",
    "\n",
    "# initializing lists to track losses for plotting\n",
    "losses = {\n",
    "    \"G_A\": [],           # Generator A adversarial loss\n",
    "    \"Cycle_A\": [],       # cycle consistency loss A (2D->3D->2D)\n",
    "    \"Cycle_B\": [],       # cycle consistency loss B (3D->2D->3D)\n",
    "    \"D\": []              # discriminator loss\n",
    "}\n",
    "\n",
    "num_epochs = 50\n",
    "lambda_cycle = 10\n",
    "adversarial_loss = nn.BCEWithLogitsLoss()\n",
    "cycle_consistency_loss = nn.L1Loss()\n",
    "label_smoothing = 0.1\n",
    "\n",
    "for epoch in range(num_epochs):\n",
    "    generator_2d_to_3d.train()\n",
    "    generator_3d_to_2d.train()\n",
    "    discriminator_3d.train()\n",
    "\n",
    "    epoch_loss_G_A = 0.0\n",
    "    epoch_loss_Cycle_A = 0.0\n",
    "    epoch_loss_Cycle_B = 0.0\n",
    "    epoch_loss_D = 0.0\n",
    "\n",
    "    for i, batch in enumerate(tqdm(train_loader, desc=f\"Epoch [{epoch+1}/{num_epochs}]\")):\n",
    "        frontal, lateral = batch['frontal'].to(device), batch['lateral'].to(device)\n",
    "        input_xrays = torch.cat((frontal, lateral), dim=1)\n",
    "\n",
    "        # -------------------\n",
    "        # Train Generator A (2D to 3D)\n",
    "        # -------------------\n",
    "        optimizer_G_A.zero_grad()\n",
    "        fake_3d = generator_2d_to_3d(input_xrays)\n",
    "        real_labels = (1.0 - label_smoothing) * torch.ones_like(discriminator_3d(fake_3d)).to(device)\n",
    "        loss_G_A_adv = adversarial_loss(discriminator_3d(fake_3d), real_labels)\n",
    "\n",
    "        # Train Generator B (3D to 2D)\n",
    "        optimizer_G_B.zero_grad()\n",
    "        reconstructed_xrays = generator_3d_to_2d(fake_3d)\n",
    "        loss_cycle_A = cycle_consistency_loss(reconstructed_xrays, input_xrays)\n",
    "\n",
    "        reconstructed_volumes = generator_2d_to_3d(reconstructed_xrays)\n",
    "        loss_cycle_B = cycle_consistency_loss(reconstructed_volumes, fake_3d)\n",
    "\n",
    "        loss_G = loss_G_A_adv + lambda_cycle * (loss_cycle_A + loss_cycle_B)\n",
    "        loss_G.backward()\n",
    "\n",
    "        # gradient clipping for the generators\n",
    "        torch.nn.utils.clip_grad_norm_(generator_2d_to_3d.parameters(), max_norm=1.0)\n",
    "        torch.nn.utils.clip_grad_norm_(generator_3d_to_2d.parameters(), max_norm=1.0)\n",
    "\n",
    "        optimizer_G_A.step()\n",
    "        optimizer_G_B.step()\n",
    "\n",
    "        # -------------------\n",
    "        # Train Discriminator (3D)\n",
    "        # -------------------\n",
    "        if i % 2 == 0:  # balancing training steps\n",
    "            optimizer_D.zero_grad()\n",
    "            real_3d = torch.randn_like(fake_3d).to(device)\n",
    "            real_scores = discriminator_3d(real_3d)\n",
    "            real_labels = (1.0 - label_smoothing) * torch.ones_like(real_scores).to(device)\n",
    "            loss_real = adversarial_loss(real_scores, real_labels)\n",
    "\n",
    "            fake_scores = discriminator_3d(fake_3d.detach())\n",
    "            fake_labels = label_smoothing * torch.zeros_like(fake_scores).to(device)\n",
    "            loss_fake = adversarial_loss(fake_scores, fake_labels)\n",
    "\n",
    "            loss_D = (loss_real + loss_fake) / 2\n",
    "            loss_D.backward()\n",
    "\n",
    "            # gradient clipping for the discriminator\n",
    "            torch.nn.utils.clip_grad_norm_(discriminator_3d.parameters(), max_norm=1.0)\n",
    "\n",
    "            optimizer_D.step()\n",
    "\n",
    "        # accumulating losses\n",
    "        epoch_loss_G_A += loss_G_A_adv.item()\n",
    "        epoch_loss_Cycle_A += loss_cycle_A.item()\n",
    "        epoch_loss_Cycle_B += loss_cycle_B.item()\n",
    "        epoch_loss_D += loss_D.item() if i % 2 == 0 else 0.0\n",
    "\n",
    "    # calculating average losses\n",
    "    avg_loss_G_A = epoch_loss_G_A / len(train_loader)\n",
    "    avg_loss_Cycle_A = epoch_loss_Cycle_A / len(train_loader)\n",
    "    avg_loss_Cycle_B = epoch_loss_Cycle_B / len(train_loader)\n",
    "    avg_loss_D = epoch_loss_D / (len(train_loader) / 2)\n",
    "\n",
    "    # appending epoch losses to the dictionary\n",
    "    losses[\"G_A\"].append(avg_loss_G_A)\n",
    "    losses[\"Cycle_A\"].append(avg_loss_Cycle_A)\n",
    "    losses[\"Cycle_B\"].append(avg_loss_Cycle_B)\n",
    "    losses[\"D\"].append(avg_loss_D)\n",
    "\n",
    "    print(\n",
    "        f\"Epoch [{epoch+1}/{num_epochs}] Training: \"\n",
    "        f\"Loss_G_A: {avg_loss_G_A:.4f} | \"\n",
    "        f\"Loss_Cycle_A: {avg_loss_Cycle_A:.4f} | \"\n",
    "        f\"Loss_Cycle_B: {avg_loss_Cycle_B:.4f} | \"\n",
    "        f\"Loss_D: {avg_loss_D:.4f}\"\n",
    "    )\n",
    "\n",
    "    # saving checkpoints every 25 epochs\n",
    "    if (epoch + 1) % 25 == 0:\n",
    "        torch.save(generator_2d_to_3d.state_dict(), f\"generator_2d_to_3d_epoch_{epoch+1}.pth\")\n",
    "        torch.save(generator_3d_to_2d.state_dict(), f\"generator_3d_to_2d_epoch_{epoch+1}.pth\")\n",
    "        torch.save(discriminator_3d.state_dict(), f\"discriminator_epoch_{epoch+1}.pth\")\n"
   ]
  },
  {
   "cell_type": "code",
   "execution_count": 24,
   "id": "1df16878",
   "metadata": {},
   "outputs": [
    {
     "data": {
      "text/plain": [
       "{'G_A': [2.521820890241199,\n",
       "  5.41640596124861,\n",
       "  6.375580045912001,\n",
       "  6.453997373580933,\n",
       "  6.811502570576138,\n",
       "  7.142253647910224,\n",
       "  7.1960572878519695,\n",
       "  6.376273164484236,\n",
       "  5.969266049067179,\n",
       "  5.470694179005093,\n",
       "  4.689964452054766,\n",
       "  4.0300338685512545,\n",
       "  4.040971877177556,\n",
       "  3.4137643012735577,\n",
       "  3.6634193738301595,\n",
       "  3.907739754517873,\n",
       "  4.447302571932474,\n",
       "  4.781530349784427,\n",
       "  5.113264001740349,\n",
       "  5.0763090584013195,\n",
       "  4.7982816841867235,\n",
       "  5.4477630509270565,\n",
       "  4.848991903993818,\n",
       "  5.360432558589512,\n",
       "  5.872475955221388,\n",
       "  5.201461746957567,\n",
       "  5.37203967306349,\n",
       "  5.177563563982646,\n",
       "  5.55299404197269,\n",
       "  5.493503798378838,\n",
       "  5.449861017862956,\n",
       "  5.624173890219795,\n",
       "  5.887730815675524,\n",
       "  5.838267392582363,\n",
       "  5.584542184405857,\n",
       "  5.871788718965319,\n",
       "  6.090884274906582,\n",
       "  6.020860550138686,\n",
       "  6.242417534192403,\n",
       "  6.0949655453364056,\n",
       "  6.36635791460673,\n",
       "  6.485045756234063,\n",
       "  6.300355916553073,\n",
       "  6.153327473004659,\n",
       "  6.230414160092672,\n",
       "  6.099163730939229,\n",
       "  6.238162753317091,\n",
       "  6.494712771309747,\n",
       "  6.506528608004252],\n",
       " 'Cycle_A': [0.5308881079157194,\n",
       "  0.5365376055240632,\n",
       "  0.5476640360222922,\n",
       "  0.5412875819537375,\n",
       "  0.5311844133668475,\n",
       "  0.5369124945667055,\n",
       "  0.5501538511779573,\n",
       "  0.5383956028355492,\n",
       "  0.5412480447027418,\n",
       "  0.5335503277679284,\n",
       "  0.5478136358989609,\n",
       "  0.5430458846191565,\n",
       "  0.560105199780729,\n",
       "  0.5358129486441612,\n",
       "  0.5468357649114397,\n",
       "  0.5541276327437825,\n",
       "  0.5388389113876555,\n",
       "  0.548175955315431,\n",
       "  0.5478235178523594,\n",
       "  0.5108194180660778,\n",
       "  0.5311729929513401,\n",
       "  0.5554356884625223,\n",
       "  0.5447826365629832,\n",
       "  0.5447279690040483,\n",
       "  0.5417000904679299,\n",
       "  0.5349686313006613,\n",
       "  0.5365137933029069,\n",
       "  0.540444208184878,\n",
       "  0.5311944514513016,\n",
       "  0.5303855228755209,\n",
       "  0.5388584204845959,\n",
       "  0.5337186164326138,\n",
       "  0.5200360660751661,\n",
       "  0.5437707033422258,\n",
       "  0.5421678808000353,\n",
       "  0.5268690806296137,\n",
       "  0.5273206455012163,\n",
       "  0.5260277827580769,\n",
       "  0.53586136682166,\n",
       "  0.5154500946402549,\n",
       "  0.5496429852313466,\n",
       "  0.5389561818705665,\n",
       "  0.5447225895192888,\n",
       "  0.5271184933682282,\n",
       "  0.5476233532031377,\n",
       "  0.5229620152049594,\n",
       "  0.5469340572754542,\n",
       "  0.5519512596229712,\n",
       "  0.518672323723634],\n",
       " 'Cycle_B': [0.18535845333503354,\n",
       "  0.12667195022934014,\n",
       "  0.09636564523809486,\n",
       "  0.08235330569247405,\n",
       "  0.06991058467990822,\n",
       "  0.055596251454618245,\n",
       "  0.04927746252053314,\n",
       "  0.06997458553976482,\n",
       "  0.0793776508834627,\n",
       "  0.10017020660969946,\n",
       "  0.1265055309774147,\n",
       "  0.21264489913980167,\n",
       "  0.28001992685927285,\n",
       "  0.31044659498665067,\n",
       "  0.3933800463875135,\n",
       "  0.4291560565431913,\n",
       "  0.37985109239816667,\n",
       "  0.35209694769647387,\n",
       "  0.3160161160760456,\n",
       "  0.2522259467177921,\n",
       "  0.23829243141743872,\n",
       "  0.18417968650658925,\n",
       "  0.1982929464843538,\n",
       "  0.17695975465079147,\n",
       "  0.13743138967288865,\n",
       "  0.18508935297528903,\n",
       "  0.1435617719259527,\n",
       "  0.16959594380524423,\n",
       "  0.14536900280250442,\n",
       "  0.17179204407665466,\n",
       "  0.17380039600862396,\n",
       "  0.17312374197774463,\n",
       "  0.12630967100461324,\n",
       "  0.13514062878158356,\n",
       "  0.14293538414769702,\n",
       "  0.13951296963625484,\n",
       "  0.12733652351631058,\n",
       "  0.12346888623303837,\n",
       "  0.12277950905263424,\n",
       "  0.1279871151265171,\n",
       "  0.12784644299083286,\n",
       "  0.1256565149873495,\n",
       "  0.14212683621380065,\n",
       "  0.15120977966321839,\n",
       "  0.13629607086380321,\n",
       "  0.12379237566557195,\n",
       "  0.12400487446122699,\n",
       "  0.1289039630856779,\n",
       "  0.14383630628387134],\n",
       " 'D': [0.3632690399885178,\n",
       "  0.18581033448378245,\n",
       "  0.18371919675005807,\n",
       "  0.182223451965385,\n",
       "  0.18121173630158108,\n",
       "  0.17966193821695114,\n",
       "  0.17897123992443084,\n",
       "  0.1794958319928911,\n",
       "  0.17814607818921407,\n",
       "  0.1832887899544504,\n",
       "  0.18350684626234903,\n",
       "  0.202725617090861,\n",
       "  0.22303720662991205,\n",
       "  0.2305911872122023,\n",
       "  0.20608161654737261,\n",
       "  0.19876102573341795,\n",
       "  0.18872164901759889,\n",
       "  0.18683454857932197,\n",
       "  0.18377339492241543,\n",
       "  0.18337977379560472,\n",
       "  0.18359585718976126,\n",
       "  0.18418310946888394,\n",
       "  0.19005530344115362,\n",
       "  0.1813513535592291,\n",
       "  0.17917790462573369,\n",
       "  0.17933462378051546,\n",
       "  0.17808101756705177,\n",
       "  0.17796827488475375,\n",
       "  0.17652692480219734,\n",
       "  0.17595452964305877,\n",
       "  0.17589713003900315,\n",
       "  0.17501123332315022,\n",
       "  0.17459580997625987,\n",
       "  0.17357981420225568,\n",
       "  0.17375644826226763,\n",
       "  0.17272315207454894,\n",
       "  0.17216718561119504,\n",
       "  0.17178299095895555,\n",
       "  0.1712451943092876,\n",
       "  0.17086959895160464,\n",
       "  0.17048388322194416,\n",
       "  0.16971222857634227,\n",
       "  0.1699332399500741,\n",
       "  0.1695778810315662,\n",
       "  0.16927253968185849,\n",
       "  0.16924160487122006,\n",
       "  0.16886785808536742,\n",
       "  0.16851542476150724,\n",
       "  0.16842455549372568]}"
      ]
     },
     "execution_count": 24,
     "metadata": {},
     "output_type": "execute_result"
    }
   ],
   "source": [
    "losses"
   ]
  },
  {
   "cell_type": "markdown",
   "id": "7b0edda4",
   "metadata": {},
   "source": [
    "## CYCLEGAN - FRONTAL ONLY"
   ]
  },
  {
   "cell_type": "code",
   "execution_count": 15,
   "id": "21de80c6",
   "metadata": {},
   "outputs": [
    {
     "name": "stdout",
     "output_type": "stream",
     "text": [
      "Input shape: torch.Size([1, 1, 64, 64])\n",
      "Output shape: torch.Size([1, 1, 64, 64, 64])\n"
     ]
    }
   ],
   "source": [
    "# 3D residual block\n",
    "class ResidualBlock3D(nn.Module):\n",
    "    def __init__(self, channels):\n",
    "        super(ResidualBlock3D, self).__init__()\n",
    "        self.block = nn.Sequential(\n",
    "            nn.Conv3d(channels, channels, kernel_size=3, stride=1, padding=1),\n",
    "            nn.InstanceNorm3d(channels),\n",
    "            nn.ReLU(inplace=True),\n",
    "            nn.Dropout(p=0.3),\n",
    "            nn.Conv3d(channels, channels, kernel_size=3, stride=1, padding=1),\n",
    "            nn.InstanceNorm3d(channels)\n",
    "        )\n",
    "\n",
    "    def forward(self, x):\n",
    "        return x + self.block(x)\n",
    "\n",
    "\n",
    "class CycleGANGenerator3D(nn.Module):\n",
    "    def __init__(self, input_channels=1, output_channels=1, num_residual_blocks=6, target_depth=64):\n",
    "        super(CycleGANGenerator3D, self).__init__()\n",
    "        self.target_depth = target_depth\n",
    "\n",
    "        # initial convolution clock\n",
    "        self.initial = nn.Sequential(\n",
    "            nn.Conv2d(input_channels, 64, kernel_size=7, stride=1, padding=3),\n",
    "            nn.InstanceNorm2d(64),\n",
    "            nn.ReLU(inplace=True),\n",
    "            nn.Dropout(p=0.3)\n",
    "        )\n",
    "\n",
    "        # downsampling layers\n",
    "        self.downsampling = nn.Sequential(\n",
    "            nn.Conv2d(64, 128, kernel_size=3, stride=2, padding=1),  # (64, 64) -> (32, 32)\n",
    "            nn.InstanceNorm2d(128),\n",
    "            nn.ReLU(inplace=True),\n",
    "            nn.Conv2d(128, 256, kernel_size=3, stride=2, padding=1),  # 32, 32) -> (16, 16)\n",
    "            nn.InstanceNorm2d(256),\n",
    "            nn.ReLU(inplace=True)\n",
    "        )\n",
    "\n",
    "        # reshaping to 3D\n",
    "        self.reshape_to_3d = nn.Conv3d(256, 256, kernel_size=(1, 1, 1))\n",
    "\n",
    "        # residual blocks\n",
    "        self.residual_blocks = nn.Sequential(\n",
    "            *[ResidualBlock3D(256) for _ in range(num_residual_blocks)]\n",
    "        )\n",
    "\n",
    "        # upsampling layers\n",
    "        self.upsampling = nn.Sequential(\n",
    "            nn.ConvTranspose3d(256, 128, kernel_size=(4, 4, 4), stride=(2, 2, 2), padding=(1, 1, 1), output_padding=(0, 0, 0)),  # (16, 16, 16) -> (32, 32, 32)\n",
    "            nn.InstanceNorm3d(128),\n",
    "            nn.ReLU(inplace=True),\n",
    "            nn.Dropout(p=0.3),\n",
    "            nn.ConvTranspose3d(128, 64, kernel_size=(4, 4, 4), stride=(2, 2, 2), padding=(1, 1, 1), output_padding=(0, 0, 0)),  # (32, 32, 32) -> (64, 64, 64)\n",
    "            nn.InstanceNorm3d(64),\n",
    "            nn.ReLU(inplace=True)\n",
    "        )\n",
    "\n",
    "        # output layer\n",
    "        self.output_layer = nn.Sequential(\n",
    "            nn.Conv3d(64, output_channels, kernel_size=7, stride=1, padding=3),\n",
    "            nn.Tanh()\n",
    "        )\n",
    "\n",
    "    def forward(self, x):\n",
    "        # processing 2D input\n",
    "        x = self.initial(x)\n",
    "\n",
    "        x = self.downsampling(x)\n",
    "\n",
    "        # reshape to add a depth dimension\n",
    "        x = x.unsqueeze(2)  \n",
    "\n",
    "        x = self.reshape_to_3d(x)\n",
    "\n",
    "        x = self.residual_blocks(x)\n",
    "\n",
    "        x = self.upsampling(x)\n",
    "\n",
    "        # resizing to final 3D volume\n",
    "        x = nn.functional.interpolate(x, size=(self.target_depth, 64, 64), mode='trilinear', align_corners=True)\n",
    "\n",
    "        return self.output_layer(x)\n",
    "\n",
    "# instantiating the generator for 64x64 inputs and 64x64x64 outputs\n",
    "generator_3d = CycleGANGenerator3D(input_channels=1, output_channels=1, target_depth=64)\n",
    "\n",
    "# TESTING THE GENERATOR with a dummy input of size 64x64\n",
    "dummy_input_2d = torch.randn(1, 1, 64, 64)  \n",
    "output_3d = generator_3d(dummy_input_2d)\n",
    "print(f\"Input shape: {dummy_input_2d.shape}\")\n",
    "print(f\"Output shape: {output_3d.shape}\")\n"
   ]
  },
  {
   "cell_type": "code",
   "execution_count": 16,
   "id": "71c662be",
   "metadata": {},
   "outputs": [
    {
     "name": "stdout",
     "output_type": "stream",
     "text": [
      "Input shape (3D): torch.Size([1, 1, 64, 64, 64])\n",
      "Output shape (2D): torch.Size([1, 1, 64, 64])\n"
     ]
    }
   ],
   "source": [
    "class Generator3DTo2D(nn.Module):\n",
    "    def __init__(self, input_channels=1, output_channels=1):\n",
    "        super(Generator3DTo2D, self).__init__()\n",
    "\n",
    "        # 3D feature extraction layers\n",
    "        self.feature_extraction = nn.Sequential(\n",
    "            nn.Conv3d(input_channels, 64, kernel_size=4, stride=2, padding=1),  # (64, 64, 64) -> (32, 32, 32)\n",
    "            nn.InstanceNorm3d(64),\n",
    "            nn.ReLU(inplace=True),\n",
    "\n",
    "            nn.Conv3d(64, 128, kernel_size=4, stride=2, padding=1),  # (32, 32, 32) -> (16, 16, 16)\n",
    "            nn.InstanceNorm3d(128),\n",
    "            nn.ReLU(inplace=True),\n",
    "\n",
    "            nn.Conv3d(128, 256, kernel_size=4, stride=2, padding=1),  # (16, 16, 16) -> (8, 8, 8)\n",
    "            nn.InstanceNorm3d(256),\n",
    "            nn.ReLU(inplace=True),\n",
    "        )\n",
    "\n",
    "        self.output_channels = output_channels\n",
    "\n",
    "        # 2D upsampling layer\n",
    "        self.upsample = nn.Upsample(scale_factor=8, mode=\"bilinear\", align_corners=True)\n",
    "\n",
    "    def forward(self, x):\n",
    "        # feature extraction from 3D\n",
    "        x = self.feature_extraction(x)\n",
    "\n",
    "        # flattenning the 3D volume into 2D\n",
    "        batch_size, channels, depth, height, width = x.shape\n",
    "        x = x.view(batch_size, channels * depth, height, width)  # Merge depth dimension into channels\n",
    "\n",
    "        # reducing the output channels\n",
    "        final_conv = nn.Conv2d(\n",
    "            in_channels=channels * depth, out_channels=self.output_channels,\n",
    "            kernel_size=1, stride=1, padding=0\n",
    "        ).to(x.device)  \n",
    "\n",
    "        x = final_conv(x)  \n",
    "\n",
    "        # upsampling to restore original 2D dimensions\n",
    "        x = self.upsample(x)  \n",
    "        return x\n",
    "\n",
    "# TESTING THE GENERATOR with dummy input\n",
    "dummy_input_3d = torch.randn(1, 1, 64, 64, 64).to(device)  \n",
    "generator_3d_to_2d = Generator3DTo2D(input_channels=1, output_channels=1).to(device)  \n",
    "output_2d = generator_3d_to_2d(dummy_input_3d)\n",
    "\n",
    "print(f\"Input shape (3D): {dummy_input_3d.shape}\")\n",
    "print(f\"Output shape (2D): {output_2d.shape}\")\n"
   ]
  },
  {
   "cell_type": "code",
   "execution_count": 17,
   "id": "c46d93d0",
   "metadata": {},
   "outputs": [
    {
     "name": "stdout",
     "output_type": "stream",
     "text": [
      "Input shape: torch.Size([1, 1, 64, 64, 64])\n",
      "Output shape: torch.Size([1, 1, 2, 2, 2])\n"
     ]
    }
   ],
   "source": [
    "class PatchGANDiscriminator3D(nn.Module):\n",
    "    def __init__(self, input_channels=1):\n",
    "        super(PatchGANDiscriminator3D, self).__init__()\n",
    "        \n",
    "        # convolutional layers\n",
    "        self.model = nn.Sequential(\n",
    "            nn.Conv3d(input_channels, 64, kernel_size=4, stride=2, padding=1),  # (64 -> 32)\n",
    "            nn.LeakyReLU(0.2, inplace=True),\n",
    "            \n",
    "            nn.Conv3d(64, 128, kernel_size=4, stride=2, padding=1),  # (32 -> 16)\n",
    "            nn.InstanceNorm3d(128),\n",
    "            nn.LeakyReLU(0.2, inplace=True),\n",
    "            nn.Dropout(p=0.3),\n",
    "            \n",
    "            nn.Conv3d(128, 256, kernel_size=4, stride=2, padding=1),  # (16 -> 8)\n",
    "            nn.InstanceNorm3d(256),\n",
    "            nn.LeakyReLU(0.2, inplace=True),\n",
    "            nn.Dropout(p=0.3),\n",
    "            \n",
    "            nn.Conv3d(256, 512, kernel_size=4, stride=2, padding=1),  # (8 -> 4)\n",
    "            nn.InstanceNorm3d(512),\n",
    "            nn.LeakyReLU(0.2, inplace=True),\n",
    "            \n",
    "            nn.Conv3d(512, 1, kernel_size=3, stride=1, padding=0)  # (4 -> 2)\n",
    "        )\n",
    "\n",
    "    def forward(self, x):\n",
    "        return self.model(x)\n",
    "\n",
    "# instantiating the discriminator\n",
    "discriminator_3d = PatchGANDiscriminator3D(input_channels=1)\n",
    "\n",
    "# TESTING THE DISCRIMINATOR with a dummy input of size 64x64x64\n",
    "dummy_input_3d = torch.randn(1, 1, 64, 64, 64)  # Batch size of 1\n",
    "output = discriminator_3d(dummy_input_3d)\n",
    "print(f\"Input shape: {dummy_input_3d.shape}\")\n",
    "print(f\"Output shape: {output.shape}\")\n"
   ]
  },
  {
   "cell_type": "code",
   "execution_count": 18,
   "id": "bedc8d5a",
   "metadata": {},
   "outputs": [
    {
     "data": {
      "text/plain": [
       "PatchGANDiscriminator3D(\n",
       "  (model): Sequential(\n",
       "    (0): Conv3d(1, 64, kernel_size=(4, 4, 4), stride=(2, 2, 2), padding=(1, 1, 1))\n",
       "    (1): LeakyReLU(negative_slope=0.2, inplace=True)\n",
       "    (2): Conv3d(64, 128, kernel_size=(4, 4, 4), stride=(2, 2, 2), padding=(1, 1, 1))\n",
       "    (3): InstanceNorm3d(128, eps=1e-05, momentum=0.1, affine=False, track_running_stats=False)\n",
       "    (4): LeakyReLU(negative_slope=0.2, inplace=True)\n",
       "    (5): Dropout(p=0.3, inplace=False)\n",
       "    (6): Conv3d(128, 256, kernel_size=(4, 4, 4), stride=(2, 2, 2), padding=(1, 1, 1))\n",
       "    (7): InstanceNorm3d(256, eps=1e-05, momentum=0.1, affine=False, track_running_stats=False)\n",
       "    (8): LeakyReLU(negative_slope=0.2, inplace=True)\n",
       "    (9): Dropout(p=0.3, inplace=False)\n",
       "    (10): Conv3d(256, 512, kernel_size=(4, 4, 4), stride=(2, 2, 2), padding=(1, 1, 1))\n",
       "    (11): InstanceNorm3d(512, eps=1e-05, momentum=0.1, affine=False, track_running_stats=False)\n",
       "    (12): LeakyReLU(negative_slope=0.2, inplace=True)\n",
       "    (13): Conv3d(512, 1, kernel_size=(3, 3, 3), stride=(1, 1, 1))\n",
       "  )\n",
       ")"
      ]
     },
     "execution_count": 18,
     "metadata": {},
     "output_type": "execute_result"
    }
   ],
   "source": [
    "# loss functions\n",
    "adversarial_loss = nn.BCEWithLogitsLoss()  \n",
    "cycle_consistency_loss = nn.L1Loss()  # reconstruction consistency\n",
    "\n",
    "# optimizers\n",
    "lr = 1e-5\n",
    "beta1, beta2 = 0.5, 0.999\n",
    "\n",
    "optimizer_G = Adam(generator_3d.parameters(), lr=lr, betas=(beta1, beta2))\n",
    "optimizer_D = Adam(discriminator_3d.parameters(), lr=lr, betas=(beta1, beta2))\n",
    "\n",
    "# device\n",
    "generator_3d.to(device)\n",
    "discriminator_3d.to(device)"
   ]
  },
  {
   "cell_type": "code",
   "execution_count": 20,
   "id": "324f6940",
   "metadata": {},
   "outputs": [],
   "source": [
    "# instantiating generators for frontal input\n",
    "input_channels_2d = 1  # 1 for frontal\n",
    "input_channels_3d = 1  \n",
    "output_channels_2d = 1  # 1 channel for frontal\n",
    "output_channels_3d = 1  \n",
    "\n",
    "# generators\n",
    "generator_2d_to_3d = CycleGANGenerator3D(input_channels=input_channels_2d, output_channels=output_channels_3d).to(device)\n",
    "generator_3d_to_2d = Generator3DTo2D(input_channels=input_channels_3d, output_channels=output_channels_2d).to(device)\n",
    "\n",
    "# optimizers\n",
    "optimizer_G_A = Adam(generator_2d_to_3d.parameters(), lr=1e-5, betas=(0.5, 0.999))\n",
    "optimizer_G_B = Adam(generator_3d_to_2d.parameters(), lr=1e-5, betas=(0.5, 0.999))\n",
    "\n",
    "# discriminator\n",
    "discriminator_3d = PatchGANDiscriminator3D(input_channels=1).to(device)\n",
    "optimizer_D = Adam(discriminator_3d.parameters(), lr=1e-5, betas=(0.5, 0.999))\n"
   ]
  },
  {
   "cell_type": "code",
   "execution_count": 21,
   "id": "37e6293d",
   "metadata": {},
   "outputs": [],
   "source": [
    "# weight initialization\n",
    "def initialize_weights(model):\n",
    "    for m in model.modules():\n",
    "        if isinstance(m, (nn.Conv2d, nn.Conv3d, nn.ConvTranspose3d)):\n",
    "            init.kaiming_normal_(m.weight, mode='fan_in', nonlinearity='leaky_relu')\n",
    "        elif isinstance(m, (nn.InstanceNorm2d, nn.InstanceNorm3d)) and m.weight is not None:\n",
    "            init.constant_(m.weight, 1)\n",
    "            init.constant_(m.bias, 0)\n",
    "\n",
    "# initializing weights\n",
    "initialize_weights(generator_2d_to_3d)\n",
    "initialize_weights(generator_3d_to_2d)\n",
    "initialize_weights(discriminator_3d)"
   ]
  },
  {
   "cell_type": "code",
   "execution_count": 24,
   "id": "b9edea19",
   "metadata": {},
   "outputs": [
    {
     "name": "stderr",
     "output_type": "stream",
     "text": [
      "Epoch [1/50]: 100%|██████████| 180/180 [11:13<00:00,  3.74s/it]\n"
     ]
    },
    {
     "name": "stdout",
     "output_type": "stream",
     "text": [
      "Epoch [1/50] Training: Loss_G_A: 5.2726 | Loss_Cycle_A: 0.5480 | Loss_Cycle_B: 0.1515 | Loss_D: 0.1865\n"
     ]
    },
    {
     "name": "stderr",
     "output_type": "stream",
     "text": [
      "Epoch [2/50]: 100%|██████████| 180/180 [11:14<00:00,  3.75s/it]\n"
     ]
    },
    {
     "name": "stdout",
     "output_type": "stream",
     "text": [
      "Epoch [2/50] Training: Loss_G_A: 6.2372 | Loss_Cycle_A: 0.5525 | Loss_Cycle_B: 0.1095 | Loss_D: 0.1833\n"
     ]
    },
    {
     "name": "stderr",
     "output_type": "stream",
     "text": [
      "Epoch [3/50]: 100%|██████████| 180/180 [11:14<00:00,  3.75s/it]\n"
     ]
    },
    {
     "name": "stdout",
     "output_type": "stream",
     "text": [
      "Epoch [3/50] Training: Loss_G_A: 6.3316 | Loss_Cycle_A: 0.5625 | Loss_Cycle_B: 0.1144 | Loss_D: 0.1826\n"
     ]
    },
    {
     "name": "stderr",
     "output_type": "stream",
     "text": [
      "Epoch [4/50]: 100%|██████████| 180/180 [11:14<00:00,  3.75s/it]\n"
     ]
    },
    {
     "name": "stdout",
     "output_type": "stream",
     "text": [
      "Epoch [4/50] Training: Loss_G_A: 6.6473 | Loss_Cycle_A: 0.5593 | Loss_Cycle_B: 0.1090 | Loss_D: 0.1813\n"
     ]
    },
    {
     "name": "stderr",
     "output_type": "stream",
     "text": [
      "Epoch [5/50]: 100%|██████████| 180/180 [11:14<00:00,  3.75s/it]\n"
     ]
    },
    {
     "name": "stdout",
     "output_type": "stream",
     "text": [
      "Epoch [5/50] Training: Loss_G_A: 6.5352 | Loss_Cycle_A: 0.5830 | Loss_Cycle_B: 0.0998 | Loss_D: 0.1800\n"
     ]
    },
    {
     "name": "stderr",
     "output_type": "stream",
     "text": [
      "Epoch [6/50]: 100%|██████████| 180/180 [11:14<00:00,  3.75s/it]\n"
     ]
    },
    {
     "name": "stdout",
     "output_type": "stream",
     "text": [
      "Epoch [6/50] Training: Loss_G_A: 6.4607 | Loss_Cycle_A: 0.5833 | Loss_Cycle_B: 0.1089 | Loss_D: 0.1793\n"
     ]
    },
    {
     "name": "stderr",
     "output_type": "stream",
     "text": [
      "Epoch [7/50]: 100%|██████████| 180/180 [11:14<00:00,  3.75s/it]\n"
     ]
    },
    {
     "name": "stdout",
     "output_type": "stream",
     "text": [
      "Epoch [7/50] Training: Loss_G_A: 6.8319 | Loss_Cycle_A: 0.5592 | Loss_Cycle_B: 0.0800 | Loss_D: 0.1786\n"
     ]
    },
    {
     "name": "stderr",
     "output_type": "stream",
     "text": [
      "Epoch [8/50]: 100%|██████████| 180/180 [11:14<00:00,  3.75s/it]\n"
     ]
    },
    {
     "name": "stdout",
     "output_type": "stream",
     "text": [
      "Epoch [8/50] Training: Loss_G_A: 6.9459 | Loss_Cycle_A: 0.5274 | Loss_Cycle_B: 0.0643 | Loss_D: 0.1775\n"
     ]
    },
    {
     "name": "stderr",
     "output_type": "stream",
     "text": [
      "Epoch [9/50]: 100%|██████████| 180/180 [11:14<00:00,  3.75s/it]\n"
     ]
    },
    {
     "name": "stdout",
     "output_type": "stream",
     "text": [
      "Epoch [9/50] Training: Loss_G_A: 7.1345 | Loss_Cycle_A: 0.5392 | Loss_Cycle_B: 0.0521 | Loss_D: 0.1768\n"
     ]
    },
    {
     "name": "stderr",
     "output_type": "stream",
     "text": [
      "Epoch [10/50]: 100%|██████████| 180/180 [11:14<00:00,  3.75s/it]\n"
     ]
    },
    {
     "name": "stdout",
     "output_type": "stream",
     "text": [
      "Epoch [10/50] Training: Loss_G_A: 7.2364 | Loss_Cycle_A: 0.5607 | Loss_Cycle_B: 0.0496 | Loss_D: 0.1761\n"
     ]
    },
    {
     "name": "stderr",
     "output_type": "stream",
     "text": [
      "Epoch [11/50]: 100%|██████████| 180/180 [11:14<00:00,  3.75s/it]\n"
     ]
    },
    {
     "name": "stdout",
     "output_type": "stream",
     "text": [
      "Epoch [11/50] Training: Loss_G_A: 6.8366 | Loss_Cycle_A: 0.5516 | Loss_Cycle_B: 0.0568 | Loss_D: 0.1754\n"
     ]
    },
    {
     "name": "stderr",
     "output_type": "stream",
     "text": [
      "Epoch [12/50]: 100%|██████████| 180/180 [11:14<00:00,  3.75s/it]\n"
     ]
    },
    {
     "name": "stdout",
     "output_type": "stream",
     "text": [
      "Epoch [12/50] Training: Loss_G_A: 6.8057 | Loss_Cycle_A: 0.5750 | Loss_Cycle_B: 0.0604 | Loss_D: 0.1747\n"
     ]
    },
    {
     "name": "stderr",
     "output_type": "stream",
     "text": [
      "Epoch [13/50]: 100%|██████████| 180/180 [11:14<00:00,  3.75s/it]\n"
     ]
    },
    {
     "name": "stdout",
     "output_type": "stream",
     "text": [
      "Epoch [13/50] Training: Loss_G_A: 7.3750 | Loss_Cycle_A: 0.5923 | Loss_Cycle_B: 0.0480 | Loss_D: 0.1741\n"
     ]
    },
    {
     "name": "stderr",
     "output_type": "stream",
     "text": [
      "Epoch [14/50]: 100%|██████████| 180/180 [11:14<00:00,  3.75s/it]\n"
     ]
    },
    {
     "name": "stdout",
     "output_type": "stream",
     "text": [
      "Epoch [14/50] Training: Loss_G_A: 5.2393 | Loss_Cycle_A: 0.5607 | Loss_Cycle_B: 0.0586 | Loss_D: 0.1776\n"
     ]
    },
    {
     "name": "stderr",
     "output_type": "stream",
     "text": [
      "Epoch [15/50]: 100%|██████████| 180/180 [11:14<00:00,  3.75s/it]\n"
     ]
    },
    {
     "name": "stdout",
     "output_type": "stream",
     "text": [
      "Epoch [15/50] Training: Loss_G_A: 5.2003 | Loss_Cycle_A: 0.5788 | Loss_Cycle_B: 0.0710 | Loss_D: 0.1773\n"
     ]
    },
    {
     "name": "stderr",
     "output_type": "stream",
     "text": [
      "Epoch [16/50]: 100%|██████████| 180/180 [11:14<00:00,  3.75s/it]\n"
     ]
    },
    {
     "name": "stdout",
     "output_type": "stream",
     "text": [
      "Epoch [16/50] Training: Loss_G_A: 4.9031 | Loss_Cycle_A: 0.5837 | Loss_Cycle_B: 0.1538 | Loss_D: 0.1812\n"
     ]
    },
    {
     "name": "stderr",
     "output_type": "stream",
     "text": [
      "Epoch [17/50]: 100%|██████████| 180/180 [11:14<00:00,  3.75s/it]\n"
     ]
    },
    {
     "name": "stdout",
     "output_type": "stream",
     "text": [
      "Epoch [17/50] Training: Loss_G_A: 5.1948 | Loss_Cycle_A: 0.5899 | Loss_Cycle_B: 0.1475 | Loss_D: 0.1790\n"
     ]
    },
    {
     "name": "stderr",
     "output_type": "stream",
     "text": [
      "Epoch [18/50]: 100%|██████████| 180/180 [11:14<00:00,  3.75s/it]\n"
     ]
    },
    {
     "name": "stdout",
     "output_type": "stream",
     "text": [
      "Epoch [18/50] Training: Loss_G_A: 4.6321 | Loss_Cycle_A: 0.5661 | Loss_Cycle_B: 0.2109 | Loss_D: 0.1859\n"
     ]
    },
    {
     "name": "stderr",
     "output_type": "stream",
     "text": [
      "Epoch [19/50]: 100%|██████████| 180/180 [11:14<00:00,  3.75s/it]\n"
     ]
    },
    {
     "name": "stdout",
     "output_type": "stream",
     "text": [
      "Epoch [19/50] Training: Loss_G_A: 4.5589 | Loss_Cycle_A: 0.5574 | Loss_Cycle_B: 0.2072 | Loss_D: 0.2077\n"
     ]
    },
    {
     "name": "stderr",
     "output_type": "stream",
     "text": [
      "Epoch [20/50]: 100%|██████████| 180/180 [11:14<00:00,  3.75s/it]\n"
     ]
    },
    {
     "name": "stdout",
     "output_type": "stream",
     "text": [
      "Epoch [20/50] Training: Loss_G_A: 5.0671 | Loss_Cycle_A: 0.5548 | Loss_Cycle_B: 0.2244 | Loss_D: 0.1798\n"
     ]
    },
    {
     "name": "stderr",
     "output_type": "stream",
     "text": [
      "Epoch [21/50]: 100%|██████████| 180/180 [11:14<00:00,  3.75s/it]\n"
     ]
    },
    {
     "name": "stdout",
     "output_type": "stream",
     "text": [
      "Epoch [21/50] Training: Loss_G_A: 4.8155 | Loss_Cycle_A: 0.5627 | Loss_Cycle_B: 0.2639 | Loss_D: 0.1811\n"
     ]
    },
    {
     "name": "stderr",
     "output_type": "stream",
     "text": [
      "Epoch [22/50]: 100%|██████████| 180/180 [11:14<00:00,  3.75s/it]\n"
     ]
    },
    {
     "name": "stdout",
     "output_type": "stream",
     "text": [
      "Epoch [22/50] Training: Loss_G_A: 5.2050 | Loss_Cycle_A: 0.5787 | Loss_Cycle_B: 0.2439 | Loss_D: 0.1785\n"
     ]
    },
    {
     "name": "stderr",
     "output_type": "stream",
     "text": [
      "Epoch [23/50]: 100%|██████████| 180/180 [11:14<00:00,  3.75s/it]\n"
     ]
    },
    {
     "name": "stdout",
     "output_type": "stream",
     "text": [
      "Epoch [23/50] Training: Loss_G_A: 4.9903 | Loss_Cycle_A: 0.5383 | Loss_Cycle_B: 0.2707 | Loss_D: 0.1787\n"
     ]
    },
    {
     "name": "stderr",
     "output_type": "stream",
     "text": [
      "Epoch [24/50]: 100%|██████████| 180/180 [11:13<00:00,  3.74s/it]\n"
     ]
    },
    {
     "name": "stdout",
     "output_type": "stream",
     "text": [
      "Epoch [24/50] Training: Loss_G_A: 5.2360 | Loss_Cycle_A: 0.5886 | Loss_Cycle_B: 0.2353 | Loss_D: 0.1774\n"
     ]
    },
    {
     "name": "stderr",
     "output_type": "stream",
     "text": [
      "Epoch [25/50]: 100%|██████████| 180/180 [11:14<00:00,  3.75s/it]\n"
     ]
    },
    {
     "name": "stdout",
     "output_type": "stream",
     "text": [
      "Epoch [25/50] Training: Loss_G_A: 5.2787 | Loss_Cycle_A: 0.5617 | Loss_Cycle_B: 0.2170 | Loss_D: 0.1766\n"
     ]
    },
    {
     "name": "stderr",
     "output_type": "stream",
     "text": [
      "Epoch [26/50]: 100%|██████████| 180/180 [11:14<00:00,  3.75s/it]\n"
     ]
    },
    {
     "name": "stdout",
     "output_type": "stream",
     "text": [
      "Epoch [26/50] Training: Loss_G_A: 4.9812 | Loss_Cycle_A: 0.5599 | Loss_Cycle_B: 0.2711 | Loss_D: 0.1780\n"
     ]
    },
    {
     "name": "stderr",
     "output_type": "stream",
     "text": [
      "Epoch [27/50]: 100%|██████████| 180/180 [11:11<00:00,  3.73s/it]\n"
     ]
    },
    {
     "name": "stdout",
     "output_type": "stream",
     "text": [
      "Epoch [27/50] Training: Loss_G_A: 5.3500 | Loss_Cycle_A: 0.5572 | Loss_Cycle_B: 0.2424 | Loss_D: 0.1778\n"
     ]
    },
    {
     "name": "stderr",
     "output_type": "stream",
     "text": [
      "Epoch [28/50]: 100%|██████████| 180/180 [11:10<00:00,  3.72s/it]\n"
     ]
    },
    {
     "name": "stdout",
     "output_type": "stream",
     "text": [
      "Epoch [28/50] Training: Loss_G_A: 5.4089 | Loss_Cycle_A: 0.5477 | Loss_Cycle_B: 0.1967 | Loss_D: 0.1792\n"
     ]
    },
    {
     "name": "stderr",
     "output_type": "stream",
     "text": [
      "Epoch [29/50]: 100%|██████████| 180/180 [11:09<00:00,  3.72s/it]\n"
     ]
    },
    {
     "name": "stdout",
     "output_type": "stream",
     "text": [
      "Epoch [29/50] Training: Loss_G_A: 5.5268 | Loss_Cycle_A: 0.5720 | Loss_Cycle_B: 0.1671 | Loss_D: 0.1786\n"
     ]
    },
    {
     "name": "stderr",
     "output_type": "stream",
     "text": [
      "Epoch [30/50]: 100%|██████████| 180/180 [11:08<00:00,  3.72s/it]\n"
     ]
    },
    {
     "name": "stdout",
     "output_type": "stream",
     "text": [
      "Epoch [30/50] Training: Loss_G_A: 5.4644 | Loss_Cycle_A: 0.5610 | Loss_Cycle_B: 0.1760 | Loss_D: 0.1764\n"
     ]
    },
    {
     "name": "stderr",
     "output_type": "stream",
     "text": [
      "Epoch [31/50]: 100%|██████████| 180/180 [11:08<00:00,  3.72s/it]\n"
     ]
    },
    {
     "name": "stdout",
     "output_type": "stream",
     "text": [
      "Epoch [31/50] Training: Loss_G_A: 5.3608 | Loss_Cycle_A: 0.5653 | Loss_Cycle_B: 0.1407 | Loss_D: 0.1753\n"
     ]
    },
    {
     "name": "stderr",
     "output_type": "stream",
     "text": [
      "Epoch [32/50]: 100%|██████████| 180/180 [11:08<00:00,  3.72s/it]\n"
     ]
    },
    {
     "name": "stdout",
     "output_type": "stream",
     "text": [
      "Epoch [32/50] Training: Loss_G_A: 5.3784 | Loss_Cycle_A: 0.5799 | Loss_Cycle_B: 0.1687 | Loss_D: 0.1756\n"
     ]
    },
    {
     "name": "stderr",
     "output_type": "stream",
     "text": [
      "Epoch [33/50]: 100%|██████████| 180/180 [11:08<00:00,  3.72s/it]\n"
     ]
    },
    {
     "name": "stdout",
     "output_type": "stream",
     "text": [
      "Epoch [33/50] Training: Loss_G_A: 5.5603 | Loss_Cycle_A: 0.5323 | Loss_Cycle_B: 0.1512 | Loss_D: 0.1750\n"
     ]
    },
    {
     "name": "stderr",
     "output_type": "stream",
     "text": [
      "Epoch [34/50]: 100%|██████████| 180/180 [11:08<00:00,  3.72s/it]\n"
     ]
    },
    {
     "name": "stdout",
     "output_type": "stream",
     "text": [
      "Epoch [34/50] Training: Loss_G_A: 6.0008 | Loss_Cycle_A: 0.5557 | Loss_Cycle_B: 0.1258 | Loss_D: 0.1733\n"
     ]
    },
    {
     "name": "stderr",
     "output_type": "stream",
     "text": [
      "Epoch [35/50]: 100%|██████████| 180/180 [11:08<00:00,  3.72s/it]\n"
     ]
    },
    {
     "name": "stdout",
     "output_type": "stream",
     "text": [
      "Epoch [35/50] Training: Loss_G_A: 5.7686 | Loss_Cycle_A: 0.5293 | Loss_Cycle_B: 0.1566 | Loss_D: 0.1731\n"
     ]
    },
    {
     "name": "stderr",
     "output_type": "stream",
     "text": [
      "Epoch [36/50]: 100%|██████████| 180/180 [11:08<00:00,  3.72s/it]\n"
     ]
    },
    {
     "name": "stdout",
     "output_type": "stream",
     "text": [
      "Epoch [36/50] Training: Loss_G_A: 5.9985 | Loss_Cycle_A: 0.5851 | Loss_Cycle_B: 0.1205 | Loss_D: 0.1726\n"
     ]
    },
    {
     "name": "stderr",
     "output_type": "stream",
     "text": [
      "Epoch [37/50]: 100%|██████████| 180/180 [11:08<00:00,  3.72s/it]\n"
     ]
    },
    {
     "name": "stdout",
     "output_type": "stream",
     "text": [
      "Epoch [37/50] Training: Loss_G_A: 6.4836 | Loss_Cycle_A: 0.5737 | Loss_Cycle_B: 0.1188 | Loss_D: 0.1715\n"
     ]
    },
    {
     "name": "stderr",
     "output_type": "stream",
     "text": [
      "Epoch [38/50]: 100%|██████████| 180/180 [11:08<00:00,  3.72s/it]\n"
     ]
    },
    {
     "name": "stdout",
     "output_type": "stream",
     "text": [
      "Epoch [38/50] Training: Loss_G_A: 5.8907 | Loss_Cycle_A: 0.5531 | Loss_Cycle_B: 0.1459 | Loss_D: 0.1720\n"
     ]
    },
    {
     "name": "stderr",
     "output_type": "stream",
     "text": [
      "Epoch [39/50]: 100%|██████████| 180/180 [11:08<00:00,  3.71s/it]\n"
     ]
    },
    {
     "name": "stdout",
     "output_type": "stream",
     "text": [
      "Epoch [39/50] Training: Loss_G_A: 6.0559 | Loss_Cycle_A: 0.5552 | Loss_Cycle_B: 0.1100 | Loss_D: 0.1715\n"
     ]
    },
    {
     "name": "stderr",
     "output_type": "stream",
     "text": [
      "Epoch [40/50]: 100%|██████████| 180/180 [11:09<00:00,  3.72s/it]\n"
     ]
    },
    {
     "name": "stdout",
     "output_type": "stream",
     "text": [
      "Epoch [40/50] Training: Loss_G_A: 6.2123 | Loss_Cycle_A: 0.5574 | Loss_Cycle_B: 0.1399 | Loss_D: 0.1708\n"
     ]
    },
    {
     "name": "stderr",
     "output_type": "stream",
     "text": [
      "Epoch [41/50]: 100%|██████████| 180/180 [11:09<00:00,  3.72s/it]\n"
     ]
    },
    {
     "name": "stdout",
     "output_type": "stream",
     "text": [
      "Epoch [41/50] Training: Loss_G_A: 6.0479 | Loss_Cycle_A: 0.5408 | Loss_Cycle_B: 0.1499 | Loss_D: 0.1705\n"
     ]
    },
    {
     "name": "stderr",
     "output_type": "stream",
     "text": [
      "Epoch [42/50]: 100%|██████████| 180/180 [11:08<00:00,  3.72s/it]\n"
     ]
    },
    {
     "name": "stdout",
     "output_type": "stream",
     "text": [
      "Epoch [42/50] Training: Loss_G_A: 5.9343 | Loss_Cycle_A: 0.5727 | Loss_Cycle_B: 0.1275 | Loss_D: 0.1704\n"
     ]
    },
    {
     "name": "stderr",
     "output_type": "stream",
     "text": [
      "Epoch [43/50]: 100%|██████████| 180/180 [11:08<00:00,  3.72s/it]\n"
     ]
    },
    {
     "name": "stdout",
     "output_type": "stream",
     "text": [
      "Epoch [43/50] Training: Loss_G_A: 6.1573 | Loss_Cycle_A: 0.5365 | Loss_Cycle_B: 0.1175 | Loss_D: 0.1698\n"
     ]
    },
    {
     "name": "stderr",
     "output_type": "stream",
     "text": [
      "Epoch [44/50]: 100%|██████████| 180/180 [11:08<00:00,  3.72s/it]\n"
     ]
    },
    {
     "name": "stdout",
     "output_type": "stream",
     "text": [
      "Epoch [44/50] Training: Loss_G_A: 6.2594 | Loss_Cycle_A: 0.5775 | Loss_Cycle_B: 0.1345 | Loss_D: 0.1694\n"
     ]
    },
    {
     "name": "stderr",
     "output_type": "stream",
     "text": [
      "Epoch [45/50]: 100%|██████████| 180/180 [11:10<00:00,  3.72s/it]\n"
     ]
    },
    {
     "name": "stdout",
     "output_type": "stream",
     "text": [
      "Epoch [45/50] Training: Loss_G_A: 6.3883 | Loss_Cycle_A: 0.5455 | Loss_Cycle_B: 0.1507 | Loss_D: 0.1692\n"
     ]
    },
    {
     "name": "stderr",
     "output_type": "stream",
     "text": [
      "Epoch [46/50]: 100%|██████████| 180/180 [11:10<00:00,  3.72s/it]\n"
     ]
    },
    {
     "name": "stdout",
     "output_type": "stream",
     "text": [
      "Epoch [46/50] Training: Loss_G_A: 6.2360 | Loss_Cycle_A: 0.5657 | Loss_Cycle_B: 0.1626 | Loss_D: 0.1688\n"
     ]
    },
    {
     "name": "stderr",
     "output_type": "stream",
     "text": [
      "Epoch [47/50]: 100%|██████████| 180/180 [11:10<00:00,  3.73s/it]\n"
     ]
    },
    {
     "name": "stdout",
     "output_type": "stream",
     "text": [
      "Epoch [47/50] Training: Loss_G_A: 6.1876 | Loss_Cycle_A: 0.5757 | Loss_Cycle_B: 0.1668 | Loss_D: 0.1689\n"
     ]
    },
    {
     "name": "stderr",
     "output_type": "stream",
     "text": [
      "Epoch [48/50]: 100%|██████████| 180/180 [11:10<00:00,  3.73s/it]\n"
     ]
    },
    {
     "name": "stdout",
     "output_type": "stream",
     "text": [
      "Epoch [48/50] Training: Loss_G_A: 6.2360 | Loss_Cycle_A: 0.5362 | Loss_Cycle_B: 0.1716 | Loss_D: 0.1685\n"
     ]
    },
    {
     "name": "stderr",
     "output_type": "stream",
     "text": [
      "Epoch [49/50]: 100%|██████████| 180/180 [11:10<00:00,  3.73s/it]\n"
     ]
    },
    {
     "name": "stdout",
     "output_type": "stream",
     "text": [
      "Epoch [49/50] Training: Loss_G_A: 6.3007 | Loss_Cycle_A: 0.5674 | Loss_Cycle_B: 0.1623 | Loss_D: 0.1684\n"
     ]
    },
    {
     "name": "stderr",
     "output_type": "stream",
     "text": [
      "Epoch [50/50]: 100%|██████████| 180/180 [11:10<00:00,  3.72s/it]\n"
     ]
    },
    {
     "name": "stdout",
     "output_type": "stream",
     "text": [
      "Epoch [50/50] Training: Loss_G_A: 6.5746 | Loss_Cycle_A: 0.5633 | Loss_Cycle_B: 0.1348 | Loss_D: 0.1679\n"
     ]
    }
   ],
   "source": [
    "# TRAINING LOOP\n",
    "\n",
    "# initializing lists to track losses for plotting\n",
    "losses = {\n",
    "    \"G_A\": [],           # generator A adversarial loss\n",
    "    \"Cycle_A\": [],       # cycle consistency loss A (2D->3D->2D)\n",
    "    \"Cycle_B\": [],       # cycle consistency loss B (3D->2D->3D)\n",
    "    \"D\": []              # discriminator loss\n",
    "}\n",
    "\n",
    "num_epochs = 50\n",
    "lambda_cycle = 15\n",
    "adversarial_loss = nn.BCEWithLogitsLoss()\n",
    "cycle_consistency_loss = nn.L1Loss()\n",
    "label_smoothing = 0.1\n",
    "\n",
    "for epoch in range(num_epochs):\n",
    "    generator_2d_to_3d.train()\n",
    "    generator_3d_to_2d.train()\n",
    "    discriminator_3d.train()\n",
    "\n",
    "    epoch_loss_G_A = 0.0\n",
    "    epoch_loss_Cycle_A = 0.0\n",
    "    epoch_loss_Cycle_B = 0.0\n",
    "    epoch_loss_D = 0.0\n",
    "\n",
    "    for i, batch in enumerate(tqdm(train_loader, desc=f\"Epoch [{epoch+1}/{num_epochs}]\")):\n",
    "        frontal = batch['frontal'].to(device)\n",
    "\n",
    "        # -------------------\n",
    "        # Train Generator A (2D to 3D)\n",
    "        # -------------------\n",
    "        optimizer_G_A.zero_grad()\n",
    "        fake_3d = generator_2d_to_3d(frontal)\n",
    "        real_labels = (1.0 - label_smoothing) * torch.ones_like(discriminator_3d(fake_3d)).to(device)\n",
    "        loss_G_A_adv = adversarial_loss(discriminator_3d(fake_3d), real_labels)\n",
    "\n",
    "        # Train Generator B (3D to 2D)\n",
    "        optimizer_G_B.zero_grad()\n",
    "        reconstructed_xrays = generator_3d_to_2d(fake_3d)\n",
    "        loss_cycle_A = cycle_consistency_loss(reconstructed_xrays, frontal)\n",
    "\n",
    "        reconstructed_volumes = generator_2d_to_3d(reconstructed_xrays)\n",
    "        loss_cycle_B = cycle_consistency_loss(reconstructed_volumes, fake_3d)\n",
    "\n",
    "        loss_G = loss_G_A_adv + lambda_cycle * (loss_cycle_A + loss_cycle_B)\n",
    "        loss_G.backward()\n",
    "\n",
    "        # gradient clipping for the generators\n",
    "        torch.nn.utils.clip_grad_norm_(generator_2d_to_3d.parameters(), max_norm=1.0)\n",
    "        torch.nn.utils.clip_grad_norm_(generator_3d_to_2d.parameters(), max_norm=1.0)\n",
    "\n",
    "        optimizer_G_A.step()\n",
    "        optimizer_G_B.step()\n",
    "\n",
    "        # -------------------\n",
    "        # Train Discriminator (3D)\n",
    "        # -------------------\n",
    "        if i % 2 == 0:  # balancing training steps\n",
    "            optimizer_D.zero_grad()\n",
    "            real_3d = torch.randn_like(fake_3d).to(device)  # random 3D volume\n",
    "            real_scores = discriminator_3d(real_3d)\n",
    "            real_labels = (1.0 - label_smoothing) * torch.ones_like(real_scores).to(device)\n",
    "            loss_real = adversarial_loss(real_scores, real_labels)\n",
    "\n",
    "            fake_scores = discriminator_3d(fake_3d.detach())\n",
    "            fake_labels = label_smoothing * torch.zeros_like(fake_scores).to(device)\n",
    "            loss_fake = adversarial_loss(fake_scores, fake_labels)\n",
    "\n",
    "            loss_D = (loss_real + loss_fake) / 2\n",
    "            loss_D.backward()\n",
    "\n",
    "            # gradient clipping for the discriminator\n",
    "            torch.nn.utils.clip_grad_norm_(discriminator_3d.parameters(), max_norm=1.0)\n",
    "\n",
    "            optimizer_D.step()\n",
    "\n",
    "        # accumulating losses\n",
    "        epoch_loss_G_A += loss_G_A_adv.item()\n",
    "        epoch_loss_Cycle_A += loss_cycle_A.item()\n",
    "        epoch_loss_Cycle_B += loss_cycle_B.item()\n",
    "        epoch_loss_D += loss_D.item() if i % 2 == 0 else 0.0\n",
    "\n",
    "    # calculating average losses\n",
    "    avg_loss_G_A = epoch_loss_G_A / len(train_loader)\n",
    "    avg_loss_Cycle_A = epoch_loss_Cycle_A / len(train_loader)\n",
    "    avg_loss_Cycle_B = epoch_loss_Cycle_B / len(train_loader)\n",
    "    avg_loss_D = epoch_loss_D / (len(train_loader) / 2)\n",
    "\n",
    "    # appending epoch losses to the dictionary\n",
    "    losses[\"G_A\"].append(avg_loss_G_A)\n",
    "    losses[\"Cycle_A\"].append(avg_loss_Cycle_A)\n",
    "    losses[\"Cycle_B\"].append(avg_loss_Cycle_B)\n",
    "    losses[\"D\"].append(avg_loss_D)\n",
    "\n",
    "    print(\n",
    "        f\"Epoch [{epoch+1}/{num_epochs}] Training: \"\n",
    "        f\"Loss_G_A: {avg_loss_G_A:.4f} | \"\n",
    "        f\"Loss_Cycle_A: {avg_loss_Cycle_A:.4f} | \"\n",
    "        f\"Loss_Cycle_B: {avg_loss_Cycle_B:.4f} | \"\n",
    "        f\"Loss_D: {avg_loss_D:.4f}\"\n",
    "    )\n",
    "\n",
    "    # saving checkpoints every 10 epochs\n",
    "    if (epoch + 1) % 25 == 0:\n",
    "        torch.save(generator_2d_to_3d.state_dict(), f\"generatorfrontal_2d_to_3d_epoch_{epoch+1}.pth\")\n",
    "        torch.save(generator_3d_to_2d.state_dict(), f\"generatorfrontal_3d_to_2d_epoch_{epoch+1}.pth\")\n",
    "        torch.save(discriminator_3d.state_dict(), f\"discriminatorfrontal_epoch_{epoch+1}.pth\")\n",
    "\n"
   ]
  },
  {
   "cell_type": "code",
   "execution_count": 27,
   "id": "6a8f4fb6",
   "metadata": {},
   "outputs": [
    {
     "name": "stdout",
     "output_type": "stream",
     "text": [
      "Average SSIM: 0.0108\n",
      "Average PSNR: 5.9069\n"
     ]
    }
   ],
   "source": [
    "def evaluate_model(test_loader, generator_2d_to_3d, device):\n",
    "    generator_2d_to_3d.eval()\n",
    "\n",
    "    total_ssim = 0.0\n",
    "    total_psnr = 0.0\n",
    "    num_samples = 0\n",
    "\n",
    "    with torch.no_grad():\n",
    "        for batch in test_loader:\n",
    "            frontal = batch['frontal'].to(device)  \n",
    "\n",
    "            # generating 3D output\n",
    "            fake_3d = generator_2d_to_3d(frontal)\n",
    "\n",
    "            # looping over batch\n",
    "            for i in range(fake_3d.size(0)):\n",
    "                generated_3d = fake_3d[i].cpu().numpy()\n",
    "                original = frontal[i].cpu().numpy()\n",
    "                \n",
    "                generated_3d = np.clip(generated_3d, 0, 1)  # normalize to [0, 1]\n",
    "                original = np.clip(original, 0, 1)\n",
    "\n",
    "                # resizing the original 2D frontal input to match the 3D slice dimensions\n",
    "                resized_original = np.resize(original, generated_3d.shape[1:])  \n",
    "\n",
    "                # computing metrics slice-by-slice\n",
    "                for slice_idx in range(generated_3d.shape[0]):\n",
    "                    slice_generated = generated_3d[slice_idx]\n",
    "                    slice_original = resized_original  \n",
    "\n",
    "                    total_ssim += ssim(slice_generated, slice_original, data_range=1.0, win_size=3)\n",
    "                    total_psnr += psnr(slice_generated, slice_original, data_range=1.0)\n",
    "                    num_samples += 1\n",
    "\n",
    "    # average metrics\n",
    "    avg_ssim = total_ssim / num_samples if num_samples > 0 else 0\n",
    "    avg_psnr = total_psnr / num_samples if num_samples > 0 else 0\n",
    "    print(f\"Average SSIM: {avg_ssim:.4f}\")\n",
    "    print(f\"Average PSNR: {avg_psnr:.4f}\")\n",
    "\n",
    "    return avg_ssim, avg_psnr\n",
    "\n",
    "# evaluating the model\n",
    "avg_ssim, avg_psnr = evaluate_model(test_loader, generator_2d_to_3d, device)\n"
   ]
  },
  {
   "cell_type": "code",
   "execution_count": 25,
   "id": "abf692d9",
   "metadata": {},
   "outputs": [
    {
     "data": {
      "text/plain": [
       "{'G_A': [5.272596438725789,\n",
       "  6.237201229731242,\n",
       "  6.331611953841316,\n",
       "  6.647286205821567,\n",
       "  6.535181453492906,\n",
       "  6.460720846388075,\n",
       "  6.8318970865673485,\n",
       "  6.94590588675605,\n",
       "  7.134496381547716,\n",
       "  7.236448340945774,\n",
       "  6.836574241850111,\n",
       "  6.8056892395019535,\n",
       "  7.374993899133471,\n",
       "  5.239291947417789,\n",
       "  5.2003153151936,\n",
       "  4.903120403819614,\n",
       "  5.194844143920474,\n",
       "  4.632107204861111,\n",
       "  4.558869440688027,\n",
       "  5.067059797710843,\n",
       "  4.815478698412577,\n",
       "  5.205010226037767,\n",
       "  4.990299264589946,\n",
       "  5.23598427772522,\n",
       "  5.27870118353102,\n",
       "  4.981185740894741,\n",
       "  5.349964017338223,\n",
       "  5.408860842386882,\n",
       "  5.526825360457102,\n",
       "  5.46439516014523,\n",
       "  5.360849123530918,\n",
       "  5.37836016813914,\n",
       "  5.560269032584296,\n",
       "  6.000758804215325,\n",
       "  5.768635988235474,\n",
       "  5.998505711555481,\n",
       "  6.48363692495558,\n",
       "  5.890730929374695,\n",
       "  6.05587006409963,\n",
       "  6.212264262305366,\n",
       "  6.047887587547303,\n",
       "  5.934298422601488,\n",
       "  6.157279388109843,\n",
       "  6.259444750679863,\n",
       "  6.388292132483588,\n",
       "  6.236024779743619,\n",
       "  6.187559053632948,\n",
       "  6.23599767949846,\n",
       "  6.30074827141232,\n",
       "  6.574644290076362],\n",
       " 'Cycle_A': [0.5480191970864932,\n",
       "  0.5525150709682041,\n",
       "  0.5624800800449319,\n",
       "  0.5592566210362646,\n",
       "  0.5829733322891925,\n",
       "  0.5833337457643615,\n",
       "  0.5592235760556327,\n",
       "  0.527392854127619,\n",
       "  0.539217562476794,\n",
       "  0.5606713046630224,\n",
       "  0.5515848652356201,\n",
       "  0.5750420714418093,\n",
       "  0.5923179539541403,\n",
       "  0.5606596463256412,\n",
       "  0.5787545022037294,\n",
       "  0.5836711014310519,\n",
       "  0.5898935568001535,\n",
       "  0.5660731592112117,\n",
       "  0.5574283517069287,\n",
       "  0.5547571553952164,\n",
       "  0.5627168839176496,\n",
       "  0.5786883436971241,\n",
       "  0.5382880551119645,\n",
       "  0.5885750314427747,\n",
       "  0.5617496038476626,\n",
       "  0.559916711350282,\n",
       "  0.5571881874567932,\n",
       "  0.5477207200394736,\n",
       "  0.5719934480885664,\n",
       "  0.5610145078765021,\n",
       "  0.5652901990546121,\n",
       "  0.5799417407976256,\n",
       "  0.5323189641866419,\n",
       "  0.555650124202172,\n",
       "  0.5292812833355532,\n",
       "  0.5850798606872558,\n",
       "  0.5736661473910014,\n",
       "  0.5531270641419622,\n",
       "  0.5551711151997248,\n",
       "  0.5573576245870855,\n",
       "  0.5408266892863645,\n",
       "  0.5726658300393157,\n",
       "  0.5365229266385237,\n",
       "  0.5775249256855912,\n",
       "  0.54546106432875,\n",
       "  0.5656652248568005,\n",
       "  0.575693893349833,\n",
       "  0.536230215181907,\n",
       "  0.567427446693182,\n",
       "  0.5632936050494511],\n",
       " 'Cycle_B': [0.15146193148361312,\n",
       "  0.1095413628137774,\n",
       "  0.11436473685834143,\n",
       "  0.10897912362383472,\n",
       "  0.09976660170488888,\n",
       "  0.10887827451030413,\n",
       "  0.07999450928635067,\n",
       "  0.06430568086604277,\n",
       "  0.052106394556661446,\n",
       "  0.04962825530933009,\n",
       "  0.05684222262352705,\n",
       "  0.06044016619109445,\n",
       "  0.0479680837235517,\n",
       "  0.058550870315068296,\n",
       "  0.07099239775497053,\n",
       "  0.15379518407086532,\n",
       "  0.14751143778363865,\n",
       "  0.2108803221748935,\n",
       "  0.20717385245694053,\n",
       "  0.22436047742764156,\n",
       "  0.26393319823675687,\n",
       "  0.24388167394532098,\n",
       "  0.27070923695961635,\n",
       "  0.23527717457877265,\n",
       "  0.21701844674017695,\n",
       "  0.27106606562932334,\n",
       "  0.2424437598221832,\n",
       "  0.19673175050152672,\n",
       "  0.16708912799755732,\n",
       "  0.1759771437280708,\n",
       "  0.14070635106828477,\n",
       "  0.16865340438154008,\n",
       "  0.15122987114720873,\n",
       "  0.12580183268421227,\n",
       "  0.15655099401871364,\n",
       "  0.12054153010249138,\n",
       "  0.11875649305681388,\n",
       "  0.14591041161782212,\n",
       "  0.10996176426609357,\n",
       "  0.13990185989273918,\n",
       "  0.14985835825403532,\n",
       "  0.1275486828138431,\n",
       "  0.11753770572443803,\n",
       "  0.13451173682179715,\n",
       "  0.15067907778753176,\n",
       "  0.16264858055445883,\n",
       "  0.16679612712727654,\n",
       "  0.17161185219883918,\n",
       "  0.16226637363433838,\n",
       "  0.13476567417383195],\n",
       " 'D': [0.18654078327947193,\n",
       "  0.1833188447687361,\n",
       "  0.18260463294055726,\n",
       "  0.18130191332764095,\n",
       "  0.1800251551800304,\n",
       "  0.1793435071905454,\n",
       "  0.17859994388288922,\n",
       "  0.17751703990830314,\n",
       "  0.17682870080073673,\n",
       "  0.17612065043714312,\n",
       "  0.17544559786717098,\n",
       "  0.17473226338624953,\n",
       "  0.17413942615191141,\n",
       "  0.17756666590770084,\n",
       "  0.17731672442621654,\n",
       "  0.18119953754875395,\n",
       "  0.17899383107821146,\n",
       "  0.18594544645812777,\n",
       "  0.20772670126623577,\n",
       "  0.17978615479336846,\n",
       "  0.18111548788017698,\n",
       "  0.1784615452090899,\n",
       "  0.17870126052035226,\n",
       "  0.17742969161934322,\n",
       "  0.1766236541999711,\n",
       "  0.17800526618957518,\n",
       "  0.17775453047619927,\n",
       "  0.17923260976870856,\n",
       "  0.17860583116610845,\n",
       "  0.17641779515478345,\n",
       "  0.17528028140465418,\n",
       "  0.17556892815563413,\n",
       "  0.1749837623702155,\n",
       "  0.17328297081920835,\n",
       "  0.17310952842235566,\n",
       "  0.17257383151186836,\n",
       "  0.17147006044785182,\n",
       "  0.17203601880206001,\n",
       "  0.17145092288653055,\n",
       "  0.17075501266453003,\n",
       "  0.17046018242835997,\n",
       "  0.17037875006596248,\n",
       "  0.16975967834393182,\n",
       "  0.16942877173423768,\n",
       "  0.16921741283602185,\n",
       "  0.16884011195765602,\n",
       "  0.16886054923137028,\n",
       "  0.16849868032667373,\n",
       "  0.16837828904390334,\n",
       "  0.16794514838192198]}"
      ]
     },
     "execution_count": 25,
     "metadata": {},
     "output_type": "execute_result"
    }
   ],
   "source": [
    "losses"
   ]
  },
  {
   "cell_type": "code",
   "execution_count": 28,
   "id": "4e7a05dd",
   "metadata": {},
   "outputs": [
    {
     "data": {
      "image/png": "[encoded data removed]",
      "text/plain": [
       "<Figure size 1000x600 with 1 Axes>"
      ]
     },
     "metadata": {},
     "output_type": "display_data"
    }
   ],
   "source": [
    "# plotting the loss curves\n",
    "plt.figure(figsize=(10, 6))\n",
    "\n",
    "plt.plot(losses[\"G_A\"], label=\"Generator A Adversarial Loss\")\n",
    "plt.plot(losses[\"Cycle_A\"], label=\"Cycle Consistency Loss A\")\n",
    "plt.plot(losses[\"Cycle_B\"], label=\"Cycle Consistency Loss B\")\n",
    "plt.plot(losses[\"D\"], label=\"Discriminator Loss\")\n",
    "\n",
    "plt.title(\"Training Loss Curves\")\n",
    "plt.xlabel(\"Epochs\")\n",
    "plt.ylabel(\"Loss\")\n",
    "plt.legend()\n",
    "plt.grid()\n",
    "plt.show()"
   ]
  },
  {
   "cell_type": "markdown",
   "id": "d3ff0b3e",
   "metadata": {},
   "source": [
    "## WEAKLY SUPERVISED - CONDITIONAL GAN"
   ]
  },
  {
   "cell_type": "code",
   "execution_count": 15,
   "id": "d6f0b9c5",
   "metadata": {},
   "outputs": [],
   "source": [
    "class ConditionalGenerator(nn.Module):\n",
    "    def __init__(self, input_channels=2, output_channels=1, target_depth=64):\n",
    "        super(ConditionalGenerator, self).__init__()\n",
    "        self.target_depth = target_depth\n",
    "\n",
    "        # initialising Convolution Block\n",
    "        self.initial = nn.Sequential(\n",
    "            nn.Conv2d(input_channels, 64, kernel_size=7, stride=1, padding=3),\n",
    "            nn.InstanceNorm2d(64),\n",
    "            nn.ReLU(inplace=True),\n",
    "            nn.Dropout(p=0.3)\n",
    "        )\n",
    "\n",
    "        # downsampling Layers\n",
    "        self.downsampling = nn.Sequential(\n",
    "            nn.Conv2d(64, 128, kernel_size=3, stride=2, padding=1),  # (64 -> 32)\n",
    "            nn.InstanceNorm2d(128),\n",
    "            nn.ReLU(inplace=True),\n",
    "            nn.Dropout(p=0.3),\n",
    "            nn.Conv2d(128, 256, kernel_size=3, stride=2, padding=1),  # (32 -> 16)\n",
    "            nn.InstanceNorm2d(256),\n",
    "            nn.ReLU(inplace=True),\n",
    "        )\n",
    "\n",
    "        # reshaping to 3D\n",
    "        self.reshape_to_3d = nn.Conv3d(256, 256, kernel_size=(1, 1, 1))\n",
    "\n",
    "        # residual Blocks\n",
    "        self.residual_blocks = nn.Sequential(\n",
    "            *[self._residual_block(256) for _ in range(6)]\n",
    "        )\n",
    "\n",
    "        # upsampling Layers\n",
    "        self.upsampling = nn.Sequential(\n",
    "            nn.ConvTranspose3d(256, 128, kernel_size=(4, 4, 4), stride=(2, 2, 2), padding=(1, 1, 1)),  # (16 -> 32)\n",
    "            nn.InstanceNorm3d(128),\n",
    "            nn.ReLU(inplace=True),\n",
    "            nn.Dropout(p=0.3),\n",
    "            nn.ConvTranspose3d(128, 64, kernel_size=(4, 4, 4), stride=(2, 2, 2), padding=(1, 1, 1)),  # (32 -> 64)\n",
    "            nn.InstanceNorm3d(64),\n",
    "            nn.ReLU(inplace=True),\n",
    "        )\n",
    "\n",
    "        # output Layer\n",
    "        self.output_layer = nn.Sequential(\n",
    "            nn.Conv3d(64, output_channels, kernel_size=7, stride=1, padding=3),\n",
    "            nn.Tanh()\n",
    "        )\n",
    "\n",
    "    def forward(self, x):\n",
    "        x = self.initial(x)\n",
    "        x = self.downsampling(x)\n",
    "        x = x.unsqueeze(2)  \n",
    "        x = self.reshape_to_3d(x)\n",
    "        x = self.residual_blocks(x)\n",
    "        x = self.upsampling(x)\n",
    "        x = nn.functional.interpolate(x, size=(self.target_depth, 64, 64), mode='trilinear', align_corners=True)\n",
    "        return self.output_layer(x)\n",
    "\n",
    "    def _residual_block(self, channels):\n",
    "        return nn.Sequential(\n",
    "            nn.Conv3d(channels, channels, kernel_size=3, stride=1, padding=1),\n",
    "            nn.InstanceNorm3d(channels),\n",
    "            nn.ReLU(inplace=True),\n",
    "            nn.Conv3d(channels, channels, kernel_size=3, stride=1, padding=1),\n",
    "            nn.InstanceNorm3d(channels),\n",
    "        )\n"
   ]
  },
  {
   "cell_type": "code",
   "execution_count": 16,
   "id": "1a7392e3",
   "metadata": {},
   "outputs": [],
   "source": [
    "class ConditionalDiscriminator(nn.Module):\n",
    "    def __init__(self, input_channels_2d=2, input_channels_3d=1):\n",
    "        super(ConditionalDiscriminator, self).__init__()\n",
    "        \n",
    "        self.model = nn.Sequential(\n",
    "            nn.Conv3d(input_channels_3d + input_channels_2d, 64, kernel_size=4, stride=2, padding=1),  # (64 -> 32)\n",
    "            nn.LeakyReLU(0.2, inplace=True),\n",
    "            \n",
    "            nn.Conv3d(64, 128, kernel_size=4, stride=2, padding=1),  # (32 -> 16)\n",
    "            nn.InstanceNorm3d(128),\n",
    "            nn.LeakyReLU(0.2, inplace=True),\n",
    "            nn.Dropout(p=0.3),\n",
    "            \n",
    "            nn.Conv3d(128, 256, kernel_size=4, stride=2, padding=1),  # (16 -> 8)\n",
    "            nn.InstanceNorm3d(256),\n",
    "            nn.LeakyReLU(0.2, inplace=True),\n",
    "            nn.Dropout(p=0.3),\n",
    "            \n",
    "            nn.Conv3d(256, 512, kernel_size=4, stride=2, padding=1),  # (8 -> 4)\n",
    "            nn.InstanceNorm3d(512),\n",
    "            nn.LeakyReLU(0.2, inplace=True),\n",
    "            \n",
    "            nn.Conv3d(512, 1, kernel_size=4, stride=1, padding=0),  # (4 -> 1)\n",
    "        )\n",
    "\n",
    "    def forward(self, condition_2d, generated_3d):\n",
    "        # combining 2D and 3D inputs\n",
    "        condition_2d_3d = condition_2d.unsqueeze(2).repeat(1, 1, generated_3d.shape[2], 1, 1)  \n",
    "        x = torch.cat((condition_2d_3d, generated_3d), dim=1)\n",
    "        return self.model(x)\n"
   ]
  },
  {
   "cell_type": "code",
   "execution_count": 17,
   "id": "e86e378e",
   "metadata": {},
   "outputs": [
    {
     "name": "stdout",
     "output_type": "stream",
     "text": [
      "Input condition shape: torch.Size([1, 2, 64, 64])\n",
      "Generated 3D output shape: torch.Size([1, 1, 64, 64, 64])\n",
      "Discriminator output shape: torch.Size([1, 1, 1, 1, 1])\n"
     ]
    }
   ],
   "source": [
    "# instantiating generator and discriminator\n",
    "generator = ConditionalGenerator(input_channels=2, output_channels=1, target_depth=64).to(device)\n",
    "discriminator = ConditionalDiscriminator(input_channels_2d=2, input_channels_3d=1).to(device)\n",
    "\n",
    "# creating dummy inputs\n",
    "dummy_frontal = torch.randn(1, 1, 64, 64).to(device)  \n",
    "dummy_lateral = torch.randn(1, 1, 64, 64).to(device)  \n",
    "dummy_condition = torch.cat((dummy_frontal, dummy_lateral), dim=1)  \n",
    "\n",
    "# forward pass through generator\n",
    "generated_3d = generator(dummy_condition)\n",
    "\n",
    "# forward pass through discriminator\n",
    "disc_output = discriminator(dummy_condition, generated_3d)\n",
    "\n",
    "print(f\"Input condition shape: {dummy_condition.shape}\")      \n",
    "print(f\"Generated 3D output shape: {generated_3d.shape}\")     \n",
    "print(f\"Discriminator output shape: {disc_output.shape}\")    "
   ]
  },
  {
   "cell_type": "code",
   "execution_count": 23,
   "id": "cdbb81a7",
   "metadata": {},
   "outputs": [],
   "source": [
    "# HYPERPARAMETERS\n",
    "\n",
    "input_channels_2d = 2  # for frontal and lateral inputs\n",
    "input_channels_3d = 1  # for the generated 3D volume\n",
    "output_channels_2d = 2  # for reconstructing frontal and lateral images\n",
    "output_channels_3d = 1  # for generating 3D volume\n",
    "lr = 1e-4               # learning rate\n",
    "betas = (0.5, 0.999)    # beta values for Adam optimizer\n",
    "lambda_cycle = 15       # weight for cycle consistency loss\n",
    "lambda_adv = 1          # weight for adversarial loss\n",
    "num_epochs = 150         # number of epochs\n",
    "batch_size = 16         # batch size "
   ]
  },
  {
   "cell_type": "code",
   "execution_count": 24,
   "id": "9baed715",
   "metadata": {},
   "outputs": [],
   "source": [
    "def weights_init_xavier(m):\n",
    "\n",
    "    classname = m.__class__.__name__\n",
    "    if classname.find(\"Conv\") != -1 or classname.find(\"Linear\") != -1:\n",
    "        nn.init.xavier_uniform_(m.weight.data)\n",
    "        if m.bias is not None:\n",
    "            nn.init.constant_(m.bias.data, 0.0)\n",
    "    elif classname.find(\"InstanceNorm\") != -1 or classname.find(\"BatchNorm\") != -1:\n",
    "        if m.weight is not None:\n",
    "            nn.init.constant_(m.weight.data, 1.0)\n",
    "        if m.bias is not None:\n",
    "            nn.init.constant_(m.bias.data, 0.0)\n"
   ]
  },
  {
   "cell_type": "code",
   "execution_count": 25,
   "id": "fec2aaf9",
   "metadata": {},
   "outputs": [
    {
     "name": "stdout",
     "output_type": "stream",
     "text": [
      "Using device: cuda\n"
     ]
    }
   ],
   "source": [
    "# models\n",
    "generator_2d_to_3d = ConditionalGenerator(\n",
    "    input_channels=input_channels_2d,\n",
    "    output_channels=output_channels_3d,\n",
    "    target_depth=64\n",
    ")\n",
    "\n",
    "discriminator_3d = ConditionalDiscriminator(\n",
    "    input_channels_2d=input_channels_2d,\n",
    "    input_channels_3d=input_channels_3d\n",
    ")\n",
    "\n",
    "# initializing weights\n",
    "generator_2d_to_3d.apply(weights_init_xavier)\n",
    "discriminator_3d.apply(weights_init_xavier)\n",
    "\n",
    "# optimizers\n",
    "optimizer_G = Adam(generator_2d_to_3d.parameters(), lr=lr, betas=betas)\n",
    "optimizer_D = Adam(discriminator_3d.parameters(), lr=lr, betas=betas)\n",
    "\n",
    "# loss functions\n",
    "adversarial_loss = nn.BCEWithLogitsLoss()  # adversarial loss\n",
    "cycle_consistency_loss = nn.L1Loss()       # cycle consistency loss\n",
    "\n",
    "# generator_2d_to_3d = generator_2d_to_3d.to(device)\n",
    "# discriminator_3d = discriminator_3d.to(device)\n",
    "generator_2d_to_3d = nn.DataParallel(generator_2d_to_3d).to(device)\n",
    "discriminator_3d = nn.DataParallel(discriminator_3d).to(device)\n",
    "\n",
    "\n",
    "adversarial_loss = adversarial_loss.to(device)\n",
    "cycle_consistency_loss = cycle_consistency_loss.to(device)\n",
    "\n",
    "print(f\"Using device: {device}\")"
   ]
  },
  {
   "cell_type": "code",
   "execution_count": 21,
   "id": "3aa91673",
   "metadata": {},
   "outputs": [],
   "source": [
    "# logging variables\n",
    "losses = {\n",
    "    \"G\": [],  # generator loss\n",
    "    \"D\": [],  # discriminator loss\n",
    "}"
   ]
  },
  {
   "cell_type": "code",
   "execution_count": 26,
   "id": "2bf5455b",
   "metadata": {},
   "outputs": [
    {
     "name": "stderr",
     "output_type": "stream",
     "text": [
      "Epoch [1/150]: 100%|██████████| 180/180 [01:47<00:00,  1.68it/s]\n"
     ]
    },
    {
     "name": "stdout",
     "output_type": "stream",
     "text": [
      "Epoch [1/150] Training: Loss_G: 1.1097 | Loss_D: 1.1758\n"
     ]
    },
    {
     "name": "stderr",
     "output_type": "stream",
     "text": [
      "Epoch [2/150]: 100%|██████████| 180/180 [01:47<00:00,  1.68it/s]\n"
     ]
    },
    {
     "name": "stdout",
     "output_type": "stream",
     "text": [
      "Epoch [2/150] Training: Loss_G: 0.7761 | Loss_D: 0.7705\n"
     ]
    },
    {
     "name": "stderr",
     "output_type": "stream",
     "text": [
      "Epoch [3/150]: 100%|██████████| 180/180 [01:46<00:00,  1.68it/s]\n"
     ]
    },
    {
     "name": "stdout",
     "output_type": "stream",
     "text": [
      "Epoch [3/150] Training: Loss_G: 0.7435 | Loss_D: 0.7392\n"
     ]
    },
    {
     "name": "stderr",
     "output_type": "stream",
     "text": [
      "Epoch [4/150]: 100%|██████████| 180/180 [01:46<00:00,  1.68it/s]\n"
     ]
    },
    {
     "name": "stdout",
     "output_type": "stream",
     "text": [
      "Epoch [4/150] Training: Loss_G: 0.7212 | Loss_D: 0.7276\n"
     ]
    },
    {
     "name": "stderr",
     "output_type": "stream",
     "text": [
      "Epoch [5/150]: 100%|██████████| 180/180 [01:46<00:00,  1.68it/s]\n"
     ]
    },
    {
     "name": "stdout",
     "output_type": "stream",
     "text": [
      "Epoch [5/150] Training: Loss_G: 0.7166 | Loss_D: 0.7209\n"
     ]
    },
    {
     "name": "stderr",
     "output_type": "stream",
     "text": [
      "Epoch [6/150]: 100%|██████████| 180/180 [01:46<00:00,  1.68it/s]\n"
     ]
    },
    {
     "name": "stdout",
     "output_type": "stream",
     "text": [
      "Epoch [6/150] Training: Loss_G: 0.7386 | Loss_D: 0.7321\n"
     ]
    },
    {
     "name": "stderr",
     "output_type": "stream",
     "text": [
      "Epoch [7/150]: 100%|██████████| 180/180 [01:46<00:00,  1.68it/s]\n"
     ]
    },
    {
     "name": "stdout",
     "output_type": "stream",
     "text": [
      "Epoch [7/150] Training: Loss_G: 0.7086 | Loss_D: 0.7131\n"
     ]
    },
    {
     "name": "stderr",
     "output_type": "stream",
     "text": [
      "Epoch [8/150]: 100%|██████████| 180/180 [01:46<00:00,  1.68it/s]\n"
     ]
    },
    {
     "name": "stdout",
     "output_type": "stream",
     "text": [
      "Epoch [8/150] Training: Loss_G: 0.7042 | Loss_D: 0.7087\n"
     ]
    },
    {
     "name": "stderr",
     "output_type": "stream",
     "text": [
      "Epoch [9/150]: 100%|██████████| 180/180 [01:46<00:00,  1.68it/s]\n"
     ]
    },
    {
     "name": "stdout",
     "output_type": "stream",
     "text": [
      "Epoch [9/150] Training: Loss_G: 0.7128 | Loss_D: 0.7164\n"
     ]
    },
    {
     "name": "stderr",
     "output_type": "stream",
     "text": [
      "Epoch [10/150]: 100%|██████████| 180/180 [01:46<00:00,  1.68it/s]\n"
     ]
    },
    {
     "name": "stdout",
     "output_type": "stream",
     "text": [
      "Epoch [10/150] Training: Loss_G: 0.7196 | Loss_D: 0.7175\n"
     ]
    },
    {
     "name": "stderr",
     "output_type": "stream",
     "text": [
      "Epoch [11/150]: 100%|██████████| 180/180 [01:46<00:00,  1.68it/s]\n"
     ]
    },
    {
     "name": "stdout",
     "output_type": "stream",
     "text": [
      "Epoch [11/150] Training: Loss_G: 0.7284 | Loss_D: 0.7121\n"
     ]
    },
    {
     "name": "stderr",
     "output_type": "stream",
     "text": [
      "Epoch [12/150]: 100%|██████████| 180/180 [01:46<00:00,  1.68it/s]\n"
     ]
    },
    {
     "name": "stdout",
     "output_type": "stream",
     "text": [
      "Epoch [12/150] Training: Loss_G: 0.7165 | Loss_D: 0.7139\n"
     ]
    },
    {
     "name": "stderr",
     "output_type": "stream",
     "text": [
      "Epoch [13/150]: 100%|██████████| 180/180 [01:46<00:00,  1.68it/s]\n"
     ]
    },
    {
     "name": "stdout",
     "output_type": "stream",
     "text": [
      "Epoch [13/150] Training: Loss_G: 0.7141 | Loss_D: 0.7115\n"
     ]
    },
    {
     "name": "stderr",
     "output_type": "stream",
     "text": [
      "Epoch [14/150]: 100%|██████████| 180/180 [01:46<00:00,  1.68it/s]\n"
     ]
    },
    {
     "name": "stdout",
     "output_type": "stream",
     "text": [
      "Epoch [14/150] Training: Loss_G: 0.7131 | Loss_D: 0.7157\n"
     ]
    },
    {
     "name": "stderr",
     "output_type": "stream",
     "text": [
      "Epoch [15/150]: 100%|██████████| 180/180 [01:46<00:00,  1.68it/s]\n"
     ]
    },
    {
     "name": "stdout",
     "output_type": "stream",
     "text": [
      "Epoch [15/150] Training: Loss_G: 0.7081 | Loss_D: 0.7100\n"
     ]
    },
    {
     "name": "stderr",
     "output_type": "stream",
     "text": [
      "Epoch [16/150]: 100%|██████████| 180/180 [01:46<00:00,  1.68it/s]\n"
     ]
    },
    {
     "name": "stdout",
     "output_type": "stream",
     "text": [
      "Epoch [16/150] Training: Loss_G: 0.7166 | Loss_D: 0.7152\n"
     ]
    },
    {
     "name": "stderr",
     "output_type": "stream",
     "text": [
      "Epoch [17/150]: 100%|██████████| 180/180 [01:46<00:00,  1.68it/s]\n"
     ]
    },
    {
     "name": "stdout",
     "output_type": "stream",
     "text": [
      "Epoch [17/150] Training: Loss_G: 0.7152 | Loss_D: 0.7122\n"
     ]
    },
    {
     "name": "stderr",
     "output_type": "stream",
     "text": [
      "Epoch [18/150]: 100%|██████████| 180/180 [01:46<00:00,  1.68it/s]\n"
     ]
    },
    {
     "name": "stdout",
     "output_type": "stream",
     "text": [
      "Epoch [18/150] Training: Loss_G: 0.7066 | Loss_D: 0.7090\n"
     ]
    },
    {
     "name": "stderr",
     "output_type": "stream",
     "text": [
      "Epoch [19/150]: 100%|██████████| 180/180 [01:46<00:00,  1.68it/s]\n"
     ]
    },
    {
     "name": "stdout",
     "output_type": "stream",
     "text": [
      "Epoch [19/150] Training: Loss_G: 0.7136 | Loss_D: 0.7140\n"
     ]
    },
    {
     "name": "stderr",
     "output_type": "stream",
     "text": [
      "Epoch [20/150]: 100%|██████████| 180/180 [01:46<00:00,  1.68it/s]\n"
     ]
    },
    {
     "name": "stdout",
     "output_type": "stream",
     "text": [
      "Epoch [20/150] Training: Loss_G: 0.7102 | Loss_D: 0.7074\n"
     ]
    },
    {
     "name": "stderr",
     "output_type": "stream",
     "text": [
      "Epoch [21/150]: 100%|██████████| 180/180 [01:46<00:00,  1.68it/s]\n"
     ]
    },
    {
     "name": "stdout",
     "output_type": "stream",
     "text": [
      "Epoch [21/150] Training: Loss_G: 0.6682 | Loss_D: 0.7096\n"
     ]
    },
    {
     "name": "stderr",
     "output_type": "stream",
     "text": [
      "Epoch [22/150]: 100%|██████████| 180/180 [01:46<00:00,  1.68it/s]\n"
     ]
    },
    {
     "name": "stdout",
     "output_type": "stream",
     "text": [
      "Epoch [22/150] Training: Loss_G: 0.7083 | Loss_D: 0.7113\n"
     ]
    },
    {
     "name": "stderr",
     "output_type": "stream",
     "text": [
      "Epoch [23/150]: 100%|██████████| 180/180 [01:46<00:00,  1.68it/s]\n"
     ]
    },
    {
     "name": "stdout",
     "output_type": "stream",
     "text": [
      "Epoch [23/150] Training: Loss_G: 0.7154 | Loss_D: 0.7158\n"
     ]
    },
    {
     "name": "stderr",
     "output_type": "stream",
     "text": [
      "Epoch [24/150]: 100%|██████████| 180/180 [01:46<00:00,  1.68it/s]\n"
     ]
    },
    {
     "name": "stdout",
     "output_type": "stream",
     "text": [
      "Epoch [24/150] Training: Loss_G: 0.7031 | Loss_D: 0.7068\n"
     ]
    },
    {
     "name": "stderr",
     "output_type": "stream",
     "text": [
      "Epoch [25/150]: 100%|██████████| 180/180 [01:46<00:00,  1.68it/s]\n"
     ]
    },
    {
     "name": "stdout",
     "output_type": "stream",
     "text": [
      "Epoch [25/150] Training: Loss_G: 0.7114 | Loss_D: 0.7093\n"
     ]
    },
    {
     "name": "stderr",
     "output_type": "stream",
     "text": [
      "Epoch [26/150]: 100%|██████████| 180/180 [01:46<00:00,  1.68it/s]\n"
     ]
    },
    {
     "name": "stdout",
     "output_type": "stream",
     "text": [
      "Epoch [26/150] Training: Loss_G: 0.7196 | Loss_D: 0.6958\n"
     ]
    },
    {
     "name": "stderr",
     "output_type": "stream",
     "text": [
      "Epoch [27/150]: 100%|██████████| 180/180 [01:46<00:00,  1.68it/s]\n"
     ]
    },
    {
     "name": "stdout",
     "output_type": "stream",
     "text": [
      "Epoch [27/150] Training: Loss_G: 0.7162 | Loss_D: 0.7133\n"
     ]
    },
    {
     "name": "stderr",
     "output_type": "stream",
     "text": [
      "Epoch [28/150]: 100%|██████████| 180/180 [01:46<00:00,  1.68it/s]\n"
     ]
    },
    {
     "name": "stdout",
     "output_type": "stream",
     "text": [
      "Epoch [28/150] Training: Loss_G: 0.7058 | Loss_D: 0.7087\n"
     ]
    },
    {
     "name": "stderr",
     "output_type": "stream",
     "text": [
      "Epoch [29/150]: 100%|██████████| 180/180 [01:46<00:00,  1.68it/s]\n"
     ]
    },
    {
     "name": "stdout",
     "output_type": "stream",
     "text": [
      "Epoch [29/150] Training: Loss_G: 0.7082 | Loss_D: 0.7078\n"
     ]
    },
    {
     "name": "stderr",
     "output_type": "stream",
     "text": [
      "Epoch [30/150]: 100%|██████████| 180/180 [01:46<00:00,  1.68it/s]\n"
     ]
    },
    {
     "name": "stdout",
     "output_type": "stream",
     "text": [
      "Epoch [30/150] Training: Loss_G: 0.7123 | Loss_D: 0.7075\n"
     ]
    },
    {
     "name": "stderr",
     "output_type": "stream",
     "text": [
      "Epoch [31/150]: 100%|██████████| 180/180 [01:46<00:00,  1.68it/s]\n"
     ]
    },
    {
     "name": "stdout",
     "output_type": "stream",
     "text": [
      "Epoch [31/150] Training: Loss_G: 0.7204 | Loss_D: 0.7198\n"
     ]
    },
    {
     "name": "stderr",
     "output_type": "stream",
     "text": [
      "Epoch [32/150]: 100%|██████████| 180/180 [01:46<00:00,  1.68it/s]\n"
     ]
    },
    {
     "name": "stdout",
     "output_type": "stream",
     "text": [
      "Epoch [32/150] Training: Loss_G: 0.7117 | Loss_D: 0.7095\n"
     ]
    },
    {
     "name": "stderr",
     "output_type": "stream",
     "text": [
      "Epoch [33/150]: 100%|██████████| 180/180 [01:46<00:00,  1.68it/s]\n"
     ]
    },
    {
     "name": "stdout",
     "output_type": "stream",
     "text": [
      "Epoch [33/150] Training: Loss_G: 0.7045 | Loss_D: 0.7065\n"
     ]
    },
    {
     "name": "stderr",
     "output_type": "stream",
     "text": [
      "Epoch [34/150]: 100%|██████████| 180/180 [01:46<00:00,  1.68it/s]\n"
     ]
    },
    {
     "name": "stdout",
     "output_type": "stream",
     "text": [
      "Epoch [34/150] Training: Loss_G: 0.7091 | Loss_D: 0.7108\n"
     ]
    },
    {
     "name": "stderr",
     "output_type": "stream",
     "text": [
      "Epoch [35/150]: 100%|██████████| 180/180 [01:46<00:00,  1.68it/s]\n"
     ]
    },
    {
     "name": "stdout",
     "output_type": "stream",
     "text": [
      "Epoch [35/150] Training: Loss_G: 0.7089 | Loss_D: 0.7092\n"
     ]
    },
    {
     "name": "stderr",
     "output_type": "stream",
     "text": [
      "Epoch [36/150]: 100%|██████████| 180/180 [01:46<00:00,  1.68it/s]\n"
     ]
    },
    {
     "name": "stdout",
     "output_type": "stream",
     "text": [
      "Epoch [36/150] Training: Loss_G: 0.7205 | Loss_D: 0.7107\n"
     ]
    },
    {
     "name": "stderr",
     "output_type": "stream",
     "text": [
      "Epoch [37/150]: 100%|██████████| 180/180 [01:46<00:00,  1.68it/s]\n"
     ]
    },
    {
     "name": "stdout",
     "output_type": "stream",
     "text": [
      "Epoch [37/150] Training: Loss_G: 0.7099 | Loss_D: 0.7060\n"
     ]
    },
    {
     "name": "stderr",
     "output_type": "stream",
     "text": [
      "Epoch [38/150]: 100%|██████████| 180/180 [01:46<00:00,  1.68it/s]\n"
     ]
    },
    {
     "name": "stdout",
     "output_type": "stream",
     "text": [
      "Epoch [38/150] Training: Loss_G: 0.7070 | Loss_D: 0.7038\n"
     ]
    },
    {
     "name": "stderr",
     "output_type": "stream",
     "text": [
      "Epoch [39/150]: 100%|██████████| 180/180 [01:46<00:00,  1.68it/s]\n"
     ]
    },
    {
     "name": "stdout",
     "output_type": "stream",
     "text": [
      "Epoch [39/150] Training: Loss_G: 0.7100 | Loss_D: 0.7102\n"
     ]
    },
    {
     "name": "stderr",
     "output_type": "stream",
     "text": [
      "Epoch [40/150]: 100%|██████████| 180/180 [01:46<00:00,  1.68it/s]\n"
     ]
    },
    {
     "name": "stdout",
     "output_type": "stream",
     "text": [
      "Epoch [40/150] Training: Loss_G: 0.7101 | Loss_D: 0.7073\n"
     ]
    },
    {
     "name": "stderr",
     "output_type": "stream",
     "text": [
      "Epoch [41/150]: 100%|██████████| 180/180 [01:46<00:00,  1.68it/s]\n"
     ]
    },
    {
     "name": "stdout",
     "output_type": "stream",
     "text": [
      "Epoch [41/150] Training: Loss_G: 0.7117 | Loss_D: 0.7100\n"
     ]
    },
    {
     "name": "stderr",
     "output_type": "stream",
     "text": [
      "Epoch [42/150]: 100%|██████████| 180/180 [01:46<00:00,  1.68it/s]\n"
     ]
    },
    {
     "name": "stdout",
     "output_type": "stream",
     "text": [
      "Epoch [42/150] Training: Loss_G: 0.7083 | Loss_D: 0.7070\n"
     ]
    },
    {
     "name": "stderr",
     "output_type": "stream",
     "text": [
      "Epoch [43/150]: 100%|██████████| 180/180 [01:46<00:00,  1.68it/s]\n"
     ]
    },
    {
     "name": "stdout",
     "output_type": "stream",
     "text": [
      "Epoch [43/150] Training: Loss_G: 0.7048 | Loss_D: 0.7057\n"
     ]
    },
    {
     "name": "stderr",
     "output_type": "stream",
     "text": [
      "Epoch [44/150]: 100%|██████████| 180/180 [01:46<00:00,  1.68it/s]\n"
     ]
    },
    {
     "name": "stdout",
     "output_type": "stream",
     "text": [
      "Epoch [44/150] Training: Loss_G: 0.7040 | Loss_D: 0.7057\n"
     ]
    },
    {
     "name": "stderr",
     "output_type": "stream",
     "text": [
      "Epoch [45/150]: 100%|██████████| 180/180 [01:46<00:00,  1.68it/s]\n"
     ]
    },
    {
     "name": "stdout",
     "output_type": "stream",
     "text": [
      "Epoch [45/150] Training: Loss_G: 0.7091 | Loss_D: 0.7094\n"
     ]
    },
    {
     "name": "stderr",
     "output_type": "stream",
     "text": [
      "Epoch [46/150]: 100%|██████████| 180/180 [01:46<00:00,  1.68it/s]\n"
     ]
    },
    {
     "name": "stdout",
     "output_type": "stream",
     "text": [
      "Epoch [46/150] Training: Loss_G: 0.6778 | Loss_D: 0.7059\n"
     ]
    },
    {
     "name": "stderr",
     "output_type": "stream",
     "text": [
      "Epoch [47/150]: 100%|██████████| 180/180 [01:46<00:00,  1.68it/s]\n"
     ]
    },
    {
     "name": "stdout",
     "output_type": "stream",
     "text": [
      "Epoch [47/150] Training: Loss_G: 0.7014 | Loss_D: 0.7064\n"
     ]
    },
    {
     "name": "stderr",
     "output_type": "stream",
     "text": [
      "Epoch [48/150]: 100%|██████████| 180/180 [01:46<00:00,  1.68it/s]\n"
     ]
    },
    {
     "name": "stdout",
     "output_type": "stream",
     "text": [
      "Epoch [48/150] Training: Loss_G: 0.7090 | Loss_D: 0.7066\n"
     ]
    },
    {
     "name": "stderr",
     "output_type": "stream",
     "text": [
      "Epoch [49/150]: 100%|██████████| 180/180 [01:46<00:00,  1.68it/s]\n"
     ]
    },
    {
     "name": "stdout",
     "output_type": "stream",
     "text": [
      "Epoch [49/150] Training: Loss_G: 0.7042 | Loss_D: 0.7028\n"
     ]
    },
    {
     "name": "stderr",
     "output_type": "stream",
     "text": [
      "Epoch [50/150]: 100%|██████████| 180/180 [01:46<00:00,  1.68it/s]\n"
     ]
    },
    {
     "name": "stdout",
     "output_type": "stream",
     "text": [
      "Epoch [50/150] Training: Loss_G: 0.7069 | Loss_D: 0.7090\n"
     ]
    },
    {
     "name": "stderr",
     "output_type": "stream",
     "text": [
      "Epoch [51/150]: 100%|██████████| 180/180 [01:46<00:00,  1.68it/s]\n"
     ]
    },
    {
     "name": "stdout",
     "output_type": "stream",
     "text": [
      "Epoch [51/150] Training: Loss_G: 0.7100 | Loss_D: 0.6927\n"
     ]
    },
    {
     "name": "stderr",
     "output_type": "stream",
     "text": [
      "Epoch [52/150]: 100%|██████████| 180/180 [01:46<00:00,  1.68it/s]\n"
     ]
    },
    {
     "name": "stdout",
     "output_type": "stream",
     "text": [
      "Epoch [52/150] Training: Loss_G: 0.7110 | Loss_D: 0.7065\n"
     ]
    },
    {
     "name": "stderr",
     "output_type": "stream",
     "text": [
      "Epoch [53/150]: 100%|██████████| 180/180 [01:46<00:00,  1.68it/s]\n"
     ]
    },
    {
     "name": "stdout",
     "output_type": "stream",
     "text": [
      "Epoch [53/150] Training: Loss_G: 0.7054 | Loss_D: 0.7037\n"
     ]
    },
    {
     "name": "stderr",
     "output_type": "stream",
     "text": [
      "Epoch [54/150]: 100%|██████████| 180/180 [01:46<00:00,  1.68it/s]\n"
     ]
    },
    {
     "name": "stdout",
     "output_type": "stream",
     "text": [
      "Epoch [54/150] Training: Loss_G: 0.7037 | Loss_D: 0.7060\n"
     ]
    },
    {
     "name": "stderr",
     "output_type": "stream",
     "text": [
      "Epoch [55/150]: 100%|██████████| 180/180 [01:46<00:00,  1.68it/s]\n"
     ]
    },
    {
     "name": "stdout",
     "output_type": "stream",
     "text": [
      "Epoch [55/150] Training: Loss_G: 0.7053 | Loss_D: 0.7056\n"
     ]
    },
    {
     "name": "stderr",
     "output_type": "stream",
     "text": [
      "Epoch [56/150]: 100%|██████████| 180/180 [01:46<00:00,  1.68it/s]\n"
     ]
    },
    {
     "name": "stdout",
     "output_type": "stream",
     "text": [
      "Epoch [56/150] Training: Loss_G: 0.7150 | Loss_D: 0.7140\n"
     ]
    },
    {
     "name": "stderr",
     "output_type": "stream",
     "text": [
      "Epoch [57/150]: 100%|██████████| 180/180 [01:46<00:00,  1.68it/s]\n"
     ]
    },
    {
     "name": "stdout",
     "output_type": "stream",
     "text": [
      "Epoch [57/150] Training: Loss_G: 0.7047 | Loss_D: 0.7043\n"
     ]
    },
    {
     "name": "stderr",
     "output_type": "stream",
     "text": [
      "Epoch [58/150]: 100%|██████████| 180/180 [01:46<00:00,  1.68it/s]\n"
     ]
    },
    {
     "name": "stdout",
     "output_type": "stream",
     "text": [
      "Epoch [58/150] Training: Loss_G: 0.7030 | Loss_D: 0.7025\n"
     ]
    },
    {
     "name": "stderr",
     "output_type": "stream",
     "text": [
      "Epoch [59/150]: 100%|██████████| 180/180 [01:46<00:00,  1.68it/s]\n"
     ]
    },
    {
     "name": "stdout",
     "output_type": "stream",
     "text": [
      "Epoch [59/150] Training: Loss_G: 0.7062 | Loss_D: 0.7073\n"
     ]
    },
    {
     "name": "stderr",
     "output_type": "stream",
     "text": [
      "Epoch [60/150]: 100%|██████████| 180/180 [01:46<00:00,  1.68it/s]\n"
     ]
    },
    {
     "name": "stdout",
     "output_type": "stream",
     "text": [
      "Epoch [60/150] Training: Loss_G: 0.7111 | Loss_D: 0.7084\n"
     ]
    },
    {
     "name": "stderr",
     "output_type": "stream",
     "text": [
      "Epoch [61/150]: 100%|██████████| 180/180 [01:46<00:00,  1.68it/s]\n"
     ]
    },
    {
     "name": "stdout",
     "output_type": "stream",
     "text": [
      "Epoch [61/150] Training: Loss_G: 0.7150 | Loss_D: 0.7061\n"
     ]
    },
    {
     "name": "stderr",
     "output_type": "stream",
     "text": [
      "Epoch [62/150]: 100%|██████████| 180/180 [01:46<00:00,  1.68it/s]\n"
     ]
    },
    {
     "name": "stdout",
     "output_type": "stream",
     "text": [
      "Epoch [62/150] Training: Loss_G: 0.7048 | Loss_D: 0.7030\n"
     ]
    },
    {
     "name": "stderr",
     "output_type": "stream",
     "text": [
      "Epoch [63/150]: 100%|██████████| 180/180 [01:46<00:00,  1.68it/s]\n"
     ]
    },
    {
     "name": "stdout",
     "output_type": "stream",
     "text": [
      "Epoch [63/150] Training: Loss_G: 0.7061 | Loss_D: 0.7071\n"
     ]
    },
    {
     "name": "stderr",
     "output_type": "stream",
     "text": [
      "Epoch [64/150]: 100%|██████████| 180/180 [01:46<00:00,  1.68it/s]\n"
     ]
    },
    {
     "name": "stdout",
     "output_type": "stream",
     "text": [
      "Epoch [64/150] Training: Loss_G: 0.7028 | Loss_D: 0.7027\n"
     ]
    },
    {
     "name": "stderr",
     "output_type": "stream",
     "text": [
      "Epoch [65/150]: 100%|██████████| 180/180 [01:46<00:00,  1.68it/s]\n"
     ]
    },
    {
     "name": "stdout",
     "output_type": "stream",
     "text": [
      "Epoch [65/150] Training: Loss_G: 0.7086 | Loss_D: 0.7084\n"
     ]
    },
    {
     "name": "stderr",
     "output_type": "stream",
     "text": [
      "Epoch [66/150]: 100%|██████████| 180/180 [01:46<00:00,  1.68it/s]\n"
     ]
    },
    {
     "name": "stdout",
     "output_type": "stream",
     "text": [
      "Epoch [66/150] Training: Loss_G: 0.7023 | Loss_D: 0.7031\n"
     ]
    },
    {
     "name": "stderr",
     "output_type": "stream",
     "text": [
      "Epoch [67/150]: 100%|██████████| 180/180 [01:46<00:00,  1.68it/s]\n"
     ]
    },
    {
     "name": "stdout",
     "output_type": "stream",
     "text": [
      "Epoch [67/150] Training: Loss_G: 0.7067 | Loss_D: 0.7063\n"
     ]
    },
    {
     "name": "stderr",
     "output_type": "stream",
     "text": [
      "Epoch [68/150]: 100%|██████████| 180/180 [01:47<00:00,  1.68it/s]\n"
     ]
    },
    {
     "name": "stdout",
     "output_type": "stream",
     "text": [
      "Epoch [68/150] Training: Loss_G: 0.7037 | Loss_D: 0.7017\n"
     ]
    },
    {
     "name": "stderr",
     "output_type": "stream",
     "text": [
      "Epoch [69/150]: 100%|██████████| 180/180 [01:46<00:00,  1.68it/s]\n"
     ]
    },
    {
     "name": "stdout",
     "output_type": "stream",
     "text": [
      "Epoch [69/150] Training: Loss_G: 0.7040 | Loss_D: 0.7045\n"
     ]
    },
    {
     "name": "stderr",
     "output_type": "stream",
     "text": [
      "Epoch [70/150]: 100%|██████████| 180/180 [01:46<00:00,  1.68it/s]\n"
     ]
    },
    {
     "name": "stdout",
     "output_type": "stream",
     "text": [
      "Epoch [70/150] Training: Loss_G: 0.7033 | Loss_D: 0.7036\n"
     ]
    },
    {
     "name": "stderr",
     "output_type": "stream",
     "text": [
      "Epoch [71/150]: 100%|██████████| 180/180 [01:46<00:00,  1.68it/s]\n"
     ]
    },
    {
     "name": "stdout",
     "output_type": "stream",
     "text": [
      "Epoch [71/150] Training: Loss_G: 0.6915 | Loss_D: 0.7041\n"
     ]
    },
    {
     "name": "stderr",
     "output_type": "stream",
     "text": [
      "Epoch [72/150]: 100%|██████████| 180/180 [01:46<00:00,  1.68it/s]\n"
     ]
    },
    {
     "name": "stdout",
     "output_type": "stream",
     "text": [
      "Epoch [72/150] Training: Loss_G: 0.6979 | Loss_D: 0.7051\n"
     ]
    },
    {
     "name": "stderr",
     "output_type": "stream",
     "text": [
      "Epoch [73/150]: 100%|██████████| 180/180 [01:46<00:00,  1.68it/s]\n"
     ]
    },
    {
     "name": "stdout",
     "output_type": "stream",
     "text": [
      "Epoch [73/150] Training: Loss_G: 0.7042 | Loss_D: 0.7023\n"
     ]
    },
    {
     "name": "stderr",
     "output_type": "stream",
     "text": [
      "Epoch [74/150]: 100%|██████████| 180/180 [01:46<00:00,  1.68it/s]\n"
     ]
    },
    {
     "name": "stdout",
     "output_type": "stream",
     "text": [
      "Epoch [74/150] Training: Loss_G: 0.7051 | Loss_D: 0.7037\n"
     ]
    },
    {
     "name": "stderr",
     "output_type": "stream",
     "text": [
      "Epoch [75/150]: 100%|██████████| 180/180 [01:46<00:00,  1.68it/s]\n"
     ]
    },
    {
     "name": "stdout",
     "output_type": "stream",
     "text": [
      "Epoch [75/150] Training: Loss_G: 0.7090 | Loss_D: 0.7051\n"
     ]
    },
    {
     "name": "stderr",
     "output_type": "stream",
     "text": [
      "Epoch [76/150]: 100%|██████████| 180/180 [01:46<00:00,  1.68it/s]\n"
     ]
    },
    {
     "name": "stdout",
     "output_type": "stream",
     "text": [
      "Epoch [76/150] Training: Loss_G: 0.7056 | Loss_D: 0.6984\n"
     ]
    },
    {
     "name": "stderr",
     "output_type": "stream",
     "text": [
      "Epoch [77/150]: 100%|██████████| 180/180 [01:46<00:00,  1.68it/s]\n"
     ]
    },
    {
     "name": "stdout",
     "output_type": "stream",
     "text": [
      "Epoch [77/150] Training: Loss_G: 0.7057 | Loss_D: 0.7007\n"
     ]
    },
    {
     "name": "stderr",
     "output_type": "stream",
     "text": [
      "Epoch [78/150]: 100%|██████████| 180/180 [01:46<00:00,  1.68it/s]\n"
     ]
    },
    {
     "name": "stdout",
     "output_type": "stream",
     "text": [
      "Epoch [78/150] Training: Loss_G: 0.7054 | Loss_D: 0.7053\n"
     ]
    },
    {
     "name": "stderr",
     "output_type": "stream",
     "text": [
      "Epoch [79/150]: 100%|██████████| 180/180 [01:46<00:00,  1.68it/s]\n"
     ]
    },
    {
     "name": "stdout",
     "output_type": "stream",
     "text": [
      "Epoch [79/150] Training: Loss_G: 0.7041 | Loss_D: 0.7026\n"
     ]
    },
    {
     "name": "stderr",
     "output_type": "stream",
     "text": [
      "Epoch [80/150]: 100%|██████████| 180/180 [01:46<00:00,  1.68it/s]\n"
     ]
    },
    {
     "name": "stdout",
     "output_type": "stream",
     "text": [
      "Epoch [80/150] Training: Loss_G: 0.7027 | Loss_D: 0.7038\n"
     ]
    },
    {
     "name": "stderr",
     "output_type": "stream",
     "text": [
      "Epoch [81/150]: 100%|██████████| 180/180 [01:46<00:00,  1.68it/s]\n"
     ]
    },
    {
     "name": "stdout",
     "output_type": "stream",
     "text": [
      "Epoch [81/150] Training: Loss_G: 0.7107 | Loss_D: 0.7092\n"
     ]
    },
    {
     "name": "stderr",
     "output_type": "stream",
     "text": [
      "Epoch [82/150]: 100%|██████████| 180/180 [01:46<00:00,  1.68it/s]\n"
     ]
    },
    {
     "name": "stdout",
     "output_type": "stream",
     "text": [
      "Epoch [82/150] Training: Loss_G: 0.7011 | Loss_D: 0.7019\n"
     ]
    },
    {
     "name": "stderr",
     "output_type": "stream",
     "text": [
      "Epoch [83/150]: 100%|██████████| 180/180 [01:46<00:00,  1.68it/s]\n"
     ]
    },
    {
     "name": "stdout",
     "output_type": "stream",
     "text": [
      "Epoch [83/150] Training: Loss_G: 0.7053 | Loss_D: 0.7058\n"
     ]
    },
    {
     "name": "stderr",
     "output_type": "stream",
     "text": [
      "Epoch [84/150]: 100%|██████████| 180/180 [01:46<00:00,  1.68it/s]\n"
     ]
    },
    {
     "name": "stdout",
     "output_type": "stream",
     "text": [
      "Epoch [84/150] Training: Loss_G: 0.6976 | Loss_D: 0.6995\n"
     ]
    },
    {
     "name": "stderr",
     "output_type": "stream",
     "text": [
      "Epoch [85/150]: 100%|██████████| 180/180 [01:46<00:00,  1.68it/s]\n"
     ]
    },
    {
     "name": "stdout",
     "output_type": "stream",
     "text": [
      "Epoch [85/150] Training: Loss_G: 0.7076 | Loss_D: 0.7075\n"
     ]
    },
    {
     "name": "stderr",
     "output_type": "stream",
     "text": [
      "Epoch [86/150]: 100%|██████████| 180/180 [01:46<00:00,  1.68it/s]\n"
     ]
    },
    {
     "name": "stdout",
     "output_type": "stream",
     "text": [
      "Epoch [86/150] Training: Loss_G: 0.7043 | Loss_D: 0.7004\n"
     ]
    },
    {
     "name": "stderr",
     "output_type": "stream",
     "text": [
      "Epoch [87/150]: 100%|██████████| 180/180 [01:46<00:00,  1.68it/s]\n"
     ]
    },
    {
     "name": "stdout",
     "output_type": "stream",
     "text": [
      "Epoch [87/150] Training: Loss_G: 0.7056 | Loss_D: 0.7041\n"
     ]
    },
    {
     "name": "stderr",
     "output_type": "stream",
     "text": [
      "Epoch [88/150]: 100%|██████████| 180/180 [01:46<00:00,  1.68it/s]\n"
     ]
    },
    {
     "name": "stdout",
     "output_type": "stream",
     "text": [
      "Epoch [88/150] Training: Loss_G: 0.6994 | Loss_D: 0.7007\n"
     ]
    },
    {
     "name": "stderr",
     "output_type": "stream",
     "text": [
      "Epoch [89/150]: 100%|██████████| 180/180 [01:46<00:00,  1.68it/s]\n"
     ]
    },
    {
     "name": "stdout",
     "output_type": "stream",
     "text": [
      "Epoch [89/150] Training: Loss_G: 0.7031 | Loss_D: 0.7045\n"
     ]
    },
    {
     "name": "stderr",
     "output_type": "stream",
     "text": [
      "Epoch [90/150]: 100%|██████████| 180/180 [01:46<00:00,  1.68it/s]\n"
     ]
    },
    {
     "name": "stdout",
     "output_type": "stream",
     "text": [
      "Epoch [90/150] Training: Loss_G: 0.7024 | Loss_D: 0.7038\n"
     ]
    },
    {
     "name": "stderr",
     "output_type": "stream",
     "text": [
      "Epoch [91/150]: 100%|██████████| 180/180 [01:46<00:00,  1.68it/s]\n"
     ]
    },
    {
     "name": "stdout",
     "output_type": "stream",
     "text": [
      "Epoch [91/150] Training: Loss_G: 0.7050 | Loss_D: 0.7052\n"
     ]
    },
    {
     "name": "stderr",
     "output_type": "stream",
     "text": [
      "Epoch [92/150]: 100%|██████████| 180/180 [01:46<00:00,  1.68it/s]\n"
     ]
    },
    {
     "name": "stdout",
     "output_type": "stream",
     "text": [
      "Epoch [92/150] Training: Loss_G: 0.7013 | Loss_D: 0.7023\n"
     ]
    },
    {
     "name": "stderr",
     "output_type": "stream",
     "text": [
      "Epoch [93/150]: 100%|██████████| 180/180 [01:46<00:00,  1.68it/s]\n"
     ]
    },
    {
     "name": "stdout",
     "output_type": "stream",
     "text": [
      "Epoch [93/150] Training: Loss_G: 0.7030 | Loss_D: 0.7047\n"
     ]
    },
    {
     "name": "stderr",
     "output_type": "stream",
     "text": [
      "Epoch [94/150]: 100%|██████████| 180/180 [01:46<00:00,  1.68it/s]\n"
     ]
    },
    {
     "name": "stdout",
     "output_type": "stream",
     "text": [
      "Epoch [94/150] Training: Loss_G: 0.7039 | Loss_D: 0.7045\n"
     ]
    },
    {
     "name": "stderr",
     "output_type": "stream",
     "text": [
      "Epoch [95/150]: 100%|██████████| 180/180 [01:46<00:00,  1.68it/s]\n"
     ]
    },
    {
     "name": "stdout",
     "output_type": "stream",
     "text": [
      "Epoch [95/150] Training: Loss_G: 0.7060 | Loss_D: 0.7051\n"
     ]
    },
    {
     "name": "stderr",
     "output_type": "stream",
     "text": [
      "Epoch [96/150]: 100%|██████████| 180/180 [01:46<00:00,  1.68it/s]\n"
     ]
    },
    {
     "name": "stdout",
     "output_type": "stream",
     "text": [
      "Epoch [96/150] Training: Loss_G: 0.6933 | Loss_D: 0.7007\n"
     ]
    },
    {
     "name": "stderr",
     "output_type": "stream",
     "text": [
      "Epoch [97/150]: 100%|██████████| 180/180 [01:46<00:00,  1.68it/s]\n"
     ]
    },
    {
     "name": "stdout",
     "output_type": "stream",
     "text": [
      "Epoch [97/150] Training: Loss_G: 0.6933 | Loss_D: 0.7016\n"
     ]
    },
    {
     "name": "stderr",
     "output_type": "stream",
     "text": [
      "Epoch [98/150]: 100%|██████████| 180/180 [01:46<00:00,  1.68it/s]\n"
     ]
    },
    {
     "name": "stdout",
     "output_type": "stream",
     "text": [
      "Epoch [98/150] Training: Loss_G: 0.7033 | Loss_D: 0.7009\n"
     ]
    },
    {
     "name": "stderr",
     "output_type": "stream",
     "text": [
      "Epoch [99/150]: 100%|██████████| 180/180 [01:46<00:00,  1.68it/s]\n"
     ]
    },
    {
     "name": "stdout",
     "output_type": "stream",
     "text": [
      "Epoch [99/150] Training: Loss_G: 0.7022 | Loss_D: 0.7027\n"
     ]
    },
    {
     "name": "stderr",
     "output_type": "stream",
     "text": [
      "Epoch [100/150]: 100%|██████████| 180/180 [01:46<00:00,  1.68it/s]\n"
     ]
    },
    {
     "name": "stdout",
     "output_type": "stream",
     "text": [
      "Epoch [100/150] Training: Loss_G: 0.7059 | Loss_D: 0.7030\n"
     ]
    },
    {
     "name": "stderr",
     "output_type": "stream",
     "text": [
      "Epoch [101/150]: 100%|██████████| 180/180 [01:46<00:00,  1.68it/s]\n"
     ]
    },
    {
     "name": "stdout",
     "output_type": "stream",
     "text": [
      "Epoch [101/150] Training: Loss_G: 0.7038 | Loss_D: 0.6980\n"
     ]
    },
    {
     "name": "stderr",
     "output_type": "stream",
     "text": [
      "Epoch [102/150]: 100%|██████████| 180/180 [01:46<00:00,  1.68it/s]\n"
     ]
    },
    {
     "name": "stdout",
     "output_type": "stream",
     "text": [
      "Epoch [102/150] Training: Loss_G: 0.7073 | Loss_D: 0.6997\n"
     ]
    },
    {
     "name": "stderr",
     "output_type": "stream",
     "text": [
      "Epoch [103/150]: 100%|██████████| 180/180 [01:46<00:00,  1.68it/s]\n"
     ]
    },
    {
     "name": "stdout",
     "output_type": "stream",
     "text": [
      "Epoch [103/150] Training: Loss_G: 0.6999 | Loss_D: 0.7008\n"
     ]
    },
    {
     "name": "stderr",
     "output_type": "stream",
     "text": [
      "Epoch [104/150]: 100%|██████████| 180/180 [01:46<00:00,  1.68it/s]\n"
     ]
    },
    {
     "name": "stdout",
     "output_type": "stream",
     "text": [
      "Epoch [104/150] Training: Loss_G: 0.7060 | Loss_D: 0.7053\n"
     ]
    },
    {
     "name": "stderr",
     "output_type": "stream",
     "text": [
      "Epoch [105/150]: 100%|██████████| 180/180 [01:46<00:00,  1.68it/s]\n"
     ]
    },
    {
     "name": "stdout",
     "output_type": "stream",
     "text": [
      "Epoch [105/150] Training: Loss_G: 0.7006 | Loss_D: 0.7012\n"
     ]
    },
    {
     "name": "stderr",
     "output_type": "stream",
     "text": [
      "Epoch [106/150]: 100%|██████████| 180/180 [01:46<00:00,  1.68it/s]\n"
     ]
    },
    {
     "name": "stdout",
     "output_type": "stream",
     "text": [
      "Epoch [106/150] Training: Loss_G: 0.7065 | Loss_D: 0.7070\n"
     ]
    },
    {
     "name": "stderr",
     "output_type": "stream",
     "text": [
      "Epoch [107/150]: 100%|██████████| 180/180 [01:46<00:00,  1.68it/s]\n"
     ]
    },
    {
     "name": "stdout",
     "output_type": "stream",
     "text": [
      "Epoch [107/150] Training: Loss_G: 0.7005 | Loss_D: 0.7032\n"
     ]
    },
    {
     "name": "stderr",
     "output_type": "stream",
     "text": [
      "Epoch [108/150]: 100%|██████████| 180/180 [01:46<00:00,  1.68it/s]\n"
     ]
    },
    {
     "name": "stdout",
     "output_type": "stream",
     "text": [
      "Epoch [108/150] Training: Loss_G: 0.7036 | Loss_D: 0.7045\n"
     ]
    },
    {
     "name": "stderr",
     "output_type": "stream",
     "text": [
      "Epoch [109/150]: 100%|██████████| 180/180 [01:46<00:00,  1.68it/s]\n"
     ]
    },
    {
     "name": "stdout",
     "output_type": "stream",
     "text": [
      "Epoch [109/150] Training: Loss_G: 0.7023 | Loss_D: 0.7017\n"
     ]
    },
    {
     "name": "stderr",
     "output_type": "stream",
     "text": [
      "Epoch [110/150]: 100%|██████████| 180/180 [01:46<00:00,  1.68it/s]\n"
     ]
    },
    {
     "name": "stdout",
     "output_type": "stream",
     "text": [
      "Epoch [110/150] Training: Loss_G: 0.7018 | Loss_D: 0.7023\n"
     ]
    },
    {
     "name": "stderr",
     "output_type": "stream",
     "text": [
      "Epoch [111/150]: 100%|██████████| 180/180 [01:46<00:00,  1.68it/s]\n"
     ]
    },
    {
     "name": "stdout",
     "output_type": "stream",
     "text": [
      "Epoch [111/150] Training: Loss_G: 0.7066 | Loss_D: 0.7043\n"
     ]
    },
    {
     "name": "stderr",
     "output_type": "stream",
     "text": [
      "Epoch [112/150]: 100%|██████████| 180/180 [01:46<00:00,  1.68it/s]\n"
     ]
    },
    {
     "name": "stdout",
     "output_type": "stream",
     "text": [
      "Epoch [112/150] Training: Loss_G: 0.7021 | Loss_D: 0.7003\n"
     ]
    },
    {
     "name": "stderr",
     "output_type": "stream",
     "text": [
      "Epoch [113/150]: 100%|██████████| 180/180 [01:46<00:00,  1.68it/s]\n"
     ]
    },
    {
     "name": "stdout",
     "output_type": "stream",
     "text": [
      "Epoch [113/150] Training: Loss_G: 0.6993 | Loss_D: 0.7020\n"
     ]
    },
    {
     "name": "stderr",
     "output_type": "stream",
     "text": [
      "Epoch [114/150]: 100%|██████████| 180/180 [01:46<00:00,  1.68it/s]\n"
     ]
    },
    {
     "name": "stdout",
     "output_type": "stream",
     "text": [
      "Epoch [114/150] Training: Loss_G: 0.7025 | Loss_D: 0.7013\n"
     ]
    },
    {
     "name": "stderr",
     "output_type": "stream",
     "text": [
      "Epoch [115/150]: 100%|██████████| 180/180 [01:46<00:00,  1.68it/s]\n"
     ]
    },
    {
     "name": "stdout",
     "output_type": "stream",
     "text": [
      "Epoch [115/150] Training: Loss_G: 0.7019 | Loss_D: 0.7016\n"
     ]
    },
    {
     "name": "stderr",
     "output_type": "stream",
     "text": [
      "Epoch [116/150]: 100%|██████████| 180/180 [01:46<00:00,  1.68it/s]\n"
     ]
    },
    {
     "name": "stdout",
     "output_type": "stream",
     "text": [
      "Epoch [116/150] Training: Loss_G: 0.7019 | Loss_D: 0.7032\n"
     ]
    },
    {
     "name": "stderr",
     "output_type": "stream",
     "text": [
      "Epoch [117/150]: 100%|██████████| 180/180 [01:46<00:00,  1.68it/s]\n"
     ]
    },
    {
     "name": "stdout",
     "output_type": "stream",
     "text": [
      "Epoch [117/150] Training: Loss_G: 0.7008 | Loss_D: 0.7018\n"
     ]
    },
    {
     "name": "stderr",
     "output_type": "stream",
     "text": [
      "Epoch [118/150]: 100%|██████████| 180/180 [01:46<00:00,  1.68it/s]\n"
     ]
    },
    {
     "name": "stdout",
     "output_type": "stream",
     "text": [
      "Epoch [118/150] Training: Loss_G: 0.7033 | Loss_D: 0.7015\n"
     ]
    },
    {
     "name": "stderr",
     "output_type": "stream",
     "text": [
      "Epoch [119/150]: 100%|██████████| 180/180 [01:46<00:00,  1.68it/s]\n"
     ]
    },
    {
     "name": "stdout",
     "output_type": "stream",
     "text": [
      "Epoch [119/150] Training: Loss_G: 0.7005 | Loss_D: 0.7020\n"
     ]
    },
    {
     "name": "stderr",
     "output_type": "stream",
     "text": [
      "Epoch [120/150]: 100%|██████████| 180/180 [01:46<00:00,  1.68it/s]\n"
     ]
    },
    {
     "name": "stdout",
     "output_type": "stream",
     "text": [
      "Epoch [120/150] Training: Loss_G: 0.7005 | Loss_D: 0.7007\n"
     ]
    },
    {
     "name": "stderr",
     "output_type": "stream",
     "text": [
      "Epoch [121/150]: 100%|██████████| 180/180 [01:46<00:00,  1.68it/s]\n"
     ]
    },
    {
     "name": "stdout",
     "output_type": "stream",
     "text": [
      "Epoch [121/150] Training: Loss_G: 0.6985 | Loss_D: 0.7023\n"
     ]
    },
    {
     "name": "stderr",
     "output_type": "stream",
     "text": [
      "Epoch [122/150]: 100%|██████████| 180/180 [01:46<00:00,  1.68it/s]\n"
     ]
    },
    {
     "name": "stdout",
     "output_type": "stream",
     "text": [
      "Epoch [122/150] Training: Loss_G: 0.6926 | Loss_D: 0.6994\n"
     ]
    },
    {
     "name": "stderr",
     "output_type": "stream",
     "text": [
      "Epoch [123/150]: 100%|██████████| 180/180 [01:46<00:00,  1.68it/s]\n"
     ]
    },
    {
     "name": "stdout",
     "output_type": "stream",
     "text": [
      "Epoch [123/150] Training: Loss_G: 0.7040 | Loss_D: 0.7050\n"
     ]
    },
    {
     "name": "stderr",
     "output_type": "stream",
     "text": [
      "Epoch [124/150]: 100%|██████████| 180/180 [01:46<00:00,  1.68it/s]\n"
     ]
    },
    {
     "name": "stdout",
     "output_type": "stream",
     "text": [
      "Epoch [124/150] Training: Loss_G: 0.7035 | Loss_D: 0.7019\n"
     ]
    },
    {
     "name": "stderr",
     "output_type": "stream",
     "text": [
      "Epoch [125/150]: 100%|██████████| 180/180 [01:46<00:00,  1.68it/s]\n"
     ]
    },
    {
     "name": "stdout",
     "output_type": "stream",
     "text": [
      "Epoch [125/150] Training: Loss_G: 0.7004 | Loss_D: 0.6998\n"
     ]
    },
    {
     "name": "stderr",
     "output_type": "stream",
     "text": [
      "Epoch [126/150]: 100%|██████████| 180/180 [01:46<00:00,  1.68it/s]\n"
     ]
    },
    {
     "name": "stdout",
     "output_type": "stream",
     "text": [
      "Epoch [126/150] Training: Loss_G: 0.7048 | Loss_D: 0.6993\n"
     ]
    },
    {
     "name": "stderr",
     "output_type": "stream",
     "text": [
      "Epoch [127/150]: 100%|██████████| 180/180 [01:46<00:00,  1.68it/s]\n"
     ]
    },
    {
     "name": "stdout",
     "output_type": "stream",
     "text": [
      "Epoch [127/150] Training: Loss_G: 0.7029 | Loss_D: 0.6975\n"
     ]
    },
    {
     "name": "stderr",
     "output_type": "stream",
     "text": [
      "Epoch [128/150]: 100%|██████████| 180/180 [01:46<00:00,  1.68it/s]\n"
     ]
    },
    {
     "name": "stdout",
     "output_type": "stream",
     "text": [
      "Epoch [128/150] Training: Loss_G: 0.7050 | Loss_D: 0.7026\n"
     ]
    },
    {
     "name": "stderr",
     "output_type": "stream",
     "text": [
      "Epoch [129/150]: 100%|██████████| 180/180 [01:46<00:00,  1.68it/s]\n"
     ]
    },
    {
     "name": "stdout",
     "output_type": "stream",
     "text": [
      "Epoch [129/150] Training: Loss_G: 0.7026 | Loss_D: 0.7025\n"
     ]
    },
    {
     "name": "stderr",
     "output_type": "stream",
     "text": [
      "Epoch [130/150]: 100%|██████████| 180/180 [01:46<00:00,  1.68it/s]\n"
     ]
    },
    {
     "name": "stdout",
     "output_type": "stream",
     "text": [
      "Epoch [130/150] Training: Loss_G: 0.6975 | Loss_D: 0.7001\n"
     ]
    },
    {
     "name": "stderr",
     "output_type": "stream",
     "text": [
      "Epoch [131/150]: 100%|██████████| 180/180 [01:46<00:00,  1.68it/s]\n"
     ]
    },
    {
     "name": "stdout",
     "output_type": "stream",
     "text": [
      "Epoch [131/150] Training: Loss_G: 0.7000 | Loss_D: 0.7015\n"
     ]
    },
    {
     "name": "stderr",
     "output_type": "stream",
     "text": [
      "Epoch [132/150]: 100%|██████████| 180/180 [01:46<00:00,  1.68it/s]\n"
     ]
    },
    {
     "name": "stdout",
     "output_type": "stream",
     "text": [
      "Epoch [132/150] Training: Loss_G: 0.7038 | Loss_D: 0.7028\n"
     ]
    },
    {
     "name": "stderr",
     "output_type": "stream",
     "text": [
      "Epoch [133/150]: 100%|██████████| 180/180 [01:46<00:00,  1.68it/s]\n"
     ]
    },
    {
     "name": "stdout",
     "output_type": "stream",
     "text": [
      "Epoch [133/150] Training: Loss_G: 0.7045 | Loss_D: 0.7025\n"
     ]
    },
    {
     "name": "stderr",
     "output_type": "stream",
     "text": [
      "Epoch [134/150]: 100%|██████████| 180/180 [01:46<00:00,  1.68it/s]\n"
     ]
    },
    {
     "name": "stdout",
     "output_type": "stream",
     "text": [
      "Epoch [134/150] Training: Loss_G: 0.7006 | Loss_D: 0.7002\n"
     ]
    },
    {
     "name": "stderr",
     "output_type": "stream",
     "text": [
      "Epoch [135/150]: 100%|██████████| 180/180 [01:46<00:00,  1.68it/s]\n"
     ]
    },
    {
     "name": "stdout",
     "output_type": "stream",
     "text": [
      "Epoch [135/150] Training: Loss_G: 0.6994 | Loss_D: 0.7011\n"
     ]
    },
    {
     "name": "stderr",
     "output_type": "stream",
     "text": [
      "Epoch [136/150]: 100%|██████████| 180/180 [01:46<00:00,  1.68it/s]\n"
     ]
    },
    {
     "name": "stdout",
     "output_type": "stream",
     "text": [
      "Epoch [136/150] Training: Loss_G: 0.7011 | Loss_D: 0.7006\n"
     ]
    },
    {
     "name": "stderr",
     "output_type": "stream",
     "text": [
      "Epoch [137/150]: 100%|██████████| 180/180 [01:46<00:00,  1.68it/s]\n"
     ]
    },
    {
     "name": "stdout",
     "output_type": "stream",
     "text": [
      "Epoch [137/150] Training: Loss_G: 0.7044 | Loss_D: 0.7016\n"
     ]
    },
    {
     "name": "stderr",
     "output_type": "stream",
     "text": [
      "Epoch [138/150]: 100%|██████████| 180/180 [01:46<00:00,  1.68it/s]\n"
     ]
    },
    {
     "name": "stdout",
     "output_type": "stream",
     "text": [
      "Epoch [138/150] Training: Loss_G: 0.7043 | Loss_D: 0.7014\n"
     ]
    },
    {
     "name": "stderr",
     "output_type": "stream",
     "text": [
      "Epoch [139/150]: 100%|██████████| 180/180 [01:46<00:00,  1.68it/s]\n"
     ]
    },
    {
     "name": "stdout",
     "output_type": "stream",
     "text": [
      "Epoch [139/150] Training: Loss_G: 0.7035 | Loss_D: 0.7027\n"
     ]
    },
    {
     "name": "stderr",
     "output_type": "stream",
     "text": [
      "Epoch [140/150]: 100%|██████████| 180/180 [01:46<00:00,  1.68it/s]\n"
     ]
    },
    {
     "name": "stdout",
     "output_type": "stream",
     "text": [
      "Epoch [140/150] Training: Loss_G: 0.7008 | Loss_D: 0.7004\n"
     ]
    },
    {
     "name": "stderr",
     "output_type": "stream",
     "text": [
      "Epoch [141/150]: 100%|██████████| 180/180 [01:46<00:00,  1.68it/s]\n"
     ]
    },
    {
     "name": "stdout",
     "output_type": "stream",
     "text": [
      "Epoch [141/150] Training: Loss_G: 0.7004 | Loss_D: 0.7000\n"
     ]
    },
    {
     "name": "stderr",
     "output_type": "stream",
     "text": [
      "Epoch [142/150]: 100%|██████████| 180/180 [01:46<00:00,  1.68it/s]\n"
     ]
    },
    {
     "name": "stdout",
     "output_type": "stream",
     "text": [
      "Epoch [142/150] Training: Loss_G: 0.7010 | Loss_D: 0.7015\n"
     ]
    },
    {
     "name": "stderr",
     "output_type": "stream",
     "text": [
      "Epoch [143/150]: 100%|██████████| 180/180 [01:46<00:00,  1.68it/s]\n"
     ]
    },
    {
     "name": "stdout",
     "output_type": "stream",
     "text": [
      "Epoch [143/150] Training: Loss_G: 0.7022 | Loss_D: 0.7030\n"
     ]
    },
    {
     "name": "stderr",
     "output_type": "stream",
     "text": [
      "Epoch [144/150]: 100%|██████████| 180/180 [01:46<00:00,  1.68it/s]\n"
     ]
    },
    {
     "name": "stdout",
     "output_type": "stream",
     "text": [
      "Epoch [144/150] Training: Loss_G: 0.7006 | Loss_D: 0.7013\n"
     ]
    },
    {
     "name": "stderr",
     "output_type": "stream",
     "text": [
      "Epoch [145/150]: 100%|██████████| 180/180 [01:46<00:00,  1.68it/s]\n"
     ]
    },
    {
     "name": "stdout",
     "output_type": "stream",
     "text": [
      "Epoch [145/150] Training: Loss_G: 0.6998 | Loss_D: 0.7009\n"
     ]
    },
    {
     "name": "stderr",
     "output_type": "stream",
     "text": [
      "Epoch [146/150]: 100%|██████████| 180/180 [01:46<00:00,  1.68it/s]\n"
     ]
    },
    {
     "name": "stdout",
     "output_type": "stream",
     "text": [
      "Epoch [146/150] Training: Loss_G: 0.6969 | Loss_D: 0.7010\n"
     ]
    },
    {
     "name": "stderr",
     "output_type": "stream",
     "text": [
      "Epoch [147/150]: 100%|██████████| 180/180 [01:46<00:00,  1.68it/s]\n"
     ]
    },
    {
     "name": "stdout",
     "output_type": "stream",
     "text": [
      "Epoch [147/150] Training: Loss_G: 0.6957 | Loss_D: 0.7017\n"
     ]
    },
    {
     "name": "stderr",
     "output_type": "stream",
     "text": [
      "Epoch [148/150]: 100%|██████████| 180/180 [01:46<00:00,  1.68it/s]\n"
     ]
    },
    {
     "name": "stdout",
     "output_type": "stream",
     "text": [
      "Epoch [148/150] Training: Loss_G: 0.6970 | Loss_D: 0.6984\n"
     ]
    },
    {
     "name": "stderr",
     "output_type": "stream",
     "text": [
      "Epoch [149/150]: 100%|██████████| 180/180 [01:46<00:00,  1.68it/s]\n"
     ]
    },
    {
     "name": "stdout",
     "output_type": "stream",
     "text": [
      "Epoch [149/150] Training: Loss_G: 0.7016 | Loss_D: 0.7029\n"
     ]
    },
    {
     "name": "stderr",
     "output_type": "stream",
     "text": [
      "Epoch [150/150]: 100%|██████████| 180/180 [01:46<00:00,  1.68it/s]\n"
     ]
    },
    {
     "name": "stdout",
     "output_type": "stream",
     "text": [
      "Epoch [150/150] Training: Loss_G: 0.7000 | Loss_D: 0.6998\n"
     ]
    }
   ],
   "source": [
    "# TRAINING\n",
    "\n",
    "# directory for saving model checkpoints\n",
    "os.makedirs(\"FINAL\", exist_ok=True)\n",
    "\n",
    "for epoch in range(num_epochs):\n",
    "    generator_2d_to_3d.train()\n",
    "    discriminator_3d.train()\n",
    "\n",
    "    epoch_loss_G = 0.0\n",
    "    epoch_loss_D = 0.0\n",
    "\n",
    "    for batch in tqdm(train_loader, desc=f\"Epoch [{epoch+1}/{num_epochs}]\"):\n",
    "        frontal, lateral = batch['frontal'].to(device), batch['lateral'].to(device)\n",
    "        input_xrays = torch.cat((frontal, lateral), dim=1)\n",
    "\n",
    "        # -------------------\n",
    "        # Train Generator\n",
    "        # -------------------\n",
    "        optimizer_G.zero_grad()\n",
    "\n",
    "        # generating 3D from 2D\n",
    "        fake_3d = generator_2d_to_3d(input_xrays)\n",
    "\n",
    "        # adversarial Loss\n",
    "        real_labels = torch.ones_like(discriminator_3d(input_xrays, fake_3d)).to(device)\n",
    "        loss_G_adv = adversarial_loss(discriminator_3d(input_xrays, fake_3d), real_labels)\n",
    "\n",
    "        # total generator loss\n",
    "        loss_G = lambda_adv * loss_G_adv\n",
    "        loss_G.backward()\n",
    "        optimizer_G.step()\n",
    "\n",
    "        # -------------------\n",
    "        # Train Discriminator\n",
    "        # -------------------\n",
    "        optimizer_D.zero_grad()\n",
    "\n",
    "        # discriminator loss on real\n",
    "        real_scores = discriminator_3d(input_xrays, fake_3d.detach())\n",
    "        real_labels = torch.ones_like(real_scores).to(device)\n",
    "        loss_real = adversarial_loss(real_scores, real_labels)\n",
    "\n",
    "        # discriminator Loss on fake\n",
    "        fake_scores = discriminator_3d(input_xrays, fake_3d.detach())\n",
    "        fake_labels = torch.zeros_like(fake_scores).to(device)\n",
    "        loss_fake = adversarial_loss(fake_scores, fake_labels)\n",
    "\n",
    "        # total discriminator loss\n",
    "        loss_D = (loss_real + loss_fake) / 2\n",
    "        loss_D.backward()\n",
    "        optimizer_D.step()\n",
    "\n",
    "        # accumulating losses\n",
    "        epoch_loss_G += loss_G.item()\n",
    "        epoch_loss_D += loss_D.item()\n",
    "\n",
    "    # calculating average losses\n",
    "    avg_loss_G = epoch_loss_G / len(train_loader)\n",
    "    avg_loss_D = epoch_loss_D / len(train_loader)\n",
    "\n",
    "    # appending epoch losses\n",
    "    losses[\"G\"].append(avg_loss_G)\n",
    "    losses[\"D\"].append(avg_loss_D)\n",
    "\n",
    "    # printing losses for the epoch\n",
    "    print(\n",
    "        f\"Epoch [{epoch+1}/{num_epochs}] Training: \"\n",
    "        f\"Loss_G: {avg_loss_G:.4f} | \"\n",
    "        f\"Loss_D: {avg_loss_D:.4f}\"\n",
    "    )\n",
    "\n",
    "    # saving checkpoint every 10 epochs\n",
    "    if (epoch + 1) % 25 == 0:\n",
    "        torch.save(generator_2d_to_3d.state_dict(), f\"FINAL/generator_2d_to_3d_epoch_{epoch+1}.pth\")\n",
    "        torch.save(discriminator_3d.state_dict(), f\"FINAL/discriminator_3d_epoch_{epoch+1}.pth\")\n",
    "\n",
    "# saving final model\n",
    "torch.save(generator_2d_to_3d.state_dict(), \"FINAL/generator_2d_to_3d_final.pth\")\n",
    "torch.save(discriminator_3d.state_dict(), \"FINAL/discriminator_3d_final.pth\")"
   ]
  },
  {
   "cell_type": "code",
   "execution_count": 36,
   "id": "10068c9d",
   "metadata": {},
   "outputs": [
    {
     "name": "stdout",
     "output_type": "stream",
     "text": [
      "Average SSIM: 0.0051\n",
      "Average PSNR: 5.8412\n"
     ]
    }
   ],
   "source": [
    "def evaluate_model(test_loader, generator_2d_to_3d, device):\n",
    "\n",
    "    generator_2d_to_3d.eval()\n",
    "\n",
    "    total_ssim = 0.0\n",
    "    total_psnr = 0.0\n",
    "    num_slices = 0\n",
    "\n",
    "    with torch.no_grad():\n",
    "        for batch in test_loader:\n",
    "            frontal = batch['frontal'].to(device)\n",
    "            lateral = batch['lateral'].to(device)\n",
    "            input_xrays = torch.cat((frontal, lateral), dim=1)  \n",
    "\n",
    "            # generating 3D output\n",
    "            fake_3d = generator_2d_to_3d(input_xrays)\n",
    "\n",
    "            # looping over batch\n",
    "            for i in range(fake_3d.size(0)):\n",
    "                generated_3d = fake_3d[i].cpu().numpy()  \n",
    "                original_frontal = frontal[i].cpu().numpy()  \n",
    "\n",
    "                # normalizing generated and original images \n",
    "                generated_3d = np.clip(generated_3d, 0, 1)\n",
    "                original_frontal = np.clip(original_frontal[0], 0, 1)  \n",
    "\n",
    "                # resizing the original frontal input to match 3D slice dimensions\n",
    "                resized_original = np.resize(original_frontal, generated_3d.shape[1:])\n",
    "\n",
    "                # computing metrics slice-by-slice\n",
    "                for slice_idx in range(generated_3d.shape[0]):  # iterate over the depth dimension\n",
    "                    slice_generated = generated_3d[slice_idx]\n",
    "                    slice_original = resized_original  # same resized frontal input for each slice\n",
    "\n",
    "                    total_ssim += ssim(slice_generated, slice_original, data_range=1.0, win_size=3)\n",
    "                    total_psnr += psnr(slice_generated, slice_original, data_range=1.0)\n",
    "                    num_slices += 1\n",
    "\n",
    "    # average metrics\n",
    "    avg_ssim = total_ssim / num_slices if num_slices > 0 else 0\n",
    "    avg_psnr = total_psnr / num_slices if num_slices > 0 else 0\n",
    "    print(f\"Average SSIM: {avg_ssim:.4f}\")\n",
    "    print(f\"Average PSNR: {avg_psnr:.4f}\")\n",
    "\n",
    "    return avg_ssim, avg_psnr\n",
    "\n",
    "\n",
    "generator_2d_to_3d.eval()\n",
    "avg_ssim, avg_psnr = evaluate_model(test_loader, generator_2d_to_3d, device)"
   ]
  },
  {
   "cell_type": "code",
   "execution_count": 33,
   "id": "2219dfea",
   "metadata": {},
   "outputs": [
    {
     "data": {
      "image/png": "[encoded data removed]",
      "text/plain": [
       "<Figure size 1000x600 with 1 Axes>"
      ]
     },
     "metadata": {},
     "output_type": "display_data"
    }
   ],
   "source": [
    "def plot_losses(losses, save_path=None):\n",
    "\n",
    "    epochs = range(1, len(losses['G']) + 1)\n",
    "\n",
    "    plt.figure(figsize=(10, 6))\n",
    "    plt.plot(epochs, losses['G'], label=\"Generator Loss (G)\")\n",
    "    plt.plot(epochs, losses['D'], label=\"Discriminator Loss (D)\")\n",
    "    \n",
    "    plt.title(\"Training Losses Over Epochs\", fontsize=16)\n",
    "    plt.xlabel(\"Epochs\", fontsize=14)\n",
    "    plt.ylabel(\"Loss\", fontsize=14)\n",
    "    plt.legend(fontsize=12)\n",
    "    plt.grid(True)\n",
    "    \n",
    "    if save_path:\n",
    "        plt.savefig(save_path)\n",
    "        print(f\"Loss plot saved to {save_path}\")\n",
    "    else:\n",
    "        plt.show()\n",
    "\n",
    "    \n",
    "plot_losses(losses)"
   ]
  },
  {
   "cell_type": "code",
   "execution_count": 40,
   "id": "6d46e8d3",
   "metadata": {},
   "outputs": [
    {
     "name": "stdout",
     "output_type": "stream",
     "text": [
      "Shape of the generated 3D volume: (1, 64, 64, 64)\n",
      "Shape after squeezing: (64, 64, 64)\n"
     ]
    },
    {
     "data": {
      "image/png": "[encoded data removed]",
      "text/plain": [
       "<Figure size 1000x700 with 2 Axes>"
      ]
     },
     "metadata": {},
     "output_type": "display_data"
    }
   ],
   "source": [
    "\n",
    "\n",
    "# Assuming `fake_3d` is the output from your generator, shape: [batch_size, depth, height, width]\n",
    "# Get one sample from the generated batch and convert it to numpy\n",
    "fake_3d_sample = fake_3d[0].detach().cpu().numpy()  # Shape: (channels, depth, height, width)\n",
    "\n",
    "# Check the dimensions of `fake_3d_sample`\n",
    "print(f\"Shape of the generated 3D volume: {fake_3d_sample.shape}\")\n",
    "\n",
    "# If fake_3d_sample has 4 dimensions (e.g., [channels, depth, height, width]), squeeze to remove the channel dimension\n",
    "if len(fake_3d_sample.shape) == 4:\n",
    "    fake_3d_sample = np.squeeze(fake_3d_sample, axis=0)  # Remove the channel dimension\n",
    "    print(f\"Shape after squeezing: {fake_3d_sample.shape}\")\n",
    "\n",
    "# Select a specific slice along the depth axis (e.g., middle slice)\n",
    "slice_idx = fake_3d_sample.shape[0] // 2  # Middle slice along the depth dimension\n",
    "data_slice = fake_3d_sample[slice_idx, :, :]  # Shape: (height, width)\n",
    "\n",
    "# Ensure that data_slice is 2D\n",
    "assert len(data_slice.shape) == 2, f\"data_slice must be 2D but got shape {data_slice.shape}\"\n",
    "\n",
    "# Create a meshgrid for the x, y coordinates\n",
    "x = np.linspace(0, data_slice.shape[1] - 1, data_slice.shape[1])  # Columns correspond to X-axis\n",
    "y = np.linspace(0, data_slice.shape[0] - 1, data_slice.shape[0])  # Rows correspond to Y-axis\n",
    "x, y = np.meshgrid(x, y)\n",
    "\n",
    "# Create the figure and 3D axis\n",
    "fig = plt.figure(figsize=(10, 7))\n",
    "ax = fig.add_subplot(111, projection='3d')\n",
    "\n",
    "# Plot the 3D surface of the middle slice\n",
    "surface = ax.plot_surface(x, y, data_slice, cmap='gray', edgecolor='none')\n",
    "\n",
    "# Add a color bar\n",
    "plt.colorbar(surface, ax=ax, shrink=0.5, aspect=5)\n",
    "\n",
    "# Set the labels and other customizations\n",
    "ax.set_xlabel('X')\n",
    "ax.set_ylabel('Y')\n",
    "ax.set_zlabel('Intensity')\n",
    "\n",
    "# Customize the view to match the image style\n",
    "ax.view_init(elev=30, azim=30)\n",
    "\n",
    "# Show the plot\n",
    "plt.show()\n"
   ]
  },
  {
   "cell_type": "code",
   "execution_count": null,
   "id": "2f2256fb",
   "metadata": {},
   "outputs": [],
   "source": []
  }
 ],
 "metadata": {
  "kernelspec": {
   "display_name": "Python 3 (ipykernel)",
   "language": "python",
   "name": "python3"
  },
  "language_info": {
   "codemirror_mode": {
    "name": "ipython",
    "version": 3
   },
   "file_extension": ".py",
   "mimetype": "text/x-python",
   "name": "python",
   "nbconvert_exporter": "python",
   "pygments_lexer": "ipython3",
   "version": "3.10.12"
  }
 },
 "nbformat": 4,
 "nbformat_minor": 5
}
